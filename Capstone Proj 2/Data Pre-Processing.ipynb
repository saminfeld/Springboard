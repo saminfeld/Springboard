{
 "cells": [
  {
   "cell_type": "code",
   "execution_count": 1,
   "metadata": {
    "collapsed": true
   },
   "outputs": [],
   "source": [
    "import pandas as pd\n",
    "import matplotlib.pyplot as plt\n",
    "%matplotlib inline\n",
    "import scipy as sp\n",
    "import seaborn as sns\n",
    "import numpy as np\n",
    "from sklearn.preprocessing import StandardScaler"
   ]
  },
  {
   "cell_type": "code",
   "execution_count": 2,
   "metadata": {},
   "outputs": [
    {
     "data": {
      "text/plain": [
       "(2153, 52)"
      ]
     },
     "execution_count": 2,
     "metadata": {},
     "output_type": "execute_result"
    }
   ],
   "source": [
    "career = pd.read_csv('Data/career1.csv')\n",
    "career = career.set_index('Unnamed: 0')\n",
    "#filter bad columns\n",
    "anyonecan = ['Longest Pass','Longest Reception','Longest Rushing Run']\n",
    "messedup = ['Seasons','Fumbles']\n",
    "career = career.drop(messedup + anyonecan,axis=1)\n",
    "\n",
    "###### make new columns\n",
    "career['SB'] = career['SB Win'] + career['SB Loss']\n",
    "career['RRYd'] = career['Rushing Yards adj'] + career['Receiving Yards adj']\n",
    "career['RRTD'] = career['Rushing TDs adj'] + career['Receiving TDs adj']\n",
    "\n",
    "#make appendix\n",
    "appendix = pd.DataFrame()\n",
    "appendix['Columns'] = career.columns\n",
    "for a in career.columns:\n",
    "    dtype = career[str(a)].dtype\n",
    "    appendix.loc[appendix['Columns']==a,'Data Type'] = dtype\n",
    "\n",
    "\n",
    "#current players\n",
    "currentplayers= career[career['Last Year']>2005]\n",
    "#training data\n",
    "career= career[career['First Year']>1960]\n",
    "career = career[career['Last Year']<2006]\n",
    "career.shape"
   ]
  },
  {
   "cell_type": "markdown",
   "metadata": {},
   "source": [
    "## Lasso"
   ]
  },
  {
   "cell_type": "code",
   "execution_count": 3,
   "metadata": {},
   "outputs": [
    {
     "name": "stderr",
     "output_type": "stream",
     "text": [
      "/Users/apple/anaconda3/lib/python3.5/site-packages/sklearn/linear_model/coordinate_descent.py:491: ConvergenceWarning: Objective did not converge. You might want to increase the number of iterations. Fitting data with very small alpha may cause precision problems.\n",
      "  ConvergenceWarning)\n"
     ]
    },
    {
     "data": {
      "text/html": [
       "<div>\n",
       "<style>\n",
       "    .dataframe thead tr:only-child th {\n",
       "        text-align: right;\n",
       "    }\n",
       "\n",
       "    .dataframe thead th {\n",
       "        text-align: left;\n",
       "    }\n",
       "\n",
       "    .dataframe tbody tr th {\n",
       "        vertical-align: top;\n",
       "    }\n",
       "</style>\n",
       "<table border=\"1\" class=\"dataframe\">\n",
       "  <thead>\n",
       "    <tr style=\"text-align: right;\">\n",
       "      <th></th>\n",
       "      <th>alpha</th>\n",
       "      <th># of features</th>\n",
       "    </tr>\n",
       "  </thead>\n",
       "  <tbody>\n",
       "    <tr>\n",
       "      <th>0</th>\n",
       "      <td>1</td>\n",
       "      <td>0</td>\n",
       "    </tr>\n",
       "    <tr>\n",
       "      <th>1</th>\n",
       "      <td>0.1</td>\n",
       "      <td>0</td>\n",
       "    </tr>\n",
       "    <tr>\n",
       "      <th>2</th>\n",
       "      <td>0.01</td>\n",
       "      <td>10</td>\n",
       "    </tr>\n",
       "    <tr>\n",
       "      <th>3</th>\n",
       "      <td>0.001</td>\n",
       "      <td>24</td>\n",
       "    </tr>\n",
       "    <tr>\n",
       "      <th>4</th>\n",
       "      <td>0.0001</td>\n",
       "      <td>40</td>\n",
       "    </tr>\n",
       "  </tbody>\n",
       "</table>\n",
       "</div>"
      ],
      "text/plain": [
       "    alpha # of features\n",
       "0       1             0\n",
       "1     0.1             0\n",
       "2    0.01            10\n",
       "3   0.001            24\n",
       "4  0.0001            40"
      ]
     },
     "execution_count": 3,
     "metadata": {},
     "output_type": "execute_result"
    }
   ],
   "source": [
    "from sklearn.linear_model import Lasso, Ridge, LassoCV, LogisticRegression\n",
    "from sklearn.feature_selection import SelectKBest, SelectFromModel\n",
    "#separate predictor columns\n",
    "text_hof = ['Name','Player Id','HOF','Position']\n",
    "data = career.drop(text_hof,axis=1)\n",
    "#standardize features\n",
    "scaler = StandardScaler()\n",
    "X = scaler.fit_transform(data)\n",
    "#make new df and calculate # of features for different alpha levels\n",
    "new_df = pd.DataFrame(columns=['alpha','# of features'])\n",
    "rowcount = 0\n",
    "for a in [1,.1,.01,.001,.0001]:\n",
    "    clf = Lasso(alpha=a)\n",
    "    clf.fit(X,career['HOF'])\n",
    "    var_count = pd.DataFrame(abs(clf.coef_),columns=['coef'])\n",
    "    var_count = len(var_count[var_count['coef']>0])\n",
    "    new_df.loc[rowcount,'alpha'] = a\n",
    "    new_df.loc[rowcount,'# of features'] = var_count\n",
    "    rowcount += 1\n",
    "new_df"
   ]
  },
  {
   "cell_type": "code",
   "execution_count": 4,
   "metadata": {
    "scrolled": true
   },
   "outputs": [
    {
     "data": {
      "text/plain": [
       "['RRTD',\n",
       " 'SB MVP',\n",
       " 'Receiving Yards Per Game',\n",
       " 'Rushing Yards adj',\n",
       " 'MVP',\n",
       " 'PGWD',\n",
       " 'TD Passes adj',\n",
       " 'RRYd',\n",
       " 'Passing Yards Per Game',\n",
       " 'SB']"
      ]
     },
     "execution_count": 4,
     "metadata": {},
     "output_type": "execute_result"
    }
   ],
   "source": [
    "#choose optimal alpha level and get our new features\n",
    "clf = Lasso(alpha=.01)\n",
    "clf.fit(X,career['HOF'])\n",
    "df = pd.DataFrame({'columns': data.columns,\n",
    "              'doef': abs(clf.coef_)}).sort_values('doef',ascending=False)\n",
    "columns_wanted = list(df.loc[df['doef']>0,'columns'])\n",
    "columns_wanted"
   ]
  },
  {
   "cell_type": "code",
   "execution_count": 5,
   "metadata": {},
   "outputs": [
    {
     "data": {
      "text/plain": [
       "(2153, 14)"
      ]
     },
     "execution_count": 5,
     "metadata": {},
     "output_type": "execute_result"
    }
   ],
   "source": [
    "career = career[columns_wanted + text_hof]\n",
    "currentplayers = currentplayers[columns_wanted + text_hof]\n",
    "career.shape"
   ]
  },
  {
   "cell_type": "code",
   "execution_count": 6,
   "metadata": {
    "collapsed": true
   },
   "outputs": [],
   "source": [
    "#save csv files\n",
    "career.to_csv('Data/career.csv')\n",
    "currentplayers.to_csv('Data/currentplayers.csv')"
   ]
  },
  {
   "cell_type": "code",
   "execution_count": 7,
   "metadata": {},
   "outputs": [
    {
     "data": {
      "text/html": [
       "<div>\n",
       "<style>\n",
       "    .dataframe thead tr:only-child th {\n",
       "        text-align: right;\n",
       "    }\n",
       "\n",
       "    .dataframe thead th {\n",
       "        text-align: left;\n",
       "    }\n",
       "\n",
       "    .dataframe tbody tr th {\n",
       "        vertical-align: top;\n",
       "    }\n",
       "</style>\n",
       "<table border=\"1\" class=\"dataframe\">\n",
       "  <thead>\n",
       "    <tr style=\"text-align: right;\">\n",
       "      <th></th>\n",
       "      <th>Columns</th>\n",
       "      <th>Data Type</th>\n",
       "    </tr>\n",
       "  </thead>\n",
       "  <tbody>\n",
       "    <tr>\n",
       "      <th>0</th>\n",
       "      <td>RRTD</td>\n",
       "      <td>float64</td>\n",
       "    </tr>\n",
       "    <tr>\n",
       "      <th>1</th>\n",
       "      <td>SB MVP</td>\n",
       "      <td>float64</td>\n",
       "    </tr>\n",
       "    <tr>\n",
       "      <th>2</th>\n",
       "      <td>Receiving Yards Per Game</td>\n",
       "      <td>float64</td>\n",
       "    </tr>\n",
       "    <tr>\n",
       "      <th>3</th>\n",
       "      <td>Rushing Yards adj</td>\n",
       "      <td>float64</td>\n",
       "    </tr>\n",
       "    <tr>\n",
       "      <th>4</th>\n",
       "      <td>MVP</td>\n",
       "      <td>float64</td>\n",
       "    </tr>\n",
       "    <tr>\n",
       "      <th>5</th>\n",
       "      <td>PGWD</td>\n",
       "      <td>float64</td>\n",
       "    </tr>\n",
       "    <tr>\n",
       "      <th>6</th>\n",
       "      <td>TD Passes adj</td>\n",
       "      <td>float64</td>\n",
       "    </tr>\n",
       "    <tr>\n",
       "      <th>7</th>\n",
       "      <td>RRYd</td>\n",
       "      <td>float64</td>\n",
       "    </tr>\n",
       "    <tr>\n",
       "      <th>8</th>\n",
       "      <td>Passing Yards Per Game</td>\n",
       "      <td>float64</td>\n",
       "    </tr>\n",
       "    <tr>\n",
       "      <th>9</th>\n",
       "      <td>SB</td>\n",
       "      <td>float64</td>\n",
       "    </tr>\n",
       "    <tr>\n",
       "      <th>10</th>\n",
       "      <td>Name</td>\n",
       "      <td>object</td>\n",
       "    </tr>\n",
       "    <tr>\n",
       "      <th>11</th>\n",
       "      <td>Player Id</td>\n",
       "      <td>object</td>\n",
       "    </tr>\n",
       "    <tr>\n",
       "      <th>12</th>\n",
       "      <td>HOF</td>\n",
       "      <td>int64</td>\n",
       "    </tr>\n",
       "    <tr>\n",
       "      <th>13</th>\n",
       "      <td>Position</td>\n",
       "      <td>int64</td>\n",
       "    </tr>\n",
       "  </tbody>\n",
       "</table>\n",
       "</div>"
      ],
      "text/plain": [
       "                     Columns Data Type\n",
       "0                       RRTD   float64\n",
       "1                     SB MVP   float64\n",
       "2   Receiving Yards Per Game   float64\n",
       "3          Rushing Yards adj   float64\n",
       "4                        MVP   float64\n",
       "5                       PGWD   float64\n",
       "6              TD Passes adj   float64\n",
       "7                       RRYd   float64\n",
       "8     Passing Yards Per Game   float64\n",
       "9                         SB   float64\n",
       "10                      Name    object\n",
       "11                 Player Id    object\n",
       "12                       HOF     int64\n",
       "13                  Position     int64"
      ]
     },
     "execution_count": 7,
     "metadata": {},
     "output_type": "execute_result"
    }
   ],
   "source": [
    "#create an appendix\n",
    "appendix = pd.DataFrame()\n",
    "appendix['Columns'] = career.columns\n",
    "for a in career.columns:\n",
    "    dtype = career[str(a)].dtype\n",
    "    appendix.loc[appendix['Columns']==a,'Data Type'] = dtype\n",
    "\n",
    "appendix"
   ]
  }
 ],
 "metadata": {
  "kernelspec": {
   "display_name": "Python [conda root]",
   "language": "python",
   "name": "conda-root-py"
  },
  "language_info": {
   "codemirror_mode": {
    "name": "ipython",
    "version": 3
   },
   "file_extension": ".py",
   "mimetype": "text/x-python",
   "name": "python",
   "nbconvert_exporter": "python",
   "pygments_lexer": "ipython3",
   "version": "3.5.3"
  }
 },
 "nbformat": 4,
 "nbformat_minor": 2
}
