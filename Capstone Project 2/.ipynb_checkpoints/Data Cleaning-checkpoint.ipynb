{
 "cells": [
  {
   "cell_type": "code",
   "execution_count": 45,
   "metadata": {
    "collapsed": true
   },
   "outputs": [],
   "source": [
    "import pandas as pd\n",
    "import matplotlib.pyplot as plt\n",
    "%matplotlib inline\n",
    "import scipy as sp\n",
    "import seaborn as sns\n",
    "import numpy as np"
   ]
  },
  {
   "cell_type": "markdown",
   "metadata": {},
   "source": [
    "#create list of unique columns\n",
    "ordered = []\n",
    "allcols = passing.columns.tolist() + rushing.columns.tolist() + receiving.columns.tolist()\n",
    "for c in allcols:\n",
    "    if c in ordered:\n",
    "        pass\n",
    "    else:\n",
    "        ordered.append(c)\n"
   ]
  },
  {
   "cell_type": "code",
   "execution_count": 46,
   "metadata": {},
   "outputs": [
    {
     "data": {
      "text/plain": [
       "(22546, 45)"
      ]
     },
     "execution_count": 46,
     "metadata": {},
     "output_type": "execute_result"
    }
   ],
   "source": [
    "#import data and fix 1 column name\n",
    "passing = pd.read_csv('Data/Career_Stats_Passing.csv')\n",
    "rushing = pd.read_csv('Data/Career_Stats_Rushing.csv')\n",
    "receiving = pd.read_csv('Data/Career_Stats_Receiving.csv')\n",
    "receiving = receiving.rename(columns={'Yards Per Game':'Receiving Yards Per Game'})\n",
    "\n",
    "#merge dfs\n",
    "df1 = passing.merge(rushing,'outer',on=['Player Id','Name','Position','Year','Team','Games Played'])\n",
    "df= df1.merge(receiving,'outer',on=['Player Id','Name','Position','Year','Team','Games Played'])\n",
    "\n",
    "#organize columns into objects, floats, and integers. make passer rating separate.\n",
    "objects = ['Player Id','Name','Position','Team']\n",
    "float_cols = ['Completion Percentage','Pass Attempts Per Game','Passing Yards Per Attempt',\n",
    "             'Passing Yards Per Game', 'Percentage of TDs per Attempts','Int Rate',\n",
    "              'Rushing Attempts Per Game','Yards Per Carry','Rushing Yards Per Game',\n",
    "             'Percentage of Rushing First Downs','Yards Per Reception',\n",
    "              'Receiving Yards Per Game']\n",
    "int_cols = df.columns.drop(objects + float_cols + ['Passer Rating']).tolist()\n",
    "\n",
    "#get rid of unwanted text\n",
    "#figure out which columns are numbers already, and which are strings\n",
    "already_num = ['Year','Games Played','Pass Attempts Per Game','Passer Rating',\n",
    "               'Rushing Attempts Per Game','Receiving Yards Per Game']\n",
    "\n",
    "#remove commas\n",
    "#remove text 'T'\n",
    "#change '--' to 0\n",
    "for c in df.columns.drop(objects + already_num):\n",
    "    df[c] = df[c].str.replace(',','')\n",
    "    df[c] = df[c].str.replace('T','')\n",
    "    df.loc[df[c]=='--',c]=0\n",
    "\n",
    "#fill na with 0\n",
    "df = df.fillna(0)\n",
    "\n",
    "#change dtypes\n",
    "df[int_cols]= df[int_cols].astype(int)\n",
    "df[float_cols]= df[float_cols].astype(float)\n",
    "\n",
    "#fix fumbles\n",
    "df['Fumbles'] = df['Fumbles_x'] + df['Fumbles_y']\n",
    "df=df.drop(['Fumbles_x','Fumbles_y'],axis=1)\n",
    "df= df.loc[df['Year']>1900]\n",
    "#add seasons\n",
    "df['Seasons']=1\n",
    "df.shape"
   ]
  },
  {
   "cell_type": "code",
   "execution_count": 47,
   "metadata": {
    "collapsed": true
   },
   "outputs": [],
   "source": [
    "### Create functions that will recalculate columns which are formulas\n",
    "\n",
    "#column formulas dictionary\n",
    "#the key is the column, and the values are the the numerator and denominator\n",
    "recalc_dict = {'Completion Percentage':('Passes Completed','Passes Attempted'),\n",
    "                     'Pass Attempts Per Game':('Passes Attempted','Games Played'),\n",
    "                     'Passing Yards Per Attempt':('Passing Yards','Passes Attempted'),\n",
    "                     'Passing Yards Per Game':('Passing Yards','Games Played'),\n",
    "                     'Percentage of TDs per Attempts':('TD Passes','Passes Attempted'),\n",
    "                     'Int Rate':('Ints','Passes Attempted'),\n",
    "                     'Rushing Attempts Per Game': ('Rushing Attempts','Games Played'),\n",
    "                     'Yards Per Carry':('Rushing Yards','Rushing Attempts'),\n",
    "                     'Rushing Yards Per Game':('Rushing Yards','Games Played'),\n",
    "                     'Percentage of Rushing First Downs':('Rushing First Downs','Rushing Attempts'),\n",
    "                     'Yards Per Reception':('Receiving Yards','Receptions'),\n",
    "                     'Receiving Yards Per Game':('Receiving Yards','Games Played')}\n",
    "\n",
    "# make function to recaluclate float columns\n",
    "def recalculate(df,dictionary):\n",
    "    columns = dictionary.keys()\n",
    "    for c in columns:\n",
    "        numerator = dictionary[c][0]\n",
    "        denominator = dictionary[c][1]\n",
    "        df[c] = 0\n",
    "        df.loc[df[denominator]>200,c] = df[numerator] / df[denominator]\n",
    "        df.loc[df[c].isnull(),c]= 0\n",
    "\n",
    "\n",
    "#function to recalculate passer rating\n",
    "def recalc_pr(df):\n",
    "    a = (df['Completion Percentage'] - .3) * 5\n",
    "    b = (df['Passing Yards Per Attempt'] - 3) * .25\n",
    "    c = (df['Percentage of TDs per Attempts'] * 20)\n",
    "    d = 2.375 - (df['Int Rate'] * 25)\n",
    "    df['Passer Rating'] = 0\n",
    "    df.loc[df['Passes Attempted']>200,'Passer Rating'] = ((a + b + c + d)/6)*100\n",
    "    df.loc[df['Passer Rating'].isnull(),'Passer Rating']=0\n"
   ]
  },
  {
   "cell_type": "code",
   "execution_count": 48,
   "metadata": {
    "collapsed": true
   },
   "outputs": [],
   "source": [
    "## get positions\n",
    "def get_position(df):\n",
    "    for row in np.arange(0,len(df)):\n",
    "        passing = df.loc[row,'Passing Yards']\n",
    "        rushing = df.loc[row,'Rushing Yards']\n",
    "        receiving = df.loc[row,'Receiving Yards']\n",
    "        highest = max(passing,rushing,receiving)\n",
    "        if highest == passing:\n",
    "            df.loc[row,'Position'] = 'QB'\n",
    "        elif highest == rushing:\n",
    "            df.loc[row,'Position'] = 'TB'\n",
    "        elif highest == receiving:\n",
    "            df.loc[row,'Position'] = 'WR/TE'\n"
   ]
  },
  {
   "cell_type": "code",
   "execution_count": 49,
   "metadata": {
    "collapsed": true
   },
   "outputs": [],
   "source": [
    "#function that fixes both floats and passer rating\n",
    "def recalc(df):\n",
    "    get_position(df)\n",
    "    recalculate(df,recalc_dict)\n",
    "    recalc_pr(df)"
   ]
  },
  {
   "cell_type": "code",
   "execution_count": 50,
   "metadata": {
    "collapsed": true
   },
   "outputs": [],
   "source": [
    "#function for inflation\n",
    "inf_dict = {}\n",
    "def inflation(df,groupby,col1):\n",
    "    #make new column and set default to 0\n",
    "    new_col = col1 + ' inf' \n",
    "    new_colmax = col1 + ' infmax'\n",
    "    new_column = col1 + ' inf%'\n",
    "    newnumber = col1 + ' adj'\n",
    "    #get the individual group we are checking for inflation\n",
    "    groups = df[groupby].unique()\n",
    "    #list of all top15s\n",
    "    top15s = []\n",
    "    for g in groups:\n",
    "        #get the group we want\n",
    "        thegroup = df.loc[df[groupby]==g].sort_values(col1,ascending=False).reset_index()\n",
    "        #find the mean of top 15 ppl and add to list\n",
    "        top15mean = thegroup.loc[0:14,col1].mean()\n",
    "        top15s.append(top15mean)\n",
    "        #set all people from that group to that mean\n",
    "        df.loc[df[groupby]==g,new_col] = top15mean\n",
    "    \n",
    "        \n",
    "    #set max column\n",
    "    df[new_colmax] = max(top15s)\n",
    "    #set inf%\n",
    "    df[new_column] = df[new_colmax] / df[new_col]\n",
    "    #make column for inflation adjusted number\n",
    "    df[newnumber] = df[col1] * df[new_column]\n",
    "    #drop the unneeded columns\n",
    "    df = df.drop([new_colmax,new_col],axis=1)\n",
    "    return df"
   ]
  },
  {
   "cell_type": "code",
   "execution_count": 51,
   "metadata": {
    "collapsed": true
   },
   "outputs": [],
   "source": [
    "def fix_inf(old_df,new_df,groupby,column):\n",
    "    diction = old_df[[groupby,column + ' inf%']].groupby(groupby).mean()\n",
    "    uniques = diction.index\n",
    "    for u in uniques:\n",
    "        new_df.loc[new_df[groupby]==u,column + ' inf%'] = diction.loc[u].mean()\n",
    "    new_df[column + ' adj'] = new_df[column] * new_df[column + ' inf%']\n",
    "    new_df = new_df.drop([column + ' inf%',column],axis=1)\n",
    "    return new_df"
   ]
  },
  {
   "cell_type": "code",
   "execution_count": 52,
   "metadata": {
    "collapsed": true
   },
   "outputs": [],
   "source": [
    "#Find min and max years\n",
    "def min_and_max(df,column):\n",
    "    minmax = pd.DataFrame()\n",
    "    players = df['Name'].unique()\n",
    "    minmax['Name'] = players\n",
    "    for p in players:\n",
    "        first = min(df.loc[df['Name']==p,column])\n",
    "        last = max(df.loc[df['Name']==p,column])\n",
    "        minmax.loc[minmax['Name']==p,'First ' + column] = first\n",
    "        minmax.loc[minmax['Name']==p,'Last ' + column] = last\n",
    "    return minmax\n",
    "minmax = min_and_max(df,'Year')"
   ]
  },
  {
   "cell_type": "code",
   "execution_count": 53,
   "metadata": {},
   "outputs": [
    {
     "data": {
      "text/plain": [
       "(22546, 47)"
      ]
     },
     "execution_count": 53,
     "metadata": {},
     "output_type": "execute_result"
    }
   ],
   "source": [
    "# Merge min and max years\n",
    "df = df.merge(minmax)\n",
    "df['First Year'] = df['First Year'].astype(int)\n",
    "df['Last Year'] = df['Last Year'].astype(int)\n",
    "df.shape"
   ]
  },
  {
   "cell_type": "code",
   "execution_count": 54,
   "metadata": {},
   "outputs": [
    {
     "name": "stdout",
     "output_type": "stream",
     "text": [
      "1945\n",
      "1914.93333333\n",
      "1970\n",
      "2694.73333333\n",
      "1955\n",
      "2279.93333333\n",
      "1950\n",
      "2197.0\n",
      "1940\n",
      "1300.66666667\n",
      "1935\n",
      "929.533333333\n",
      "2015\n",
      "4622.86666667\n",
      "2010\n",
      "5007.53333333\n",
      "2005\n",
      "4462.26666667\n",
      "2000\n",
      "4170.13333333\n",
      "1995\n",
      "4077.46666667\n",
      "1990\n",
      "3862.06666667\n",
      "1980\n",
      "4000.46666667\n",
      "1930\n",
      "313.066666667\n",
      "1975\n",
      "3299.2\n",
      "1965\n",
      "3200.73333333\n",
      "1960\n",
      "3083.86666667\n",
      "1985\n",
      "4035.2\n",
      "1925\n",
      "0.0\n",
      "1920\n",
      "0.0\n",
      "1945\n",
      "739.8\n",
      "1970\n",
      "1051.0\n",
      "1955\n",
      "815.0\n",
      "1950\n",
      "719.6\n",
      "1940\n",
      "482.0\n",
      "1935\n",
      "565.133333333\n",
      "2015\n",
      "1249.46666667\n",
      "2010\n",
      "1531.26666667\n",
      "2005\n",
      "1679.73333333\n",
      "2000\n",
      "1624.86666667\n",
      "1995\n",
      "1592.86666667\n",
      "1990\n",
      "1384.13333333\n",
      "1980\n",
      "1531.6\n",
      "1930\n",
      "564.4\n",
      "1975\n",
      "1371.0\n",
      "1965\n",
      "1077.66666667\n",
      "1960\n",
      "1090.06666667\n",
      "1985\n",
      "1486.46666667\n",
      "1925\n",
      "0.0\n",
      "1920\n",
      "0.0\n",
      "1945\n",
      "17.2\n",
      "1970\n",
      "19.9333333333\n",
      "1955\n",
      "16.8666666667\n",
      "1950\n",
      "18.0\n",
      "1940\n",
      "12.2666666667\n",
      "1935\n",
      "7.46666666667\n",
      "2015\n",
      "34.4\n",
      "2010\n",
      "40.2666666667\n",
      "2005\n",
      "32.6\n",
      "2000\n",
      "31.4\n",
      "1995\n",
      "31.2\n",
      "1990\n",
      "26.6\n",
      "1980\n",
      "29.5333333333\n",
      "1930\n",
      "3.13333333333\n",
      "1975\n",
      "21.1333333333\n",
      "1965\n",
      "25.8\n",
      "1960\n",
      "26.2\n",
      "1985\n",
      "28.2666666667\n",
      "1925\n",
      "2.06666666667\n",
      "1920\n",
      "0.0\n",
      "1945\n",
      "8.4\n",
      "1970\n",
      "9.73333333333\n",
      "1955\n",
      "8.0\n",
      "1950\n",
      "7.13333333333\n",
      "1940\n",
      "5.86666666667\n",
      "1935\n",
      "4.73333333333\n",
      "2015\n",
      "11.8\n",
      "2010\n",
      "13.0666666667\n",
      "2005\n",
      "17.0666666667\n",
      "2000\n",
      "14.4\n",
      "1995\n",
      "14.4666666667\n",
      "1990\n",
      "12.2666666667\n",
      "1980\n",
      "13.7333333333\n",
      "1930\n",
      "5.33333333333\n",
      "1975\n",
      "13.2666666667\n",
      "1965\n",
      "10.4666666667\n",
      "1960\n",
      "10.2666666667\n",
      "1985\n",
      "12.6666666667\n",
      "1925\n",
      "3.86666666667\n",
      "1920\n",
      "2.0\n",
      "1945\n",
      "747.266666667\n",
      "1970\n",
      "1002.06666667\n",
      "1955\n",
      "696.2\n",
      "1950\n",
      "832.2\n",
      "1940\n",
      "380.466666667\n",
      "1935\n",
      "419.4\n",
      "2015\n",
      "1432.0\n",
      "2010\n",
      "1585.73333333\n",
      "2005\n",
      "1439.93333333\n",
      "2000\n",
      "1392.86666667\n",
      "1995\n",
      "1368.4\n",
      "1990\n",
      "1370.86666667\n",
      "1980\n",
      "1217.93333333\n",
      "1930\n",
      "216.533333333\n",
      "1975\n",
      "1072.2\n",
      "1965\n",
      "1270.93333333\n",
      "1960\n",
      "1139.93333333\n",
      "1985\n",
      "1316.46666667\n",
      "1925\n",
      "0.0\n",
      "1920\n",
      "0.0\n",
      "1945\n",
      "8.33333333333\n",
      "1970\n",
      "10.4666666667\n",
      "1955\n",
      "6.33333333333\n",
      "1950\n",
      "9.0\n",
      "1940\n",
      "4.33333333333\n",
      "1935\n",
      "4.06666666667\n",
      "2015\n",
      "12.2\n",
      "2010\n",
      "13.8\n",
      "2005\n",
      "12.3333333333\n",
      "2000\n",
      "12.7333333333\n",
      "1995\n",
      "13.4\n",
      "1990\n",
      "12.4666666667\n",
      "1980\n",
      "10.6\n",
      "1930\n",
      "2.86666666667\n",
      "1975\n",
      "9.73333333333\n",
      "1965\n",
      "12.0\n",
      "1960\n",
      "11.2\n",
      "1985\n",
      "12.4\n",
      "1925\n",
      "2.53333333333\n",
      "1920\n",
      "0.0\n"
     ]
    }
   ],
   "source": [
    "df['5Year'] = df['Year'] // 5 *5\n",
    "df = inflation(df,'5Year','Passing Yards')\n",
    "df = inflation(df,'5Year','Rushing Yards')\n",
    "df = inflation(df,'5Year','TD Passes')\n",
    "df = inflation(df,'5Year','Rushing TDs')\n",
    "df = inflation(df,'5Year','Receiving Yards')\n",
    "df = inflation(df,'5Year','Receiving TDs')"
   ]
  },
  {
   "cell_type": "markdown",
   "metadata": {},
   "source": [
    "### Get Hall of Famers"
   ]
  },
  {
   "cell_type": "code",
   "execution_count": 55,
   "metadata": {},
   "outputs": [
    {
     "data": {
      "text/plain": [
       "(22541, 61)"
      ]
     },
     "execution_count": 55,
     "metadata": {},
     "output_type": "execute_result"
    }
   ],
   "source": [
    "#make df for HOF players\n",
    "hof = pd.read_csv('Data/hof.csv')\n",
    "#get only positions we want\n",
    "hof['Position'] = hof['Position'].astype(str)\n",
    "positions_wanted = ['RB','HB','TB','QB','TE','WR','FB']\n",
    "hof['NewCol']= False\n",
    "for r in np.arange(0,len(hof)):\n",
    "    position = hof.loc[r,'Position']\n",
    "    if position in positions_wanted:\n",
    "        hof.loc[r,'NewCol']= True\n",
    "hof = hof[hof['NewCol']==True]\n",
    "\n",
    "#remove slashes\n",
    "hof_players = pd.DataFrame(hof['Name'].str.split('\\\\',expand=True)[0])\n",
    "#change to format Last Name, First Name\n",
    "hof_players = hof_players[0].str.split(' ',expand=True)\n",
    "for c in hof_players.columns:\n",
    "    hof_players[c]=hof_players[c].astype(str)\n",
    "hof_players.loc[hof_players[2]=='None',2]=''\n",
    "hof_players['Name'] = hof_players[1] + hof_players[2] + ', ' + hof_players[0]\n",
    "hof['Name'] = hof_players['Name']\n",
    "#add hof column\n",
    "hof_players['HOF']=1\n",
    "#grab only columns we want\n",
    "hof_players = hof_players[['Name','HOF']]\n",
    "#merge hof players\n",
    "df1 = df.merge(hof_players,'outer')\n",
    "#separate out hof players who dont have stats in our previous dataset \n",
    "missing_hofers = df1[-51:]\n",
    "df1 = df1[:-51]\n",
    "df1.loc[df1['HOF'].isnull(),'HOF']=0\n",
    "df1['HOF']=df1['HOF'].astype(int)\n",
    "df1.shape"
   ]
  },
  {
   "cell_type": "markdown",
   "metadata": {},
   "source": [
    "### Bring in SB Data"
   ]
  },
  {
   "cell_type": "code",
   "execution_count": 56,
   "metadata": {},
   "outputs": [
    {
     "data": {
      "text/plain": [
       "(22541, 63)"
      ]
     },
     "execution_count": 56,
     "metadata": {},
     "output_type": "execute_result"
    }
   ],
   "source": [
    "#get sb data and reformat\n",
    "superbowls = pd.read_csv('Data/superbowls.csv')\n",
    "sbwinners = superbowls[['Year','Team','SB Win']]\n",
    "sblosers = superbowls[['Year','Loser','SB Loss']]\n",
    "sblosers = sblosers.rename(columns={'Loser':'Team'})\n",
    "\n",
    "df1 = df1.merge(sbwinners,'left')\n",
    "df1 = df1.merge(sblosers,'left')\n",
    "df1 = df1.fillna(0)\n",
    "df1.shape"
   ]
  },
  {
   "cell_type": "code",
   "execution_count": 57,
   "metadata": {},
   "outputs": [
    {
     "data": {
      "text/plain": [
       "Index(['Player Id', 'Name', 'Position', 'Year', 'Team', 'Games Played',\n",
       "       'Passes Attempted', 'Passes Completed', 'Completion Percentage',\n",
       "       'Pass Attempts Per Game', 'Passing Yards', 'Passing Yards Per Attempt',\n",
       "       'Passing Yards Per Game', 'TD Passes', 'Percentage of TDs per Attempts',\n",
       "       'Ints', 'Int Rate', 'Longest Pass', 'Passes Longer than 20 Yards',\n",
       "       'Passes Longer than 40 Yards', 'Sacks', 'Sacked Yards Lost',\n",
       "       'Passer Rating', 'Rushing Attempts', 'Rushing Attempts Per Game',\n",
       "       'Rushing Yards', 'Yards Per Carry', 'Rushing Yards Per Game',\n",
       "       'Rushing TDs', 'Longest Rushing Run', 'Rushing First Downs',\n",
       "       'Percentage of Rushing First Downs', 'Rushing More Than 20 Yards',\n",
       "       'Rushing More Than 40 Yards', 'Receptions', 'Receiving Yards',\n",
       "       'Yards Per Reception', 'Receiving Yards Per Game', 'Longest Reception',\n",
       "       'Receiving TDs', 'Receptions Longer than 20 Yards',\n",
       "       'Receptions Longer than 40 Yards', 'First Down Receptions', 'Fumbles',\n",
       "       'Seasons', 'First Year', 'Last Year', '5Year', 'Passing Yards inf%',\n",
       "       'Passing Yards adj', 'Rushing Yards inf%', 'Rushing Yards adj',\n",
       "       'TD Passes inf%', 'TD Passes adj', 'Rushing TDs inf%',\n",
       "       'Rushing TDs adj', 'Receiving Yards inf%', 'Receiving Yards adj',\n",
       "       'Receiving TDs inf%', 'Receiving TDs adj', 'HOF', 'SB Win', 'SB Loss'],\n",
       "      dtype='object')"
      ]
     },
     "execution_count": 57,
     "metadata": {},
     "output_type": "execute_result"
    }
   ],
   "source": [
    "df1.columns"
   ]
  },
  {
   "cell_type": "markdown",
   "metadata": {},
   "source": [
    "### Pivot to Career Stats"
   ]
  },
  {
   "cell_type": "code",
   "execution_count": 58,
   "metadata": {
    "collapsed": true
   },
   "outputs": [],
   "source": [
    "##pivot to change from yearly stats to career stats\n",
    "career = df1.pivot_table(index=['Player Id','Name','Position'],aggfunc=sum)\n",
    "career = career.reset_index()\n",
    "\n",
    "#change a few columns to means instead of sum\n",
    "df1['Year'] = df1['Year'].astype(int)\n",
    "for c in ['Year','First Year','Last Year','HOF','5Year']:\n",
    "    career[c] = (round(career[c] / career['Seasons'])).astype(int)\n",
    "    \n"
   ]
  },
  {
   "cell_type": "markdown",
   "metadata": {},
   "source": [
    "### Fix Missing HOFers data"
   ]
  },
  {
   "cell_type": "code",
   "execution_count": 59,
   "metadata": {
    "collapsed": true
   },
   "outputs": [],
   "source": [
    "#bring in career stats for missing hofers\n",
    "missing_hofers1 = missing_hofers.copy()\n",
    "missing_hofers1['Player Id'] = missing_hofers1['Name']\n",
    "missing_hofers1 = missing_hofers1[['Player Id','Name','HOF']]\n",
    "#merge stats from originall hof data\n",
    "missing_hofers1 = missing_hofers1.merge(hof)\n",
    "#only grab columns we want (the ones in our original df)\n",
    "common_cols = list(set(df.columns).intersection(missing_hofers1))\n",
    "missing_hofers1 = missing_hofers1[common_cols]\n",
    "missing_hofers1['HOF']=1\n",
    "###get missing hofers sb data\n",
    "missingsb = pd.read_csv('Data/missinghofsb.csv')\n",
    "missing_hofers1 = missing_hofers1.merge(missingsb,'left')\n",
    "#make estimate for hof seasons played\n",
    "missing_hofers1['Seasons'] = 8\n",
    "#merge in the missing hofers, and fill nas with 0s\n",
    "career = career.merge(missing_hofers1,'outer')\n",
    "career = career.fillna(0)\n",
    "career['HOF']=career['HOF'].astype(int)\n",
    "#fix inflation numbers\n",
    "recalc(career)\n",
    "career['5Year'] = career['Year'].round().astype(int) //5 *5\n",
    "career = fix_inf(df,career,'5Year','Passing Yards')\n",
    "career = fix_inf(df,career,'5Year','Rushing Yards')\n",
    "career = fix_inf(df,career,'5Year','Receiving Yards')\n",
    "career = fix_inf(df,career,'5Year','TD Passes')\n",
    "career = fix_inf(df,career,'5Year','Rushing TDs')\n",
    "career = fix_inf(df,career,'5Year','Receiving TDs')"
   ]
  },
  {
   "cell_type": "markdown",
   "metadata": {},
   "source": [
    "### Get MVP and SB MVP data"
   ]
  },
  {
   "cell_type": "code",
   "execution_count": 60,
   "metadata": {},
   "outputs": [
    {
     "data": {
      "text/plain": [
       "(4492, 52)"
      ]
     },
     "execution_count": 60,
     "metadata": {},
     "output_type": "execute_result"
    }
   ],
   "source": [
    "#get data\n",
    "mvp = pd.read_csv('Data/mvps.csv')\n",
    "#get sum of mvps per player\n",
    "mvp = mvp.pivot_table(index='Name',aggfunc=sum).reset_index().drop('Year',axis=1)\n",
    "career = career.merge(mvp,'left')\n",
    "career.loc[career['MVP'].isnull(),'MVP']=0\n",
    "\n",
    "#get data\n",
    "sbmvp = pd.read_csv('Data/sbmvps.csv')\n",
    "#get sum of sbmvps per player\n",
    "sbmvp = sbmvp.pivot_table(index='Name',aggfunc=sum).reset_index().drop('Year',axis=1)\n",
    "career = career.merge(sbmvp,'left')\n",
    "career.loc[career['SB MVP'].isnull(),'SB MVP']=0\n",
    "#fix dan marino & jim kelly\n",
    "career.loc[career['Name']=='Marino, Dan','SB Loss'] = 1\n",
    "career.loc[(career['Name']=='Kelly, Jim')&(career['Position']=='WR/TE'),'HOF']=0\n",
    "career.shape"
   ]
  },
  {
   "cell_type": "code",
   "execution_count": 61,
   "metadata": {},
   "outputs": [
    {
     "data": {
      "text/plain": [
       "(4492, 54)"
      ]
     },
     "execution_count": 61,
     "metadata": {},
     "output_type": "execute_result"
    }
   ],
   "source": [
    "### Get gw drives\n",
    "gwd = pd.read_csv('Data/gwd.csv')\n",
    "career = career.merge(gwd,'left')\n",
    "career = career.fillna(0)\n",
    "pgwd = pd.read_csv('Data/pgwd.csv')\n",
    "career = career.merge(pgwd,'left')\n",
    "career = career.fillna(0)\n",
    "career.shape\n"
   ]
  },
  {
   "cell_type": "code",
   "execution_count": 62,
   "metadata": {},
   "outputs": [
    {
     "data": {
      "text/plain": [
       "(4484, 54)"
      ]
     },
     "execution_count": 62,
     "metadata": {},
     "output_type": "execute_result"
    }
   ],
   "source": [
    "#remove hof tes\n",
    "tes = hof['Name'][hof['Position']=='TE']\n",
    "telist = []\n",
    "for a in tes:\n",
    "    ind = career[career['Name']==a].index[0]\n",
    "    telist.append(ind)\n",
    "career = career.drop(telist)\n",
    "\n",
    "#change position to number (for model)\n",
    "pos_dict = {'QB':0, 'TB':1, 'WR/TE':2}\n",
    "career = career.replace({'Position':pos_dict})\n",
    "career['Position'].astype('category')\n",
    "\n",
    "career.to_csv('Data/career1.csv')\n",
    "career.shape"
   ]
  },
  {
   "cell_type": "code",
   "execution_count": null,
   "metadata": {
    "collapsed": true
   },
   "outputs": [],
   "source": []
  }
 ],
 "metadata": {
  "kernelspec": {
   "display_name": "Python [conda root]",
   "language": "python",
   "name": "conda-root-py"
  },
  "language_info": {
   "codemirror_mode": {
    "name": "ipython",
    "version": 3
   },
   "file_extension": ".py",
   "mimetype": "text/x-python",
   "name": "python",
   "nbconvert_exporter": "python",
   "pygments_lexer": "ipython3",
   "version": "3.5.3"
  }
 },
 "nbformat": 4,
 "nbformat_minor": 2
}
