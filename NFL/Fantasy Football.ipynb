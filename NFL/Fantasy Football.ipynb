{
 "cells": [
  {
   "cell_type": "code",
   "execution_count": 2,
   "metadata": {
    "collapsed": true
   },
   "outputs": [],
   "source": [
    "import nflgame\n",
    "import numpy as np\n",
    "import pandas as pd\n",
    "import json\n",
    "from pandas.io.json import json_normalize\n",
    "%matplotlib inline\n",
    "import matplotlib.pyplot as plt\n",
    "import seaborn as sns\n",
    "from pylab import *\n",
    "import scipy.stats as ss"
   ]
  },
  {
   "cell_type": "code",
   "execution_count": 3,
   "metadata": {
    "collapsed": false
   },
   "outputs": [],
   "source": [
    "numb= np.arange(1,18).tolist()\n",
    "games = nflgame.games(2016, week=numb)\n",
    "players = nflgame.combine_game_stats(games)"
   ]
  },
  {
   "cell_type": "code",
   "execution_count": 4,
   "metadata": {
    "collapsed": false
   },
   "outputs": [
    {
     "data": {
      "text/html": [
       "<div>\n",
       "<style>\n",
       "    .dataframe thead tr:only-child th {\n",
       "        text-align: right;\n",
       "    }\n",
       "\n",
       "    .dataframe thead th {\n",
       "        text-align: left;\n",
       "    }\n",
       "\n",
       "    .dataframe tbody tr th {\n",
       "        vertical-align: top;\n",
       "    }\n",
       "</style>\n",
       "<table border=\"1\" class=\"dataframe\">\n",
       "  <thead>\n",
       "    <tr style=\"text-align: right;\">\n",
       "      <th></th>\n",
       "      <th>Player</th>\n",
       "      <th>Rush Att</th>\n",
       "      <th>Rush Yds</th>\n",
       "      <th>Rush TD</th>\n",
       "      <th>Fantasy Pts</th>\n",
       "    </tr>\n",
       "  </thead>\n",
       "  <tbody>\n",
       "    <tr>\n",
       "      <th>0</th>\n",
       "      <td>E.Elliott</td>\n",
       "      <td>322</td>\n",
       "      <td>1631</td>\n",
       "      <td>15</td>\n",
       "      <td>253.1</td>\n",
       "    </tr>\n",
       "    <tr>\n",
       "      <th>7</th>\n",
       "      <td>L.Blount</td>\n",
       "      <td>299</td>\n",
       "      <td>1161</td>\n",
       "      <td>18</td>\n",
       "      <td>224.1</td>\n",
       "    </tr>\n",
       "    <tr>\n",
       "      <th>6</th>\n",
       "      <td>D.Johnson</td>\n",
       "      <td>293</td>\n",
       "      <td>1239</td>\n",
       "      <td>16</td>\n",
       "      <td>219.9</td>\n",
       "    </tr>\n",
       "    <tr>\n",
       "      <th>5</th>\n",
       "      <td>L.McCoy</td>\n",
       "      <td>234</td>\n",
       "      <td>1267</td>\n",
       "      <td>13</td>\n",
       "      <td>204.7</td>\n",
       "    </tr>\n",
       "    <tr>\n",
       "      <th>2</th>\n",
       "      <td>D.Murray</td>\n",
       "      <td>293</td>\n",
       "      <td>1287</td>\n",
       "      <td>9</td>\n",
       "      <td>182.7</td>\n",
       "    </tr>\n",
       "    <tr>\n",
       "      <th>3</th>\n",
       "      <td>J.Ajayi</td>\n",
       "      <td>261</td>\n",
       "      <td>1272</td>\n",
       "      <td>8</td>\n",
       "      <td>175.2</td>\n",
       "    </tr>\n",
       "    <tr>\n",
       "      <th>8</th>\n",
       "      <td>D.Freeman</td>\n",
       "      <td>227</td>\n",
       "      <td>1079</td>\n",
       "      <td>11</td>\n",
       "      <td>173.9</td>\n",
       "    </tr>\n",
       "  </tbody>\n",
       "</table>\n",
       "</div>"
      ],
      "text/plain": [
       "      Player  Rush Att  Rush Yds  Rush TD  Fantasy Pts\n",
       "0  E.Elliott       322      1631       15        253.1\n",
       "7   L.Blount       299      1161       18        224.1\n",
       "6  D.Johnson       293      1239       16        219.9\n",
       "5    L.McCoy       234      1267       13        204.7\n",
       "2   D.Murray       293      1287        9        182.7\n",
       "3    J.Ajayi       261      1272        8        175.2\n",
       "8  D.Freeman       227      1079       11        173.9"
      ]
     },
     "execution_count": 4,
     "metadata": {},
     "output_type": "execute_result"
    }
   ],
   "source": [
    "namelist = []\n",
    "rushattlist= []\n",
    "rushydslist= []\n",
    "rushtdlist = []\n",
    "\n",
    "for p in players.rushing().sort('rushing_yds').limit(100):\n",
    "    namelist.append(p)\n",
    "    rushattlist.append(int(p.rushing_att))\n",
    "    rushydslist.append(int(p.rushing_yds))\n",
    "    rushtdlist.append(int(p.rushing_tds))\n",
    "data = {'Player': namelist,\n",
    "       'Rush Att': rushattlist,\n",
    "       'Rush Yds': rushydslist,\n",
    "       'Rush TD': rushtdlist}\n",
    "\n",
    "df = pd.DataFrame(data,columns= ['Player','Rush Att','Rush Yds','Rush TD'])\n",
    "df.insert(4, 'Fantasy Pts', df['Rush Yds']*0.1 + df['Rush TD']*6)\n",
    "df.sort_values('Fantasy Pts',ascending=False).head(7)"
   ]
  },
  {
   "cell_type": "code",
   "execution_count": 5,
   "metadata": {
    "collapsed": false
   },
   "outputs": [
    {
     "data": {
      "text/plain": [
       "<matplotlib.collections.PathCollection at 0x12513b590>"
      ]
     },
     "execution_count": 5,
     "metadata": {},
     "output_type": "execute_result"
    },
    {
     "data": {
      "image/png": "[encoded data removed]",
      "text/plain": [
       "<matplotlib.figure.Figure at 0x1057e0f90>"
      ]
     },
     "metadata": {},
     "output_type": "display_data"
    }
   ],
   "source": [
    "plt.scatter(df['Rush Att'],(df['Rush TD'] * 6)+(df['Rush Yds'] * .1))"
   ]
  },
  {
   "cell_type": "code",
   "execution_count": 6,
   "metadata": {
    "collapsed": false
   },
   "outputs": [],
   "source": [
    "weeks= {}\n",
    "for n in numb:\n",
    "    games = nflgame.games(2016, week=n)\n",
    "    players = nflgame.combine_game_stats(games)\n",
    "    namelist = []\n",
    "    teamlist = []\n",
    "    rushattlist= []\n",
    "    rushydslist= []\n",
    "    rushtdlist = []\n",
    "\n",
    "    for p in players.rushing().sort('rushing_yds').limit(150):\n",
    "        namelist.append(p.name)\n",
    "        teamlist.append(p.team)\n",
    "        rushattlist.append(int(p.rushing_att))\n",
    "        rushydslist.append(int(p.rushing_yds))\n",
    "        rushtdlist.append(int(p.rushing_tds))\n",
    "    data = {'Player': namelist,\n",
    "            'Team': teamlist,\n",
    "           'Rush Att': rushattlist,\n",
    "           'Rush Yds': rushydslist,\n",
    "           'Rush TD': rushtdlist}\n",
    "    \n",
    "\n",
    "    \n",
    "    df = pd.DataFrame(data,columns= ['Player','Team','Rush Att','Rush Yds','Rush TD'])\n",
    "    df['Week']= n\n",
    "    df['Fantasy Pts'] = (df['Rush Yds'] /10) + (df['Rush TD'] * 6)\n",
    "    weeks[n]=df\n",
    "\n",
    "alldata= weeks[1]\n",
    "for n in np.arange(2,17):\n",
    "    alldata = pd.concat([alldata,weeks[n]])\n"
   ]
  },
  {
   "cell_type": "code",
   "execution_count": 7,
   "metadata": {
    "collapsed": false
   },
   "outputs": [
    {
     "data": {
      "text/html": [
       "<div>\n",
       "<style>\n",
       "    .dataframe thead tr:only-child th {\n",
       "        text-align: right;\n",
       "    }\n",
       "\n",
       "    .dataframe thead th {\n",
       "        text-align: left;\n",
       "    }\n",
       "\n",
       "    .dataframe tbody tr th {\n",
       "        vertical-align: top;\n",
       "    }\n",
       "</style>\n",
       "<table border=\"1\" class=\"dataframe\">\n",
       "  <thead>\n",
       "    <tr style=\"text-align: right;\">\n",
       "      <th></th>\n",
       "      <th></th>\n",
       "      <th>Rush Yds</th>\n",
       "      <th>Week</th>\n",
       "      <th>Fantasy Pts</th>\n",
       "      <th>Rush TD</th>\n",
       "      <th>Rush Att</th>\n",
       "    </tr>\n",
       "    <tr>\n",
       "      <th>Player</th>\n",
       "      <th>Team</th>\n",
       "      <th></th>\n",
       "      <th></th>\n",
       "      <th></th>\n",
       "      <th></th>\n",
       "      <th></th>\n",
       "    </tr>\n",
       "  </thead>\n",
       "  <tbody>\n",
       "    <tr>\n",
       "      <th>E.Elliott</th>\n",
       "      <th>DAL</th>\n",
       "      <td>1631</td>\n",
       "      <td>15</td>\n",
       "      <td>253.1</td>\n",
       "      <td>15</td>\n",
       "      <td>322</td>\n",
       "    </tr>\n",
       "    <tr>\n",
       "      <th>D.Johnson</th>\n",
       "      <th>ARI</th>\n",
       "      <td>1233</td>\n",
       "      <td>15</td>\n",
       "      <td>219.3</td>\n",
       "      <td>16</td>\n",
       "      <td>288</td>\n",
       "    </tr>\n",
       "    <tr>\n",
       "      <th>L.Blount</th>\n",
       "      <th>NE</th>\n",
       "      <td>1110</td>\n",
       "      <td>15</td>\n",
       "      <td>213.0</td>\n",
       "      <td>17</td>\n",
       "      <td>285</td>\n",
       "    </tr>\n",
       "    <tr>\n",
       "      <th>L.McCoy</th>\n",
       "      <th>BUF</th>\n",
       "      <td>1257</td>\n",
       "      <td>14</td>\n",
       "      <td>203.7</td>\n",
       "      <td>13</td>\n",
       "      <td>229</td>\n",
       "    </tr>\n",
       "    <tr>\n",
       "      <th>D.Murray</th>\n",
       "      <th>TEN</th>\n",
       "      <td>1266</td>\n",
       "      <td>15</td>\n",
       "      <td>180.6</td>\n",
       "      <td>9</td>\n",
       "      <td>282</td>\n",
       "    </tr>\n",
       "    <tr>\n",
       "      <th>J.Ajayi</th>\n",
       "      <th>MIA</th>\n",
       "      <td>1213</td>\n",
       "      <td>14</td>\n",
       "      <td>169.3</td>\n",
       "      <td>8</td>\n",
       "      <td>245</td>\n",
       "    </tr>\n",
       "    <tr>\n",
       "      <th>L.Bell</th>\n",
       "      <th>PIT</th>\n",
       "      <td>1268</td>\n",
       "      <td>12</td>\n",
       "      <td>168.8</td>\n",
       "      <td>7</td>\n",
       "      <td>261</td>\n",
       "    </tr>\n",
       "    <tr>\n",
       "      <th>M.Gordon</th>\n",
       "      <th>SD</th>\n",
       "      <td>997</td>\n",
       "      <td>13</td>\n",
       "      <td>159.7</td>\n",
       "      <td>10</td>\n",
       "      <td>254</td>\n",
       "    </tr>\n",
       "    <tr>\n",
       "      <th>D.Freeman</th>\n",
       "      <th>ATL</th>\n",
       "      <td>983</td>\n",
       "      <td>15</td>\n",
       "      <td>158.3</td>\n",
       "      <td>10</td>\n",
       "      <td>215</td>\n",
       "    </tr>\n",
       "    <tr>\n",
       "      <th>J.Howard</th>\n",
       "      <th>CHI</th>\n",
       "      <td>1178</td>\n",
       "      <td>14</td>\n",
       "      <td>153.8</td>\n",
       "      <td>6</td>\n",
       "      <td>229</td>\n",
       "    </tr>\n",
       "    <tr>\n",
       "      <th>L.Murray</th>\n",
       "      <th>OAK</th>\n",
       "      <td>777</td>\n",
       "      <td>13</td>\n",
       "      <td>149.7</td>\n",
       "      <td>12</td>\n",
       "      <td>190</td>\n",
       "    </tr>\n",
       "    <tr>\n",
       "      <th>J.Hill</th>\n",
       "      <th>CIN</th>\n",
       "      <td>839</td>\n",
       "      <td>15</td>\n",
       "      <td>137.9</td>\n",
       "      <td>9</td>\n",
       "      <td>222</td>\n",
       "    </tr>\n",
       "  </tbody>\n",
       "</table>\n",
       "</div>"
      ],
      "text/plain": [
       "                Rush Yds  Week  Fantasy Pts  Rush TD  Rush Att\n",
       "Player    Team                                                \n",
       "E.Elliott DAL       1631    15        253.1       15       322\n",
       "D.Johnson ARI       1233    15        219.3       16       288\n",
       "L.Blount  NE        1110    15        213.0       17       285\n",
       "L.McCoy   BUF       1257    14        203.7       13       229\n",
       "D.Murray  TEN       1266    15        180.6        9       282\n",
       "J.Ajayi   MIA       1213    14        169.3        8       245\n",
       "L.Bell    PIT       1268    12        168.8        7       261\n",
       "M.Gordon  SD         997    13        159.7       10       254\n",
       "D.Freeman ATL        983    15        158.3       10       215\n",
       "J.Howard  CHI       1178    14        153.8        6       229\n",
       "L.Murray  OAK        777    13        149.7       12       190\n",
       "J.Hill    CIN        839    15        137.9        9       222"
      ]
     },
     "execution_count": 7,
     "metadata": {},
     "output_type": "execute_result"
    }
   ],
   "source": [
    "jeff = alldata.groupby(['Player','Team']).agg({'Rush Att': np.sum,'Rush Yds':np.sum,'Week':np.size,'Rush TD':np.sum,'Fantasy Pts':np.sum}).sort_values('Fantasy Pts',ascending=False)\n",
    "jeff.head(12)"
   ]
  },
  {
   "cell_type": "code",
   "execution_count": 8,
   "metadata": {
    "collapsed": false
   },
   "outputs": [
    {
     "data": {
      "text/plain": [
       "[<matplotlib.lines.Line2D at 0x124d66590>]"
      ]
     },
     "execution_count": 8,
     "metadata": {},
     "output_type": "execute_result"
    },
    {
     "data": {
      "text/plain": [
       "<matplotlib.figure.Figure at 0x124f2d310>"
      ]
     },
     "metadata": {},
     "output_type": "display_data"
    },
    {
     "data": {
      "image/png": "[encoded data removed]",
      "text/plain": [
       "<matplotlib.figure.Figure at 0x1250eec90>"
      ]
     },
     "metadata": {},
     "output_type": "display_data"
    }
   ],
   "source": [
    "barbie = alldata.loc[:,('Player','Team', 'Week','Fantasy Pts')]\n",
    "barbie['ID'] = barbie.loc[:,('Player')] + ' ' + barbie.loc[:,('Team')]\n",
    "del barbie['Player']\n",
    "del barbie['Team']\n",
    "barbie= barbie[(barbie['ID']== 'E.Elliott DAL')]\n",
    "fig=plt.figure()\n",
    "fig, axes = plt.subplots(1,1)\n",
    "x= barbie.loc[:,('Week')]\n",
    "y= barbie.loc[:,('Fantasy Pts')]\n",
    "plot(x,y,'-')"
   ]
  },
  {
   "cell_type": "code",
   "execution_count": 9,
   "metadata": {
    "collapsed": false
   },
   "outputs": [
    {
     "data": {
      "text/plain": [
       "Week             int64\n",
       "Fantasy Pts    float64\n",
       "ID              object\n",
       "dtype: object"
      ]
     },
     "execution_count": 9,
     "metadata": {},
     "output_type": "execute_result"
    }
   ],
   "source": [
    "barbie.dtypes"
   ]
  },
  {
   "cell_type": "code",
   "execution_count": null,
   "metadata": {
    "collapsed": true
   },
   "outputs": [],
   "source": []
  },
  {
   "cell_type": "code",
   "execution_count": null,
   "metadata": {
    "collapsed": true
   },
   "outputs": [],
   "source": []
  }
 ],
 "metadata": {
  "anaconda-cloud": {},
  "kernelspec": {
   "display_name": "Python [conda env:py27]",
   "language": "python",
   "name": "conda-env-py27-py"
  },
  "language_info": {
   "codemirror_mode": {
    "name": "ipython",
    "version": 2
   },
   "file_extension": ".py",
   "mimetype": "text/x-python",
   "name": "python",
   "nbconvert_exporter": "python",
   "pygments_lexer": "ipython2",
   "version": "2.7.13"
  }
 },
 "nbformat": 4,
 "nbformat_minor": 1
}
