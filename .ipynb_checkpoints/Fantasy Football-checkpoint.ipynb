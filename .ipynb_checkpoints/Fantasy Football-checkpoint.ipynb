{
 "cells": [
  {
   "cell_type": "code",
   "execution_count": 215,
   "metadata": {
    "collapsed": true
   },
   "outputs": [],
   "source": [
    "import nflgame\n",
    "import numpy as np\n",
    "import pandas as pd\n",
    "import json\n",
    "from pandas.io.json import json_normalize\n",
    "%matplotlib inline\n",
    "import matplotlib.pyplot as plt\n",
    "import seaborn as sns\n",
    "from pylab import *\n",
    "import scipy.stats as ss"
   ]
  },
  {
   "cell_type": "code",
   "execution_count": 244,
   "metadata": {
    "collapsed": false
   },
   "outputs": [],
   "source": [
    "numb= np.arange(1,18).tolist()\n",
    "games = nflgame.games(2016, week=numb)\n",
    "players = nflgame.combine_game_stats(games)"
   ]
  },
  {
   "cell_type": "code",
   "execution_count": 488,
   "metadata": {
    "collapsed": false
   },
   "outputs": [
    {
     "data": {
      "text/html": [
       "<div>\n",
       "<style>\n",
       "    .dataframe thead tr:only-child th {\n",
       "        text-align: right;\n",
       "    }\n",
       "\n",
       "    .dataframe thead th {\n",
       "        text-align: left;\n",
       "    }\n",
       "\n",
       "    .dataframe tbody tr th {\n",
       "        vertical-align: top;\n",
       "    }\n",
       "</style>\n",
       "<table border=\"1\" class=\"dataframe\">\n",
       "  <thead>\n",
       "    <tr style=\"text-align: right;\">\n",
       "      <th></th>\n",
       "      <th>Player</th>\n",
       "      <th>Rush Att</th>\n",
       "      <th>Rush Yds</th>\n",
       "      <th>Rush TD</th>\n",
       "      <th>Fantasy Pts</th>\n",
       "    </tr>\n",
       "  </thead>\n",
       "  <tbody>\n",
       "    <tr>\n",
       "      <th>4</th>\n",
       "      <td>R.Burkhead</td>\n",
       "      <td>27</td>\n",
       "      <td>119</td>\n",
       "      <td>2</td>\n",
       "      <td>23.9</td>\n",
       "    </tr>\n",
       "    <tr>\n",
       "      <th>2</th>\n",
       "      <td>C.Grant</td>\n",
       "      <td>18</td>\n",
       "      <td>122</td>\n",
       "      <td>1</td>\n",
       "      <td>18.2</td>\n",
       "    </tr>\n",
       "    <tr>\n",
       "      <th>5</th>\n",
       "      <td>M.Ingram</td>\n",
       "      <td>20</td>\n",
       "      <td>103</td>\n",
       "      <td>1</td>\n",
       "      <td>16.3</td>\n",
       "    </tr>\n",
       "    <tr>\n",
       "      <th>33</th>\n",
       "      <td>S.Draughn</td>\n",
       "      <td>21</td>\n",
       "      <td>41</td>\n",
       "      <td>2</td>\n",
       "      <td>16.1</td>\n",
       "    </tr>\n",
       "    <tr>\n",
       "      <th>7</th>\n",
       "      <td>D.Freeman</td>\n",
       "      <td>12</td>\n",
       "      <td>96</td>\n",
       "      <td>1</td>\n",
       "      <td>15.6</td>\n",
       "    </tr>\n",
       "    <tr>\n",
       "      <th>0</th>\n",
       "      <td>I.Crowell</td>\n",
       "      <td>19</td>\n",
       "      <td>152</td>\n",
       "      <td>0</td>\n",
       "      <td>15.2</td>\n",
       "    </tr>\n",
       "    <tr>\n",
       "      <th>9</th>\n",
       "      <td>J.McKinnon</td>\n",
       "      <td>16</td>\n",
       "      <td>89</td>\n",
       "      <td>1</td>\n",
       "      <td>14.9</td>\n",
       "    </tr>\n",
       "  </tbody>\n",
       "</table>\n",
       "</div>"
      ],
      "text/plain": [
       "        Player  Rush Att  Rush Yds  Rush TD  Fantasy Pts\n",
       "4   R.Burkhead        27       119        2         23.9\n",
       "2      C.Grant        18       122        1         18.2\n",
       "5     M.Ingram        20       103        1         16.3\n",
       "33   S.Draughn        21        41        2         16.1\n",
       "7    D.Freeman        12        96        1         15.6\n",
       "0    I.Crowell        19       152        0         15.2\n",
       "9   J.McKinnon        16        89        1         14.9"
      ]
     },
     "execution_count": 488,
     "metadata": {},
     "output_type": "execute_result"
    }
   ],
   "source": [
    "namelist = []\n",
    "rushattlist= []\n",
    "rushydslist= []\n",
    "rushtdlist = []\n",
    "\n",
    "for p in players.rushing().sort('rushing_yds').limit(100):\n",
    "    namelist.append(p)\n",
    "    rushattlist.append(int(p.rushing_att))\n",
    "    rushydslist.append(int(p.rushing_yds))\n",
    "    rushtdlist.append(int(p.rushing_tds))\n",
    "data = {'Player': namelist,\n",
    "       'Rush Att': rushattlist,\n",
    "       'Rush Yds': rushydslist,\n",
    "       'Rush TD': rushtdlist}\n",
    "\n",
    "df = pd.DataFrame(data,columns= ['Player','Rush Att','Rush Yds','Rush TD'])\n",
    "df.insert(4, 'Fantasy Pts', df['Rush Yds']*0.1 + df['Rush TD']*6)\n",
    "df.sort_values('Fantasy Pts',ascending=False).head(7)"
   ]
  },
  {
   "cell_type": "code",
   "execution_count": 243,
   "metadata": {
    "collapsed": false
   },
   "outputs": [
    {
     "data": {
      "text/plain": [
       "<matplotlib.collections.PathCollection at 0x11e37b910>"
      ]
     },
     "execution_count": 243,
     "metadata": {},
     "output_type": "execute_result"
    },
    {
     "data": {
      "image/png": "[encoded data removed]",
      "text/plain": [
       "<matplotlib.figure.Figure at 0x116cf7e50>"
      ]
     },
     "metadata": {},
     "output_type": "display_data"
    }
   ],
   "source": [
    "plt.scatter(df['Rush Att'],(df['Rush TD'] * 6)+(df['Rush Yds'] * .1))"
   ]
  },
  {
   "cell_type": "code",
   "execution_count": 599,
   "metadata": {
    "collapsed": false
   },
   "outputs": [
    {
     "ename": "TypeError",
     "evalue": "cannot convert the series to <type 'int'>",
     "output_type": "error",
     "traceback": [
      "\u001b[0;31m---------------------------------------------------------------------------\u001b[0m",
      "\u001b[0;31mTypeError\u001b[0m                                 Traceback (most recent call last)",
      "\u001b[0;32m<ipython-input-599-ac0929d00dde>\u001b[0m in \u001b[0;36m<module>\u001b[0;34m()\u001b[0m\n\u001b[1;32m     25\u001b[0m     \u001b[0mdf\u001b[0m \u001b[0;34m=\u001b[0m \u001b[0mpd\u001b[0m\u001b[0;34m.\u001b[0m\u001b[0mDataFrame\u001b[0m\u001b[0;34m(\u001b[0m\u001b[0mdata\u001b[0m\u001b[0;34m,\u001b[0m\u001b[0mcolumns\u001b[0m\u001b[0;34m=\u001b[0m \u001b[0;34m[\u001b[0m\u001b[0;34m'Player'\u001b[0m\u001b[0;34m,\u001b[0m\u001b[0;34m'Team'\u001b[0m\u001b[0;34m,\u001b[0m\u001b[0;34m'Rush Att'\u001b[0m\u001b[0;34m,\u001b[0m\u001b[0;34m'Rush Yds'\u001b[0m\u001b[0;34m,\u001b[0m\u001b[0;34m'Rush TD'\u001b[0m\u001b[0;34m]\u001b[0m\u001b[0;34m)\u001b[0m\u001b[0;34m\u001b[0m\u001b[0m\n\u001b[1;32m     26\u001b[0m     \u001b[0mdf\u001b[0m\u001b[0;34m[\u001b[0m\u001b[0;34m'Week'\u001b[0m\u001b[0;34m]\u001b[0m\u001b[0;34m=\u001b[0m \u001b[0mn\u001b[0m\u001b[0;34m\u001b[0m\u001b[0m\n\u001b[0;32m---> 27\u001b[0;31m     \u001b[0mdf\u001b[0m\u001b[0;34m[\u001b[0m\u001b[0;34m'Fantasy Pts'\u001b[0m\u001b[0;34m]\u001b[0m \u001b[0;34m=\u001b[0m \u001b[0mint\u001b[0m\u001b[0;34m(\u001b[0m\u001b[0;34m(\u001b[0m\u001b[0mdf\u001b[0m\u001b[0;34m[\u001b[0m\u001b[0;34m'Rush Yds'\u001b[0m\u001b[0;34m]\u001b[0m \u001b[0;34m/\u001b[0m\u001b[0;36m10\u001b[0m\u001b[0;34m)\u001b[0m \u001b[0;34m+\u001b[0m \u001b[0;34m(\u001b[0m\u001b[0mdf\u001b[0m\u001b[0;34m[\u001b[0m\u001b[0;34m'Rush TD'\u001b[0m\u001b[0;34m]\u001b[0m \u001b[0;34m*\u001b[0m \u001b[0;36m6\u001b[0m\u001b[0;34m)\u001b[0m\u001b[0;34m)\u001b[0m\u001b[0;34m\u001b[0m\u001b[0m\n\u001b[0m\u001b[1;32m     28\u001b[0m     \u001b[0mweeks\u001b[0m\u001b[0;34m[\u001b[0m\u001b[0mn\u001b[0m\u001b[0;34m]\u001b[0m\u001b[0;34m=\u001b[0m\u001b[0mdf\u001b[0m\u001b[0;34m\u001b[0m\u001b[0m\n\u001b[1;32m     29\u001b[0m \u001b[0;34m\u001b[0m\u001b[0m\n",
      "\u001b[0;32m/Users/apple/anaconda3/envs/py27/lib/python2.7/site-packages/pandas/core/series.pyc\u001b[0m in \u001b[0;36mwrapper\u001b[0;34m(self)\u001b[0m\n\u001b[1;32m     95\u001b[0m             \u001b[0;32mreturn\u001b[0m \u001b[0mconverter\u001b[0m\u001b[0;34m(\u001b[0m\u001b[0mself\u001b[0m\u001b[0;34m.\u001b[0m\u001b[0miloc\u001b[0m\u001b[0;34m[\u001b[0m\u001b[0;36m0\u001b[0m\u001b[0;34m]\u001b[0m\u001b[0;34m)\u001b[0m\u001b[0;34m\u001b[0m\u001b[0m\n\u001b[1;32m     96\u001b[0m         raise TypeError(\"cannot convert the series to \"\n\u001b[0;32m---> 97\u001b[0;31m                         \"{0}\".format(str(converter)))\n\u001b[0m\u001b[1;32m     98\u001b[0m \u001b[0;34m\u001b[0m\u001b[0m\n\u001b[1;32m     99\u001b[0m     \u001b[0;32mreturn\u001b[0m \u001b[0mwrapper\u001b[0m\u001b[0;34m\u001b[0m\u001b[0m\n",
      "\u001b[0;31mTypeError\u001b[0m: cannot convert the series to <type 'int'>"
     ]
    }
   ],
   "source": [
    "weeks= {}\n",
    "for n in numb:\n",
    "    games = nflgame.games(2016, week=n)\n",
    "    players = nflgame.combine_game_stats(games)\n",
    "    namelist = []\n",
    "    teamlist = []\n",
    "    rushattlist= []\n",
    "    rushydslist= []\n",
    "    rushtdlist = []\n",
    "\n",
    "    for p in players.rushing().sort('rushing_yds').limit(150):\n",
    "        namelist.append(p.name)\n",
    "        teamlist.append(p.team)\n",
    "        rushattlist.append(int(p.rushing_att))\n",
    "        rushydslist.append(int(p.rushing_yds))\n",
    "        rushtdlist.append(int(p.rushing_tds))\n",
    "    data = {'Player': namelist,\n",
    "            'Team': teamlist,\n",
    "           'Rush Att': rushattlist,\n",
    "           'Rush Yds': rushydslist,\n",
    "           'Rush TD': rushtdlist}\n",
    "    \n",
    "\n",
    "    \n",
    "    df = pd.DataFrame(data,columns= ['Player','Team','Rush Att','Rush Yds','Rush TD'])\n",
    "    df['Week']= n\n",
    "    df['Fantasy Pts'] = (df['Rush Yds'] /10) + (df['Rush TD'] * 6)\n",
    "    weeks[n]=df\n",
    "\n",
    "alldata= weeks[1]\n",
    "for n in np.arange(2,17):\n",
    "    alldata = pd.concat([alldata,weeks[n]])\n"
   ]
  },
  {
   "cell_type": "code",
   "execution_count": 503,
   "metadata": {
    "collapsed": false
   },
   "outputs": [
    {
     "data": {
      "text/html": [
       "<div>\n",
       "<style>\n",
       "    .dataframe thead tr:only-child th {\n",
       "        text-align: right;\n",
       "    }\n",
       "\n",
       "    .dataframe thead th {\n",
       "        text-align: left;\n",
       "    }\n",
       "\n",
       "    .dataframe tbody tr th {\n",
       "        vertical-align: top;\n",
       "    }\n",
       "</style>\n",
       "<table border=\"1\" class=\"dataframe\">\n",
       "  <thead>\n",
       "    <tr style=\"text-align: right;\">\n",
       "      <th></th>\n",
       "      <th></th>\n",
       "      <th>Rush Yds</th>\n",
       "      <th>Week</th>\n",
       "      <th>Fantasy Pts</th>\n",
       "      <th>Rush TD</th>\n",
       "      <th>Rush Att</th>\n",
       "    </tr>\n",
       "    <tr>\n",
       "      <th>Player</th>\n",
       "      <th>Team</th>\n",
       "      <th></th>\n",
       "      <th></th>\n",
       "      <th></th>\n",
       "      <th></th>\n",
       "      <th></th>\n",
       "    </tr>\n",
       "  </thead>\n",
       "  <tbody>\n",
       "    <tr>\n",
       "      <th>E.Elliott</th>\n",
       "      <th>DAL</th>\n",
       "      <td>1631</td>\n",
       "      <td>15</td>\n",
       "      <td>253.1</td>\n",
       "      <td>15</td>\n",
       "      <td>322</td>\n",
       "    </tr>\n",
       "    <tr>\n",
       "      <th>D.Johnson</th>\n",
       "      <th>ARI</th>\n",
       "      <td>1233</td>\n",
       "      <td>15</td>\n",
       "      <td>219.3</td>\n",
       "      <td>16</td>\n",
       "      <td>288</td>\n",
       "    </tr>\n",
       "    <tr>\n",
       "      <th>L.Blount</th>\n",
       "      <th>NE</th>\n",
       "      <td>1110</td>\n",
       "      <td>15</td>\n",
       "      <td>213.0</td>\n",
       "      <td>17</td>\n",
       "      <td>285</td>\n",
       "    </tr>\n",
       "    <tr>\n",
       "      <th>L.McCoy</th>\n",
       "      <th>BUF</th>\n",
       "      <td>1257</td>\n",
       "      <td>14</td>\n",
       "      <td>203.7</td>\n",
       "      <td>13</td>\n",
       "      <td>229</td>\n",
       "    </tr>\n",
       "    <tr>\n",
       "      <th>D.Murray</th>\n",
       "      <th>TEN</th>\n",
       "      <td>1266</td>\n",
       "      <td>15</td>\n",
       "      <td>180.6</td>\n",
       "      <td>9</td>\n",
       "      <td>282</td>\n",
       "    </tr>\n",
       "    <tr>\n",
       "      <th>J.Ajayi</th>\n",
       "      <th>MIA</th>\n",
       "      <td>1213</td>\n",
       "      <td>14</td>\n",
       "      <td>169.3</td>\n",
       "      <td>8</td>\n",
       "      <td>245</td>\n",
       "    </tr>\n",
       "    <tr>\n",
       "      <th>L.Bell</th>\n",
       "      <th>PIT</th>\n",
       "      <td>1268</td>\n",
       "      <td>12</td>\n",
       "      <td>168.8</td>\n",
       "      <td>7</td>\n",
       "      <td>261</td>\n",
       "    </tr>\n",
       "    <tr>\n",
       "      <th>M.Gordon</th>\n",
       "      <th>SD</th>\n",
       "      <td>997</td>\n",
       "      <td>13</td>\n",
       "      <td>159.7</td>\n",
       "      <td>10</td>\n",
       "      <td>254</td>\n",
       "    </tr>\n",
       "    <tr>\n",
       "      <th>D.Freeman</th>\n",
       "      <th>ATL</th>\n",
       "      <td>983</td>\n",
       "      <td>15</td>\n",
       "      <td>158.3</td>\n",
       "      <td>10</td>\n",
       "      <td>215</td>\n",
       "    </tr>\n",
       "    <tr>\n",
       "      <th>J.Howard</th>\n",
       "      <th>CHI</th>\n",
       "      <td>1178</td>\n",
       "      <td>14</td>\n",
       "      <td>153.8</td>\n",
       "      <td>6</td>\n",
       "      <td>229</td>\n",
       "    </tr>\n",
       "    <tr>\n",
       "      <th>L.Murray</th>\n",
       "      <th>OAK</th>\n",
       "      <td>777</td>\n",
       "      <td>13</td>\n",
       "      <td>149.7</td>\n",
       "      <td>12</td>\n",
       "      <td>190</td>\n",
       "    </tr>\n",
       "    <tr>\n",
       "      <th>J.Hill</th>\n",
       "      <th>CIN</th>\n",
       "      <td>839</td>\n",
       "      <td>15</td>\n",
       "      <td>137.9</td>\n",
       "      <td>9</td>\n",
       "      <td>222</td>\n",
       "    </tr>\n",
       "  </tbody>\n",
       "</table>\n",
       "</div>"
      ],
      "text/plain": [
       "                Rush Yds  Week  Fantasy Pts  Rush TD  Rush Att\n",
       "Player    Team                                                \n",
       "E.Elliott DAL       1631    15        253.1       15       322\n",
       "D.Johnson ARI       1233    15        219.3       16       288\n",
       "L.Blount  NE        1110    15        213.0       17       285\n",
       "L.McCoy   BUF       1257    14        203.7       13       229\n",
       "D.Murray  TEN       1266    15        180.6        9       282\n",
       "J.Ajayi   MIA       1213    14        169.3        8       245\n",
       "L.Bell    PIT       1268    12        168.8        7       261\n",
       "M.Gordon  SD         997    13        159.7       10       254\n",
       "D.Freeman ATL        983    15        158.3       10       215\n",
       "J.Howard  CHI       1178    14        153.8        6       229\n",
       "L.Murray  OAK        777    13        149.7       12       190\n",
       "J.Hill    CIN        839    15        137.9        9       222"
      ]
     },
     "execution_count": 503,
     "metadata": {},
     "output_type": "execute_result"
    }
   ],
   "source": [
    "jeff = alldata.groupby(['Player','Team']).agg({'Rush Att': np.sum,'Rush Yds':np.sum,'Week':np.size,'Rush TD':np.sum,'Fantasy Pts':np.sum}).sort_values('Fantasy Pts',ascending=False)\n",
    "jeff.head(12)"
   ]
  },
  {
   "cell_type": "code",
   "execution_count": 629,
   "metadata": {
    "collapsed": false
   },
   "outputs": [
    {
     "data": {
      "text/plain": [
       "[<matplotlib.lines.Line2D at 0x11f85e310>]"
      ]
     },
     "execution_count": 629,
     "metadata": {},
     "output_type": "execute_result"
    },
    {
     "data": {
      "text/plain": [
       "<matplotlib.figure.Figure at 0x1196fefd0>"
      ]
     },
     "metadata": {},
     "output_type": "display_data"
    },
    {
     "data": {
      "image/png": "[encoded data removed]",
      "text/plain": [
       "<matplotlib.figure.Figure at 0x1196fe750>"
      ]
     },
     "metadata": {},
     "output_type": "display_data"
    }
   ],
   "source": [
    "barbie = alldata.loc[:,('Player','Team', 'Week','Fantasy Pts')]\n",
    "barbie['ID'] = barbie.loc[:,('Player')] + ' ' + barbie.loc[:,('Team')]\n",
    "del barbie['Player']\n",
    "del barbie['Team']\n",
    "barbie= barbie[(barbie['ID'] == 'L.Blount NE') | (barbie['ID']== 'E.Elliott DAL')]\n",
    "fig=plt.figure()\n",
    "fig, axes = plt.subplots(1,1)\n",
    "x= barbie.loc[:,('Week')]\n",
    "y= barbie.loc[:,('Fantasy Pts')]\n",
    "plot(x,y,'-')"
   ]
  },
  {
   "cell_type": "code",
   "execution_count": 603,
   "metadata": {
    "collapsed": false
   },
   "outputs": [
    {
     "data": {
      "text/plain": [
       "Week             int64\n",
       "Fantasy Pts    float64\n",
       "dtype: object"
      ]
     },
     "execution_count": 603,
     "metadata": {},
     "output_type": "execute_result"
    }
   ],
   "source": [
    "barbie.dtypes"
   ]
  },
  {
   "cell_type": "code",
   "execution_count": null,
   "metadata": {
    "collapsed": true
   },
   "outputs": [],
   "source": []
  }
 ],
 "metadata": {
  "anaconda-cloud": {},
  "kernelspec": {
   "display_name": "Python [conda env:py27]",
   "language": "python",
   "name": "conda-env-py27-py"
  },
  "language_info": {
   "codemirror_mode": {
    "name": "ipython",
    "version": 2
   },
   "file_extension": ".py",
   "mimetype": "text/x-python",
   "name": "python",
   "nbconvert_exporter": "python",
   "pygments_lexer": "ipython2",
   "version": "2.7.13"
  }
 },
 "nbformat": 4,
 "nbformat_minor": 1
}
