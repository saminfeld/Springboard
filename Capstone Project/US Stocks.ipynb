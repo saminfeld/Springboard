{
 "cells": [
  {
   "cell_type": "code",
   "execution_count": 5,
   "metadata": {
    "collapsed": true
   },
   "outputs": [],
   "source": [
    "%matplotlib inline\n",
    "\n",
    "import pandas as pd\n",
    "import numpy as np\n",
    "import matplotlib.pyplot as plt\n",
    "\n",
    "from pandas import unique\n",
    "import json\n",
    "from pandas.io.json import json_normalize"
   ]
  },
  {
   "cell_type": "code",
   "execution_count": 14,
   "metadata": {
    "collapsed": true
   },
   "outputs": [],
   "source": [
    "indicators = pd.read_csv('indicators_by_company.csv')"
   ]
  },
  {
   "cell_type": "code",
   "execution_count": 197,
   "metadata": {
    "collapsed": false
   },
   "outputs": [
    {
     "data": {
      "text/html": [
       "<div>\n",
       "<table border=\"1\" class=\"dataframe\">\n",
       "  <thead>\n",
       "    <tr style=\"text-align: right;\">\n",
       "      <th></th>\n",
       "      <th>company_id</th>\n",
       "      <th>indicator_id</th>\n",
       "      <th>2010</th>\n",
       "      <th>2011</th>\n",
       "      <th>2012</th>\n",
       "      <th>2013</th>\n",
       "      <th>2014</th>\n",
       "      <th>2015</th>\n",
       "      <th>2016</th>\n",
       "    </tr>\n",
       "  </thead>\n",
       "  <tbody>\n",
       "    <tr>\n",
       "      <th>0</th>\n",
       "      <td>1000045</td>\n",
       "      <td>AccountsPayableAndAccruedLiabilitiesCurrentAnd...</td>\n",
       "      <td>NaN</td>\n",
       "      <td>6612429.0</td>\n",
       "      <td>7405579.0</td>\n",
       "      <td>8924919.0</td>\n",
       "      <td>7841070.0</td>\n",
       "      <td>5839000.0</td>\n",
       "      <td>NaN</td>\n",
       "    </tr>\n",
       "    <tr>\n",
       "      <th>1</th>\n",
       "      <td>1000045</td>\n",
       "      <td>AccumulatedDepreciationDepletionAndAmortizatio...</td>\n",
       "      <td>NaN</td>\n",
       "      <td>NaN</td>\n",
       "      <td>2111343.0</td>\n",
       "      <td>2242703.0</td>\n",
       "      <td>2236449.0</td>\n",
       "      <td>2462000.0</td>\n",
       "      <td>NaN</td>\n",
       "    </tr>\n",
       "    <tr>\n",
       "      <th>2</th>\n",
       "      <td>1000045</td>\n",
       "      <td>AdjustmentForAmortization</td>\n",
       "      <td>NaN</td>\n",
       "      <td>NaN</td>\n",
       "      <td>-11482251.0</td>\n",
       "      <td>-13490892.0</td>\n",
       "      <td>-13852305.0</td>\n",
       "      <td>-13811000.0</td>\n",
       "      <td>NaN</td>\n",
       "    </tr>\n",
       "    <tr>\n",
       "      <th>3</th>\n",
       "      <td>1000045</td>\n",
       "      <td>Assets</td>\n",
       "      <td>NaN</td>\n",
       "      <td>257236034.0</td>\n",
       "      <td>263835468.0</td>\n",
       "      <td>283429579.0</td>\n",
       "      <td>302528591.0</td>\n",
       "      <td>325309000.0</td>\n",
       "      <td>NaN</td>\n",
       "    </tr>\n",
       "    <tr>\n",
       "      <th>4</th>\n",
       "      <td>1000045</td>\n",
       "      <td>AssetsHeldForSaleAtCarryingValue</td>\n",
       "      <td>NaN</td>\n",
       "      <td>1373001.0</td>\n",
       "      <td>1203664.0</td>\n",
       "      <td>1696330.0</td>\n",
       "      <td>NaN</td>\n",
       "      <td>NaN</td>\n",
       "      <td>NaN</td>\n",
       "    </tr>\n",
       "  </tbody>\n",
       "</table>\n",
       "</div>"
      ],
      "text/plain": [
       "   company_id                                       indicator_id  2010  \\\n",
       "0     1000045  AccountsPayableAndAccruedLiabilitiesCurrentAnd...   NaN   \n",
       "1     1000045  AccumulatedDepreciationDepletionAndAmortizatio...   NaN   \n",
       "2     1000045                          AdjustmentForAmortization   NaN   \n",
       "3     1000045                                             Assets   NaN   \n",
       "4     1000045                   AssetsHeldForSaleAtCarryingValue   NaN   \n",
       "\n",
       "          2011         2012         2013         2014         2015  2016  \n",
       "0    6612429.0    7405579.0    8924919.0    7841070.0    5839000.0   NaN  \n",
       "1          NaN    2111343.0    2242703.0    2236449.0    2462000.0   NaN  \n",
       "2          NaN  -11482251.0  -13490892.0  -13852305.0  -13811000.0   NaN  \n",
       "3  257236034.0  263835468.0  283429579.0  302528591.0  325309000.0   NaN  \n",
       "4    1373001.0    1203664.0    1696330.0          NaN          NaN   NaN  "
      ]
     },
     "execution_count": 197,
     "metadata": {},
     "output_type": "execute_result"
    }
   ],
   "source": [
    "indicators.head()"
   ]
  },
  {
   "cell_type": "code",
   "execution_count": 24,
   "metadata": {
    "collapsed": false
   },
   "outputs": [
    {
     "data": {
      "text/plain": [
       "company_id         int64\n",
       "name_latest       object\n",
       "names_previous    object\n",
       "dtype: object"
      ]
     },
     "execution_count": 24,
     "metadata": {},
     "output_type": "execute_result"
    }
   ],
   "source": [
    "comp_name = pd.read_json('companies.json')\n",
    "comp_name.head()\n",
    "comp_name.dtypes"
   ]
  },
  {
   "cell_type": "code",
   "execution_count": 39,
   "metadata": {
    "collapsed": false
   },
   "outputs": [
    {
     "data": {
      "text/html": [
       "<div>\n",
       "<table border=\"1\" class=\"dataframe\">\n",
       "  <thead>\n",
       "    <tr style=\"text-align: right;\">\n",
       "      <th></th>\n",
       "      <th>company_id</th>\n",
       "      <th>name_latest</th>\n",
       "      <th>names_previous</th>\n",
       "      <th>indicator_id</th>\n",
       "      <th>2010</th>\n",
       "      <th>2011</th>\n",
       "      <th>2012</th>\n",
       "      <th>2013</th>\n",
       "      <th>2014</th>\n",
       "      <th>2015</th>\n",
       "      <th>2016</th>\n",
       "    </tr>\n",
       "  </thead>\n",
       "  <tbody>\n",
       "    <tr>\n",
       "      <th>0</th>\n",
       "      <td>1000045</td>\n",
       "      <td>Nicholas Financial Inc</td>\n",
       "      <td>None</td>\n",
       "      <td>AccountsPayableAndAccruedLiabilitiesCurrentAnd...</td>\n",
       "      <td>NaN</td>\n",
       "      <td>6612429.0</td>\n",
       "      <td>7405579.0</td>\n",
       "      <td>8924919.0</td>\n",
       "      <td>7841070.0</td>\n",
       "      <td>5839000.0</td>\n",
       "      <td>NaN</td>\n",
       "    </tr>\n",
       "    <tr>\n",
       "      <th>1</th>\n",
       "      <td>1000045</td>\n",
       "      <td>Nicholas Financial Inc</td>\n",
       "      <td>None</td>\n",
       "      <td>AccumulatedDepreciationDepletionAndAmortizatio...</td>\n",
       "      <td>NaN</td>\n",
       "      <td>NaN</td>\n",
       "      <td>2111343.0</td>\n",
       "      <td>2242703.0</td>\n",
       "      <td>2236449.0</td>\n",
       "      <td>2462000.0</td>\n",
       "      <td>NaN</td>\n",
       "    </tr>\n",
       "    <tr>\n",
       "      <th>2</th>\n",
       "      <td>1000045</td>\n",
       "      <td>Nicholas Financial Inc</td>\n",
       "      <td>None</td>\n",
       "      <td>AdjustmentForAmortization</td>\n",
       "      <td>NaN</td>\n",
       "      <td>NaN</td>\n",
       "      <td>-11482251.0</td>\n",
       "      <td>-13490892.0</td>\n",
       "      <td>-13852305.0</td>\n",
       "      <td>-13811000.0</td>\n",
       "      <td>NaN</td>\n",
       "    </tr>\n",
       "    <tr>\n",
       "      <th>3</th>\n",
       "      <td>1000045</td>\n",
       "      <td>Nicholas Financial Inc</td>\n",
       "      <td>None</td>\n",
       "      <td>Assets</td>\n",
       "      <td>NaN</td>\n",
       "      <td>257236034.0</td>\n",
       "      <td>263835468.0</td>\n",
       "      <td>283429579.0</td>\n",
       "      <td>302528591.0</td>\n",
       "      <td>325309000.0</td>\n",
       "      <td>NaN</td>\n",
       "    </tr>\n",
       "    <tr>\n",
       "      <th>4</th>\n",
       "      <td>1000045</td>\n",
       "      <td>Nicholas Financial Inc</td>\n",
       "      <td>None</td>\n",
       "      <td>AssetsHeldForSaleAtCarryingValue</td>\n",
       "      <td>NaN</td>\n",
       "      <td>1373001.0</td>\n",
       "      <td>1203664.0</td>\n",
       "      <td>1696330.0</td>\n",
       "      <td>NaN</td>\n",
       "      <td>NaN</td>\n",
       "      <td>NaN</td>\n",
       "    </tr>\n",
       "  </tbody>\n",
       "</table>\n",
       "</div>"
      ],
      "text/plain": [
       "   company_id             name_latest names_previous  \\\n",
       "0     1000045  Nicholas Financial Inc           None   \n",
       "1     1000045  Nicholas Financial Inc           None   \n",
       "2     1000045  Nicholas Financial Inc           None   \n",
       "3     1000045  Nicholas Financial Inc           None   \n",
       "4     1000045  Nicholas Financial Inc           None   \n",
       "\n",
       "                                        indicator_id  2010         2011  \\\n",
       "0  AccountsPayableAndAccruedLiabilitiesCurrentAnd...   NaN    6612429.0   \n",
       "1  AccumulatedDepreciationDepletionAndAmortizatio...   NaN          NaN   \n",
       "2                          AdjustmentForAmortization   NaN          NaN   \n",
       "3                                             Assets   NaN  257236034.0   \n",
       "4                   AssetsHeldForSaleAtCarryingValue   NaN    1373001.0   \n",
       "\n",
       "          2012         2013         2014         2015  2016  \n",
       "0    7405579.0    8924919.0    7841070.0    5839000.0   NaN  \n",
       "1    2111343.0    2242703.0    2236449.0    2462000.0   NaN  \n",
       "2  -11482251.0  -13490892.0  -13852305.0  -13811000.0   NaN  \n",
       "3  263835468.0  283429579.0  302528591.0  325309000.0   NaN  \n",
       "4    1203664.0    1696330.0          NaN          NaN   NaN  "
      ]
     },
     "execution_count": 39,
     "metadata": {},
     "output_type": "execute_result"
    }
   ],
   "source": [
    "df = pd.merge(comp_name,indicators,on='company_id')\n",
    "df.head()"
   ]
  },
  {
   "cell_type": "code",
   "execution_count": 235,
   "metadata": {
    "collapsed": false
   },
   "outputs": [
    {
     "ename": "NameError",
     "evalue": "name 'df2016gr' is not defined",
     "output_type": "error",
     "traceback": [
      "\u001b[0;31m---------------------------------------------------------------------------\u001b[0m",
      "\u001b[0;31mNameError\u001b[0m                                 Traceback (most recent call last)",
      "\u001b[0;32m<ipython-input-235-327138d18de0>\u001b[0m in \u001b[0;36m<module>\u001b[0;34m()\u001b[0m\n\u001b[1;32m      2\u001b[0m \u001b[0mdf2016\u001b[0m \u001b[0;34m=\u001b[0m \u001b[0mdf2016\u001b[0m\u001b[0;34m[\u001b[0m\u001b[0mdf2016\u001b[0m\u001b[0;34m[\u001b[0m\u001b[0;34m'2016'\u001b[0m\u001b[0;34m]\u001b[0m\u001b[0;34m.\u001b[0m\u001b[0mnotnull\u001b[0m\u001b[0;34m(\u001b[0m\u001b[0;34m)\u001b[0m \u001b[0;34m==\u001b[0m \u001b[0;32mTrue\u001b[0m\u001b[0;34m]\u001b[0m\u001b[0;34m\u001b[0m\u001b[0m\n\u001b[1;32m      3\u001b[0m \u001b[0mdf2016\u001b[0m \u001b[0;34m=\u001b[0m \u001b[0mdf2016\u001b[0m\u001b[0;34m[\u001b[0m\u001b[0;34m(\u001b[0m\u001b[0mdf2016\u001b[0m\u001b[0;34m[\u001b[0m\u001b[0;34m'indicator_id'\u001b[0m\u001b[0;34m]\u001b[0m \u001b[0;34m==\u001b[0m \u001b[0;34m'SalesRevenueNet'\u001b[0m\u001b[0;34m)\u001b[0m\u001b[0;34m|\u001b[0m\u001b[0;34m(\u001b[0m\u001b[0mdf2016\u001b[0m\u001b[0;34m[\u001b[0m\u001b[0;34m'indicator_id'\u001b[0m\u001b[0;34m]\u001b[0m \u001b[0;34m==\u001b[0m \u001b[0;34m'CostOfRevenue'\u001b[0m\u001b[0;34m)\u001b[0m\u001b[0;34m]\u001b[0m\u001b[0;34m\u001b[0m\u001b[0m\n\u001b[0;32m----> 4\u001b[0;31m \u001b[0mdf2016gr\u001b[0m \u001b[0;34m=\u001b[0m \u001b[0mdf2016gr\u001b[0m\u001b[0;34m.\u001b[0m\u001b[0mgroupby\u001b[0m\u001b[0;34m(\u001b[0m\u001b[0;34m'name_latest'\u001b[0m\u001b[0;34m)\u001b[0m\u001b[0;34m.\u001b[0m\u001b[0mcount\u001b[0m\u001b[0;34m(\u001b[0m\u001b[0;34m)\u001b[0m\u001b[0;34m\u001b[0m\u001b[0m\n\u001b[0m\u001b[1;32m      5\u001b[0m \u001b[0mnamelist\u001b[0m \u001b[0;34m=\u001b[0m\u001b[0;34m[\u001b[0m\u001b[0;34m]\u001b[0m\u001b[0;34m\u001b[0m\u001b[0m\n\u001b[1;32m      6\u001b[0m \u001b[0;32mfor\u001b[0m \u001b[0mname\u001b[0m \u001b[0;32min\u001b[0m \u001b[0mdf2016gr\u001b[0m\u001b[0;34m.\u001b[0m\u001b[0mindex\u001b[0m\u001b[0;34m:\u001b[0m\u001b[0;34m\u001b[0m\u001b[0m\n",
      "\u001b[0;31mNameError\u001b[0m: name 'df2016gr' is not defined"
     ]
    }
   ],
   "source": [
    "df2016 = df.ix[:,[0,1,2,3,10]]\n",
    "df2016 = df2016[df2016['2016'].notnull() == True]\n",
    "df2016 = df2016[(df2016['indicator_id'] == 'SalesRevenueNet')|(df2016['indicator_id'] == 'CostOfRevenue')]\n",
    "df2016gr = df2016gr.groupby('name_latest').count()\n",
    "namelist =[]\n",
    "for name in df2016gr.index:\n",
    "    if df2016gr.loc[name,'2016'] > 1:\n",
    "        namelist.append(name)\n",
    "namelist"
   ]
  },
  {
   "cell_type": "code",
   "execution_count": 238,
   "metadata": {
    "collapsed": false
   },
   "outputs": [
    {
     "data": {
      "text/html": [
       "<div>\n",
       "<table border=\"1\" class=\"dataframe\">\n",
       "  <thead>\n",
       "    <tr style=\"text-align: right;\">\n",
       "      <th></th>\n",
       "      <th>comp_name</th>\n",
       "      <th>profit</th>\n",
       "    </tr>\n",
       "  </thead>\n",
       "  <tbody>\n",
       "    <tr>\n",
       "      <th>0</th>\n",
       "      <td>Avnet Inc</td>\n",
       "      <td>3.037511e+09</td>\n",
       "    </tr>\n",
       "    <tr>\n",
       "      <th>1</th>\n",
       "      <td>Coach Inc</td>\n",
       "      <td>3.051300e+09</td>\n",
       "    </tr>\n",
       "    <tr>\n",
       "      <th>2</th>\n",
       "      <td>G&amp;K Services Inc</td>\n",
       "      <td>3.349740e+08</td>\n",
       "    </tr>\n",
       "    <tr>\n",
       "      <th>3</th>\n",
       "      <td>Linear Technology Corp /CA/</td>\n",
       "      <td>1.080135e+09</td>\n",
       "    </tr>\n",
       "  </tbody>\n",
       "</table>\n",
       "</div>"
      ],
      "text/plain": [
       "                     comp_name        profit\n",
       "0                    Avnet Inc  3.037511e+09\n",
       "1                    Coach Inc  3.051300e+09\n",
       "2             G&K Services Inc  3.349740e+08\n",
       "3  Linear Technology Corp /CA/  1.080135e+09"
      ]
     },
     "execution_count": 238,
     "metadata": {},
     "output_type": "execute_result"
    }
   ],
   "source": [
    "df2016.sort_values('2016',ascending=False)\n",
    "newdf = []\n",
    "for comp in namelist:\n",
    "    sales = pd.DataFrame(df2016.loc[(df2016['name_latest']== comp) & (df2016['indicator_id'] == 'SalesRevenueNet'),'2016']).iloc[0,0]\n",
    "    costs = pd.DataFrame(df2016.loc[(df2016['name_latest']== comp) & (df2016['indicator_id'] == 'CostOfRevenue'),'2016']).iloc[0,0]\n",
    "    newdf.append({'comp_name':comp,\n",
    "                 'profit': sales - costs\n",
    "                  \n",
    "                 })\n",
    "pd.DataFrame(newdf)"
   ]
  },
  {
   "cell_type": "code",
   "execution_count": 102,
   "metadata": {
    "collapsed": false
   },
   "outputs": [
    {
     "data": {
      "text/html": [
       "<div>\n",
       "<table border=\"1\" class=\"dataframe\">\n",
       "  <thead>\n",
       "    <tr style=\"text-align: right;\">\n",
       "      <th></th>\n",
       "      <th>company_id</th>\n",
       "      <th>name_latest</th>\n",
       "      <th>names_previous</th>\n",
       "      <th>indicator_id</th>\n",
       "      <th>2016</th>\n",
       "    </tr>\n",
       "  </thead>\n",
       "  <tbody>\n",
       "    <tr>\n",
       "      <th>1726239</th>\n",
       "      <td>8858</td>\n",
       "      <td>Avnet Inc</td>\n",
       "      <td>None</td>\n",
       "      <td>Assets</td>\n",
       "      <td>1.123980e+10</td>\n",
       "    </tr>\n",
       "  </tbody>\n",
       "</table>\n",
       "</div>"
      ],
      "text/plain": [
       "         company_id name_latest names_previous indicator_id          2016\n",
       "1726239        8858   Avnet Inc           None       Assets  1.123980e+10"
      ]
     },
     "execution_count": 102,
     "metadata": {},
     "output_type": "execute_result"
    }
   ],
   "source": [
    "df2016[(df2016['name_latest'] == 'Avnet Inc') & (df2016['indicator_id'] == 'Assets')]"
   ]
  },
  {
   "cell_type": "code",
   "execution_count": 157,
   "metadata": {
    "collapsed": false
   },
   "outputs": [
    {
     "data": {
      "text/plain": [
       "11239805000.0"
      ]
     },
     "execution_count": 157,
     "metadata": {},
     "output_type": "execute_result"
    }
   ],
   "source": [
    "hey = df2016.loc[(df2016['name_latest']== 'Avnet Inc')&((df2016['indicator_id'] == 'Assets')),'2016']\n",
    "hey= pd.DataFrame(hey)\n",
    "hey.iloc[0,0]"
   ]
  },
  {
   "cell_type": "code",
   "execution_count": 184,
   "metadata": {
    "collapsed": false
   },
   "outputs": [
    {
     "data": {
      "text/plain": [
       "26219279000.0"
      ]
     },
     "execution_count": 184,
     "metadata": {},
     "output_type": "execute_result"
    }
   ],
   "source": [
    "pd.DataFrame(df2016.loc[(df2016['name_latest']== comp) & (df2016['indicator_id'] == 'SalesRevenueNet'),'2016']).iloc[0,0]"
   ]
  },
  {
   "cell_type": "code",
   "execution_count": 185,
   "metadata": {
    "collapsed": false
   },
   "outputs": [
    {
     "data": {
      "text/plain": [
       "array(['Oclaro, Inc.', 'Coach Inc', 'Seagate Technology PLC',\n",
       "       'Cimpress N.V.', 'G&K Services Inc', 'Linear Technology Corp /CA/',\n",
       "       'Avnet Inc'], dtype=object)"
      ]
     },
     "execution_count": 185,
     "metadata": {},
     "output_type": "execute_result"
    }
   ],
   "source": [
    "df2016['name_latest'].unique()"
   ]
  },
  {
   "cell_type": "code",
   "execution_count": 233,
   "metadata": {
    "collapsed": false
   },
   "outputs": [
    {
     "data": {
      "text/plain": [
       "2"
      ]
     },
     "execution_count": 233,
     "metadata": {},
     "output_type": "execute_result"
    }
   ],
   "source": [
    "df2016.loc['Avnet Inc','2016']"
   ]
  },
  {
   "cell_type": "code",
   "execution_count": null,
   "metadata": {
    "collapsed": true
   },
   "outputs": [],
   "source": []
  }
 ],
 "metadata": {
  "kernelspec": {
   "display_name": "Python [conda root]",
   "language": "python",
   "name": "conda-root-py"
  },
  "language_info": {
   "codemirror_mode": {
    "name": "ipython",
    "version": 3
   },
   "file_extension": ".py",
   "mimetype": "text/x-python",
   "name": "python",
   "nbconvert_exporter": "python",
   "pygments_lexer": "ipython3",
   "version": "3.5.2"
  }
 },
 "nbformat": 4,
 "nbformat_minor": 1
}
