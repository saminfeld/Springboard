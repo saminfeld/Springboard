{
 "cells": [
  {
   "cell_type": "markdown",
   "metadata": {},
   "source": [
    "# What is the True Normal Human Body Temperature? \n",
    "\n",
    "#### Background\n",
    "\n",
    "The mean normal body temperature was held to be 37$^{\\circ}$C or 98.6$^{\\circ}$F for more than 120 years since it was first conceptualized and reported by Carl Wunderlich in a famous 1868 book. But, is this value statistically correct?"
   ]
  },
  {
   "cell_type": "markdown",
   "metadata": {},
   "source": [
    "\n",
    "<h3>Exercises</h3>\n",
    "\n",
    "<p>In this exercise, you will analyze a dataset of human body temperatures and employ the concepts of hypothesis testing, confidence intervals, and statistical significance.</p>\n",
    "\n",
    "<p>Answer the following questions <b>in this notebook below and submit to your Github account</b>.</p> \n",
    "\n",
    "<ol>\n",
    "<li>  Is the distribution of body temperatures normal? \n",
    "    <ul>\n",
    "    <li> Although this is not a requirement for CLT to hold (read CLT carefully), it gives us some peace of mind that the population may also be normally distributed if we assume that this sample is representative of the population.\n",
    "    </ul>\n",
    "<li>  Is the sample size large? Are the observations independent?\n",
    "    <ul>\n",
    "    <li> Remember that this is a condition for the CLT, and hence the statistical tests we are using, to apply.\n",
    "    </ul>\n",
    "<li>  Is the true population mean really 98.6 degrees F?\n",
    "    <ul>\n",
    "    <li> Would you use a one-sample or two-sample test? Why?\n",
    "    <li> In this situation, is it appropriate to use the $t$ or $z$ statistic? \n",
    "    <li> Now try using the other test. How is the result be different? Why?\n",
    "    </ul>\n",
    "<li>  At what temperature should we consider someone's temperature to be \"abnormal\"?\n",
    "    <ul>\n",
    "    <li> Start by computing the margin of error and confidence interval.\n",
    "    </ul>\n",
    "<li>  Is there a significant difference between males and females in normal temperature?\n",
    "    <ul>\n",
    "    <li> What test did you use and why?\n",
    "    <li> Write a story with your conclusion in the context of the original problem.\n",
    "    </ul>\n",
    "</ol>\n",
    "\n",
    "You can include written notes in notebook cells using Markdown: \n",
    "   - In the control panel at the top, choose Cell > Cell Type > Markdown\n",
    "   - Markdown syntax: http://nestacms.com/docs/creating-content/markdown-cheat-sheet\n",
    "\n",
    "#### Resources\n",
    "\n",
    "+ Information and data sources: http://www.amstat.org/publications/jse/datasets/normtemp.txt, http://www.amstat.org/publications/jse/jse_data_archive.htm\n",
    "+ Markdown syntax: http://nestacms.com/docs/creating-content/markdown-cheat-sheet\n",
    "\n",
    "****\n",
    "\n"
   ]
  },
  {
   "cell_type": "code",
   "execution_count": 1,
   "metadata": {
    "collapsed": true
   },
   "outputs": [],
   "source": [
    "import pandas as pd\n",
    "import numpy as np\n",
    "%matplotlib inline\n",
    "import matplotlib.pyplot as plt\n",
    "import seaborn as sns\n",
    "from pylab import *\n",
    "import scipy.stats as ss\n",
    "\n",
    "df = pd.read_csv('data/human_body_temperature.csv')"
   ]
  },
  {
   "cell_type": "markdown",
   "metadata": {
    "collapsed": false,
    "scrolled": false
   },
   "source": [
    "# 1.  Is the distribution of body temperatures normal?\n",
    "\n",
    "### Yes, but it is slightly skewed to the left."
   ]
  },
  {
   "cell_type": "code",
   "execution_count": 2,
   "metadata": {
    "collapsed": false
   },
   "outputs": [
    {
     "data": {
      "text/plain": [
       "(array([  2.,   2.,   2.,   4.,   9.,   6.,  10.,  16.,  18.,  12.,  18.,\n",
       "         12.,  11.,   4.,   1.,   0.,   2.,   0.,   0.,   1.]),\n",
       " array([  96.3  ,   96.525,   96.75 ,   96.975,   97.2  ,   97.425,\n",
       "          97.65 ,   97.875,   98.1  ,   98.325,   98.55 ,   98.775,\n",
       "          99.   ,   99.225,   99.45 ,   99.675,   99.9  ,  100.125,\n",
       "         100.35 ,  100.575,  100.8  ]),\n",
       " <a list of 20 Patch objects>)"
      ]
     },
     "execution_count": 2,
     "metadata": {},
     "output_type": "execute_result"
    },
    {
     "data": {
      "image/png": "[encoded data removed]",
      "text/plain": [
       "<matplotlib.figure.Figure at 0x105382400>"
      ]
     },
     "metadata": {},
     "output_type": "display_data"
    }
   ],
   "source": [
    "x = df.temperature\n",
    "plt.hist(x, bins=20)"
   ]
  },
  {
   "cell_type": "markdown",
   "metadata": {
    "collapsed": false
   },
   "source": [
    "# 2. Is the sample size large? Are the observations independent?\n",
    "\n",
    "\n",
    "### Yes it is well over 30. Yes as far as we know.\n"
   ]
  },
  {
   "cell_type": "code",
   "execution_count": 3,
   "metadata": {
    "collapsed": false
   },
   "outputs": [
    {
     "data": {
      "text/plain": [
       "130"
      ]
     },
     "execution_count": 3,
     "metadata": {},
     "output_type": "execute_result"
    }
   ],
   "source": [
    "len(df)"
   ]
  },
  {
   "cell_type": "markdown",
   "metadata": {
    "collapsed": false
   },
   "source": [
    "# 3. Is the true population mean really 98.6 degrees F?\n",
    "### No! Our z stat was -5.45.  This means it is VERY unlikely that 98.6 degress is the true pop mean.\n",
    "\n",
    "# Would you use a one-sample or two-sample test? Why?\n",
    "### One-sample because we are trying to find the mean for all humans; we are not separating by gender.\n",
    "\n",
    "# In this situation, is it appropriate to use the t or z statistic?\n",
    "### A z-statistic because the sample size is over 30.\n",
    "\n",
    "# Now try using the other test. How is the result be different? Why?\n",
    "### It's not.  They use the same formula"
   ]
  },
  {
   "cell_type": "code",
   "execution_count": 4,
   "metadata": {
    "collapsed": false
   },
   "outputs": [
    {
     "data": {
      "text/plain": [
       "-5.4548232923640789"
      ]
     },
     "execution_count": 4,
     "metadata": {},
     "output_type": "execute_result"
    }
   ],
   "source": [
    "x = df.temperature\n",
    "smean= x.mean()\n",
    "pmean= 98.6\n",
    "sstd= x.std(ddof=1)\n",
    "ss= len(df)\n",
    "\n",
    "zstat = (smean - pmean) / (sstd / np.sqrt(ss))\n",
    "zstat"
   ]
  },
  {
   "cell_type": "markdown",
   "metadata": {
    "collapsed": false
   },
   "source": [
    "# 4. At what temperature should we consider someone's temperature to be \"abnormal\"?\n",
    "# Start by computing the margin of error and confidence interval.\n",
    "\n",
    "\n",
    "\n"
   ]
  },
  {
   "cell_type": "code",
   "execution_count": 5,
   "metadata": {
    "collapsed": false
   },
   "outputs": [
    {
     "name": "stdout",
     "output_type": "stream",
     "text": [
      "margin of error = 0.126036657002\n",
      "95% CI = (98.1231941122 , 98.3752674262)\n"
     ]
    }
   ],
   "source": [
    "zscore=1.96\n",
    "\n",
    "margin= zscore * (sstd / np.sqrt(ss))\n",
    "top = smean + margin\n",
    "bottom = smean - margin\n",
    "\n",
    "print('margin of error = ' + str(margin))\n",
    "print ('95% CI = ('+ str(bottom) + ' , ' + str(top) + ')')"
   ]
  },
  {
   "cell_type": "markdown",
   "metadata": {},
   "source": [
    "# 5. Is there a significant difference between males and females in normal temperature?\n",
    "\n",
    "\n",
    "### Yes. the t statistic is very significant at -2.285"
   ]
  },
  {
   "cell_type": "code",
   "execution_count": 6,
   "metadata": {
    "collapsed": false
   },
   "outputs": [
    {
     "data": {
      "text/plain": [
       "-2.2854345381652741"
      ]
     },
     "execution_count": 6,
     "metadata": {},
     "output_type": "execute_result"
    }
   ],
   "source": [
    "males= df[df.gender == 'M'].temperature\n",
    "females= df[df.gender == 'F'].temperature\n",
    "\n",
    "smean1= males.mean()\n",
    "smean2= females.mean()\n",
    "svar1= males.var()\n",
    "svar2= females.var()\n",
    "ss1= 65\n",
    "ss2= 65\n",
    "\n",
    "tstat= (smean1 - smean2) / (sqrt((svar1 / ss1) + (svar2 / ss2)))\n",
    "tstat"
   ]
  },
  {
   "cell_type": "markdown",
   "metadata": {},
   "source": [
    "# What test did you use and why?\n",
    "\n",
    "### The Hypothesis test for difference of means because we had to independent random samples."
   ]
  },
  {
   "cell_type": "markdown",
   "metadata": {},
   "source": [
    "# Write a story with your conclusion in the context of the original problem.\n",
    "\n",
    "### We are over 95% confident that Males and Females do not have the same mean body temperature."
   ]
  }
 ],
 "metadata": {
  "anaconda-cloud": {},
  "kernelspec": {
   "display_name": "Python [conda root]",
   "language": "python",
   "name": "conda-root-py"
  },
  "language_info": {
   "codemirror_mode": {
    "name": "ipython",
    "version": 3
   },
   "file_extension": ".py",
   "mimetype": "text/x-python",
   "name": "python",
   "nbconvert_exporter": "python",
   "pygments_lexer": "ipython3",
   "version": "3.5.2"
  }
 },
 "nbformat": 4,
 "nbformat_minor": 0
}
