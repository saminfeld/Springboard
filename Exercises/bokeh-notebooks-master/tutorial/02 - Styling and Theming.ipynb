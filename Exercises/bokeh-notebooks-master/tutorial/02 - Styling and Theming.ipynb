{
 "cells": [
  {
   "cell_type": "markdown",
   "metadata": {},
   "source": [
    "<table style=\"float:left; border:none\">\n",
    "   <tr style=\"border:none; background-color: #ffffff\">\n",
    "       <td style=\"border:none\">\n",
    "           <a href=\"http://bokeh.pydata.org/\">     \n",
    "           <img \n",
    "               src=\"assets/bokeh-transparent.png\" \n",
    "               style=\"width:50px\"\n",
    "           >\n",
    "           </a>    \n",
    "       </td>\n",
    "       <td style=\"border:none\">\n",
    "           <h1>Bokeh Tutorial</h1>\n",
    "       </td>\n",
    "   </tr>\n",
    "</table>\n",
    "\n",
    "<div style=\"float:right;\"><h2>02. Styling and Theming</h2></div>"
   ]
  },
  {
   "cell_type": "code",
   "execution_count": 86,
   "metadata": {
    "collapsed": true
   },
   "outputs": [],
   "source": [
    "from bokeh.io import output_notebook, show\n",
    "from bokeh.plotting import figure"
   ]
  },
  {
   "cell_type": "code",
   "execution_count": 87,
   "metadata": {},
   "outputs": [
    {
     "data": {
      "text/html": [
       "\n",
       "    <div class=\"bk-root\">\n",
       "        <a href=\"https://bokeh.pydata.org\" target=\"_blank\" class=\"bk-logo bk-logo-small bk-logo-notebook\"></a>\n",
       "        <span id=\"fdc43f34-2231-4657-ad2b-c0c33aa9491b\">Loading BokehJS ...</span>\n",
       "    </div>"
      ]
     },
     "metadata": {},
     "output_type": "display_data"
    },
    {
     "data": {
      "application/javascript": [
       "\n",
       "(function(root) {\n",
       "  function now() {\n",
       "    return new Date();\n",
       "  }\n",
       "\n",
       "  var force = true;\n",
       "\n",
       "  if (typeof (root._bokeh_onload_callbacks) === \"undefined\" || force === true) {\n",
       "    root._bokeh_onload_callbacks = [];\n",
       "    root._bokeh_is_loading = undefined;\n",
       "  }\n",
       "\n",
       "  var JS_MIME_TYPE = 'application/javascript';\n",
       "  var HTML_MIME_TYPE = 'text/html';\n",
       "  var EXEC_MIME_TYPE = 'application/vnd.bokehjs_exec.v0+json';\n",
       "  var CLASS_NAME = 'output_bokeh rendered_html';\n",
       "\n",
       "  /**\n",
       "   * Render data to the DOM node\n",
       "   */\n",
       "  function render(props, node) {\n",
       "    var script = document.createElement(\"script\");\n",
       "    node.appendChild(script);\n",
       "  }\n",
       "\n",
       "  /**\n",
       "   * Handle when an output is cleared or removed\n",
       "   */\n",
       "  function handleClearOutput(event, handle) {\n",
       "    var cell = handle.cell;\n",
       "\n",
       "    var id = cell.output_area._bokeh_element_id;\n",
       "    var server_id = cell.output_area._bokeh_server_id;\n",
       "    // Clean up Bokeh references\n",
       "    if (id !== undefined) {\n",
       "      Bokeh.index[id].model.document.clear();\n",
       "      delete Bokeh.index[id];\n",
       "    }\n",
       "\n",
       "    if (server_id !== undefined) {\n",
       "      // Clean up Bokeh references\n",
       "      var cmd = \"from bokeh.io import _state; print(_state.uuid_to_server['\" + server_id + \"'].get_sessions()[0].document.roots[0]._id)\";\n",
       "      cell.notebook.kernel.execute(cmd, {\n",
       "        iopub: {\n",
       "          output: function(msg) {\n",
       "            var element_id = msg.content.text.trim();\n",
       "            Bokeh.index[element_id].model.document.clear();\n",
       "            delete Bokeh.index[element_id];\n",
       "          }\n",
       "        }\n",
       "      });\n",
       "      // Destroy server and session\n",
       "      var cmd = \"from bokeh import io; io._destroy_server('\" + server_id + \"')\";\n",
       "      cell.notebook.kernel.execute(cmd);\n",
       "    }\n",
       "  }\n",
       "\n",
       "  /**\n",
       "   * Handle when a new output is added\n",
       "   */\n",
       "  function handleAddOutput(event, handle) {\n",
       "    var output_area = handle.output_area;\n",
       "    var output = handle.output;\n",
       "\n",
       "    // limit handleAddOutput to display_data with EXEC_MIME_TYPE content only\n",
       "    if ((output.output_type != \"display_data\") || (!output.data.hasOwnProperty(EXEC_MIME_TYPE))) {\n",
       "      return\n",
       "    }\n",
       "\n",
       "    var toinsert = output_area.element.find(`.${CLASS_NAME.split(' ')[0]}`);\n",
       "\n",
       "    if (output.metadata[EXEC_MIME_TYPE][\"id\"] !== undefined) {\n",
       "      toinsert[0].firstChild.textContent = output.data[JS_MIME_TYPE];\n",
       "      // store reference to embed id on output_area\n",
       "      output_area._bokeh_element_id = output.metadata[EXEC_MIME_TYPE][\"id\"];\n",
       "    }\n",
       "    if (output.metadata[EXEC_MIME_TYPE][\"server_id\"] !== undefined) {\n",
       "      var bk_div = document.createElement(\"div\");\n",
       "      bk_div.innerHTML = output.data[HTML_MIME_TYPE];\n",
       "      var script_attrs = bk_div.children[0].attributes;\n",
       "      for (var i = 0; i < script_attrs.length; i++) {\n",
       "        toinsert[0].firstChild.setAttribute(script_attrs[i].name, script_attrs[i].value);\n",
       "      }\n",
       "      // store reference to server id on output_area\n",
       "      output_area._bokeh_server_id = output.metadata[EXEC_MIME_TYPE][\"server_id\"];\n",
       "    }\n",
       "  }\n",
       "\n",
       "  function register_renderer(events, OutputArea) {\n",
       "\n",
       "    function append_mime(data, metadata, element) {\n",
       "      // create a DOM node to render to\n",
       "      var toinsert = this.create_output_subarea(\n",
       "        metadata,\n",
       "        CLASS_NAME,\n",
       "        EXEC_MIME_TYPE\n",
       "      );\n",
       "      this.keyboard_manager.register_events(toinsert);\n",
       "      // Render to node\n",
       "      var props = {data: data, metadata: metadata[EXEC_MIME_TYPE]};\n",
       "      render(props, toinsert[0]);\n",
       "      element.append(toinsert);\n",
       "      return toinsert\n",
       "    }\n",
       "\n",
       "    /* Handle when an output is cleared or removed */\n",
       "    events.on('clear_output.CodeCell', handleClearOutput);\n",
       "    events.on('delete.Cell', handleClearOutput);\n",
       "\n",
       "    /* Handle when a new output is added */\n",
       "    events.on('output_added.OutputArea', handleAddOutput);\n",
       "\n",
       "    /**\n",
       "     * Register the mime type and append_mime function with output_area\n",
       "     */\n",
       "    OutputArea.prototype.register_mime_type(EXEC_MIME_TYPE, append_mime, {\n",
       "      /* Is output safe? */\n",
       "      safe: true,\n",
       "      /* Index of renderer in `output_area.display_order` */\n",
       "      index: 0\n",
       "    });\n",
       "  }\n",
       "\n",
       "  // register the mime type if in Jupyter Notebook environment and previously unregistered\n",
       "  if (root.Jupyter !== undefined) {\n",
       "    var events = require('base/js/events');\n",
       "    var OutputArea = require('notebook/js/outputarea').OutputArea;\n",
       "\n",
       "    if (OutputArea.prototype.mime_types().indexOf(EXEC_MIME_TYPE) == -1) {\n",
       "      register_renderer(events, OutputArea);\n",
       "    }\n",
       "  }\n",
       "\n",
       "  \n",
       "  if (typeof (root._bokeh_timeout) === \"undefined\" || force === true) {\n",
       "    root._bokeh_timeout = Date.now() + 5000;\n",
       "    root._bokeh_failed_load = false;\n",
       "  }\n",
       "\n",
       "  var NB_LOAD_WARNING = {'data': {'text/html':\n",
       "     \"<div style='background-color: #fdd'>\\n\"+\n",
       "     \"<p>\\n\"+\n",
       "     \"BokehJS does not appear to have successfully loaded. If loading BokehJS from CDN, this \\n\"+\n",
       "     \"may be due to a slow or bad network connection. Possible fixes:\\n\"+\n",
       "     \"</p>\\n\"+\n",
       "     \"<ul>\\n\"+\n",
       "     \"<li>re-rerun `output_notebook()` to attempt to load from CDN again, or</li>\\n\"+\n",
       "     \"<li>use INLINE resources instead, as so:</li>\\n\"+\n",
       "     \"</ul>\\n\"+\n",
       "     \"<code>\\n\"+\n",
       "     \"from bokeh.resources import INLINE\\n\"+\n",
       "     \"output_notebook(resources=INLINE)\\n\"+\n",
       "     \"</code>\\n\"+\n",
       "     \"</div>\"}};\n",
       "\n",
       "  function display_loaded() {\n",
       "    var el = document.getElementById(\"fdc43f34-2231-4657-ad2b-c0c33aa9491b\");\n",
       "    if (el != null) {\n",
       "      el.textContent = \"BokehJS is loading...\";\n",
       "    }\n",
       "    if (root.Bokeh !== undefined) {\n",
       "      if (el != null) {\n",
       "        el.textContent = \"BokehJS \" + root.Bokeh.version + \" successfully loaded.\";\n",
       "      }\n",
       "    } else if (Date.now() < root._bokeh_timeout) {\n",
       "      setTimeout(display_loaded, 100)\n",
       "    }\n",
       "  }\n",
       "\n",
       "\n",
       "  function run_callbacks() {\n",
       "    try {\n",
       "      root._bokeh_onload_callbacks.forEach(function(callback) { callback() });\n",
       "    }\n",
       "    finally {\n",
       "      delete root._bokeh_onload_callbacks\n",
       "    }\n",
       "    console.info(\"Bokeh: all callbacks have finished\");\n",
       "  }\n",
       "\n",
       "  function load_libs(js_urls, callback) {\n",
       "    root._bokeh_onload_callbacks.push(callback);\n",
       "    if (root._bokeh_is_loading > 0) {\n",
       "      console.log(\"Bokeh: BokehJS is being loaded, scheduling callback at\", now());\n",
       "      return null;\n",
       "    }\n",
       "    if (js_urls == null || js_urls.length === 0) {\n",
       "      run_callbacks();\n",
       "      return null;\n",
       "    }\n",
       "    console.log(\"Bokeh: BokehJS not loaded, scheduling load and callback at\", now());\n",
       "    root._bokeh_is_loading = js_urls.length;\n",
       "    for (var i = 0; i < js_urls.length; i++) {\n",
       "      var url = js_urls[i];\n",
       "      var s = document.createElement('script');\n",
       "      s.src = url;\n",
       "      s.async = false;\n",
       "      s.onreadystatechange = s.onload = function() {\n",
       "        root._bokeh_is_loading--;\n",
       "        if (root._bokeh_is_loading === 0) {\n",
       "          console.log(\"Bokeh: all BokehJS libraries loaded\");\n",
       "          run_callbacks()\n",
       "        }\n",
       "      };\n",
       "      s.onerror = function() {\n",
       "        console.warn(\"failed to load library \" + url);\n",
       "      };\n",
       "      console.log(\"Bokeh: injecting script tag for BokehJS library: \", url);\n",
       "      document.getElementsByTagName(\"head\")[0].appendChild(s);\n",
       "    }\n",
       "  };var element = document.getElementById(\"fdc43f34-2231-4657-ad2b-c0c33aa9491b\");\n",
       "  if (element == null) {\n",
       "    console.log(\"Bokeh: ERROR: autoload.js configured with elementid 'fdc43f34-2231-4657-ad2b-c0c33aa9491b' but no matching script tag was found. \")\n",
       "    return false;\n",
       "  }\n",
       "\n",
       "  var js_urls = [\"https://cdn.pydata.org/bokeh/release/bokeh-0.12.9.min.js\", \"https://cdn.pydata.org/bokeh/release/bokeh-widgets-0.12.9.min.js\", \"https://cdn.pydata.org/bokeh/release/bokeh-tables-0.12.9.min.js\", \"https://cdn.pydata.org/bokeh/release/bokeh-gl-0.12.9.min.js\"];\n",
       "\n",
       "  var inline_js = [\n",
       "    function(Bokeh) {\n",
       "      Bokeh.set_log_level(\"info\");\n",
       "    },\n",
       "    \n",
       "    function(Bokeh) {\n",
       "      \n",
       "    },\n",
       "    function(Bokeh) {\n",
       "      console.log(\"Bokeh: injecting CSS: https://cdn.pydata.org/bokeh/release/bokeh-0.12.9.min.css\");\n",
       "      Bokeh.embed.inject_css(\"https://cdn.pydata.org/bokeh/release/bokeh-0.12.9.min.css\");\n",
       "      console.log(\"Bokeh: injecting CSS: https://cdn.pydata.org/bokeh/release/bokeh-widgets-0.12.9.min.css\");\n",
       "      Bokeh.embed.inject_css(\"https://cdn.pydata.org/bokeh/release/bokeh-widgets-0.12.9.min.css\");\n",
       "      console.log(\"Bokeh: injecting CSS: https://cdn.pydata.org/bokeh/release/bokeh-tables-0.12.9.min.css\");\n",
       "      Bokeh.embed.inject_css(\"https://cdn.pydata.org/bokeh/release/bokeh-tables-0.12.9.min.css\");\n",
       "    }\n",
       "  ];\n",
       "\n",
       "  function run_inline_js() {\n",
       "    \n",
       "    if ((root.Bokeh !== undefined) || (force === true)) {\n",
       "      for (var i = 0; i < inline_js.length; i++) {\n",
       "        inline_js[i].call(root, root.Bokeh);\n",
       "      }if (force === true) {\n",
       "        display_loaded();\n",
       "      }} else if (Date.now() < root._bokeh_timeout) {\n",
       "      setTimeout(run_inline_js, 100);\n",
       "    } else if (!root._bokeh_failed_load) {\n",
       "      console.log(\"Bokeh: BokehJS failed to load within specified timeout.\");\n",
       "      root._bokeh_failed_load = true;\n",
       "    } else if (force !== true) {\n",
       "      var cell = $(document.getElementById(\"fdc43f34-2231-4657-ad2b-c0c33aa9491b\")).parents('.cell').data().cell;\n",
       "      cell.output_area.append_execute_result(NB_LOAD_WARNING)\n",
       "    }\n",
       "\n",
       "  }\n",
       "\n",
       "  if (root._bokeh_is_loading === 0) {\n",
       "    console.log(\"Bokeh: BokehJS loaded, going straight to plotting\");\n",
       "    run_inline_js();\n",
       "  } else {\n",
       "    load_libs(js_urls, function() {\n",
       "      console.log(\"Bokeh: BokehJS plotting callback run at\", now());\n",
       "      run_inline_js();\n",
       "    });\n",
       "  }\n",
       "}(window));"
      ],
      "application/vnd.bokehjs_load.v0+json": "\n(function(root) {\n  function now() {\n    return new Date();\n  }\n\n  var force = true;\n\n  if (typeof (root._bokeh_onload_callbacks) === \"undefined\" || force === true) {\n    root._bokeh_onload_callbacks = [];\n    root._bokeh_is_loading = undefined;\n  }\n\n  \n\n  \n  if (typeof (root._bokeh_timeout) === \"undefined\" || force === true) {\n    root._bokeh_timeout = Date.now() + 5000;\n    root._bokeh_failed_load = false;\n  }\n\n  var NB_LOAD_WARNING = {'data': {'text/html':\n     \"<div style='background-color: #fdd'>\\n\"+\n     \"<p>\\n\"+\n     \"BokehJS does not appear to have successfully loaded. If loading BokehJS from CDN, this \\n\"+\n     \"may be due to a slow or bad network connection. Possible fixes:\\n\"+\n     \"</p>\\n\"+\n     \"<ul>\\n\"+\n     \"<li>re-rerun `output_notebook()` to attempt to load from CDN again, or</li>\\n\"+\n     \"<li>use INLINE resources instead, as so:</li>\\n\"+\n     \"</ul>\\n\"+\n     \"<code>\\n\"+\n     \"from bokeh.resources import INLINE\\n\"+\n     \"output_notebook(resources=INLINE)\\n\"+\n     \"</code>\\n\"+\n     \"</div>\"}};\n\n  function display_loaded() {\n    var el = document.getElementById(\"fdc43f34-2231-4657-ad2b-c0c33aa9491b\");\n    if (el != null) {\n      el.textContent = \"BokehJS is loading...\";\n    }\n    if (root.Bokeh !== undefined) {\n      if (el != null) {\n        el.textContent = \"BokehJS \" + root.Bokeh.version + \" successfully loaded.\";\n      }\n    } else if (Date.now() < root._bokeh_timeout) {\n      setTimeout(display_loaded, 100)\n    }\n  }\n\n\n  function run_callbacks() {\n    try {\n      root._bokeh_onload_callbacks.forEach(function(callback) { callback() });\n    }\n    finally {\n      delete root._bokeh_onload_callbacks\n    }\n    console.info(\"Bokeh: all callbacks have finished\");\n  }\n\n  function load_libs(js_urls, callback) {\n    root._bokeh_onload_callbacks.push(callback);\n    if (root._bokeh_is_loading > 0) {\n      console.log(\"Bokeh: BokehJS is being loaded, scheduling callback at\", now());\n      return null;\n    }\n    if (js_urls == null || js_urls.length === 0) {\n      run_callbacks();\n      return null;\n    }\n    console.log(\"Bokeh: BokehJS not loaded, scheduling load and callback at\", now());\n    root._bokeh_is_loading = js_urls.length;\n    for (var i = 0; i < js_urls.length; i++) {\n      var url = js_urls[i];\n      var s = document.createElement('script');\n      s.src = url;\n      s.async = false;\n      s.onreadystatechange = s.onload = function() {\n        root._bokeh_is_loading--;\n        if (root._bokeh_is_loading === 0) {\n          console.log(\"Bokeh: all BokehJS libraries loaded\");\n          run_callbacks()\n        }\n      };\n      s.onerror = function() {\n        console.warn(\"failed to load library \" + url);\n      };\n      console.log(\"Bokeh: injecting script tag for BokehJS library: \", url);\n      document.getElementsByTagName(\"head\")[0].appendChild(s);\n    }\n  };var element = document.getElementById(\"fdc43f34-2231-4657-ad2b-c0c33aa9491b\");\n  if (element == null) {\n    console.log(\"Bokeh: ERROR: autoload.js configured with elementid 'fdc43f34-2231-4657-ad2b-c0c33aa9491b' but no matching script tag was found. \")\n    return false;\n  }\n\n  var js_urls = [\"https://cdn.pydata.org/bokeh/release/bokeh-0.12.9.min.js\", \"https://cdn.pydata.org/bokeh/release/bokeh-widgets-0.12.9.min.js\", \"https://cdn.pydata.org/bokeh/release/bokeh-tables-0.12.9.min.js\", \"https://cdn.pydata.org/bokeh/release/bokeh-gl-0.12.9.min.js\"];\n\n  var inline_js = [\n    function(Bokeh) {\n      Bokeh.set_log_level(\"info\");\n    },\n    \n    function(Bokeh) {\n      \n    },\n    function(Bokeh) {\n      console.log(\"Bokeh: injecting CSS: https://cdn.pydata.org/bokeh/release/bokeh-0.12.9.min.css\");\n      Bokeh.embed.inject_css(\"https://cdn.pydata.org/bokeh/release/bokeh-0.12.9.min.css\");\n      console.log(\"Bokeh: injecting CSS: https://cdn.pydata.org/bokeh/release/bokeh-widgets-0.12.9.min.css\");\n      Bokeh.embed.inject_css(\"https://cdn.pydata.org/bokeh/release/bokeh-widgets-0.12.9.min.css\");\n      console.log(\"Bokeh: injecting CSS: https://cdn.pydata.org/bokeh/release/bokeh-tables-0.12.9.min.css\");\n      Bokeh.embed.inject_css(\"https://cdn.pydata.org/bokeh/release/bokeh-tables-0.12.9.min.css\");\n    }\n  ];\n\n  function run_inline_js() {\n    \n    if ((root.Bokeh !== undefined) || (force === true)) {\n      for (var i = 0; i < inline_js.length; i++) {\n        inline_js[i].call(root, root.Bokeh);\n      }if (force === true) {\n        display_loaded();\n      }} else if (Date.now() < root._bokeh_timeout) {\n      setTimeout(run_inline_js, 100);\n    } else if (!root._bokeh_failed_load) {\n      console.log(\"Bokeh: BokehJS failed to load within specified timeout.\");\n      root._bokeh_failed_load = true;\n    } else if (force !== true) {\n      var cell = $(document.getElementById(\"fdc43f34-2231-4657-ad2b-c0c33aa9491b\")).parents('.cell').data().cell;\n      cell.output_area.append_execute_result(NB_LOAD_WARNING)\n    }\n\n  }\n\n  if (root._bokeh_is_loading === 0) {\n    console.log(\"Bokeh: BokehJS loaded, going straight to plotting\");\n    run_inline_js();\n  } else {\n    load_libs(js_urls, function() {\n      console.log(\"Bokeh: BokehJS plotting callback run at\", now());\n      run_inline_js();\n    });\n  }\n}(window));"
     },
     "metadata": {},
     "output_type": "display_data"
    }
   ],
   "source": [
    "output_notebook()"
   ]
  },
  {
   "cell_type": "markdown",
   "metadata": {},
   "source": [
    "# Colors and Properties"
   ]
  },
  {
   "cell_type": "markdown",
   "metadata": {},
   "source": [
    "## Colors\n",
    "\n",
    "There are many places where you may need to specify colors. Bokeh can accept colors in a variety of different ways:\n",
    "\n",
    "* any of the [147 named CSS colors](http://www.w3schools.com/cssref/css_colornames.asp), e.g ``'green'``, ``'indigo'``\n",
    "* an RGB(A) hex value, e.g., ``'#FF0000'``, ``'#44444444'``\n",
    "* a 3-tuple of integers *(r,g,b)* between 0 and 255\n",
    "*  a 4-tuple of *(r,g,b,a)* where *r*, *g*, *b* are integers between 0 and 255 and *a* is a floating point value between 0 and 1\n",
    "\n"
   ]
  },
  {
   "cell_type": "markdown",
   "metadata": {
    "collapsed": true
   },
   "source": [
    "## Properties\n",
    "\n",
    "Regardless of what API (``models``, ``plotting``, or ``charts``) is used to create a Bokeh plot, styling the visual aspects of the plot can always be accomplished by setting attributes on the Bokeh model objects that comprise the resulting plot. Visual properties come in three kinds: line, fill, and text properties. For full information with code and examples see the [Styling Visual Properties](http://bokeh.pydata.org/en/latest/docs/user_guide/styling.html) section of the user guide. \n",
    "\n",
    "----\n",
    "\n",
    "### Line Properties\n",
    "\n",
    "Set the visual appearance of lines. The most common are ``line_color``, ``line_alpha``, ``line_width`` and ``line_dash``.\n",
    "\n",
    "### Fill Properties\n",
    "\n",
    "Set the visual appearance of filled areas: ``fill_color`` and ``fill_alpha``.\n",
    "\n",
    "### Text Properties\n",
    "\n",
    "Set the visual appearance of lines of text. The most common are ``text_font``, ``text_font_size``, ``text_color``, and ``text_alpha``.\n",
    "\n",
    "----\n",
    "\n",
    "Sometimes a prefix is used with property names, e.g. to distinguish between different line properties on the same object, or to give a more meaningful name. For example, to set the line width of the plot outline, you would say ``myplot.outline_line_width = 2``. "
   ]
  },
  {
   "cell_type": "markdown",
   "metadata": {},
   "source": [
    "# Plots\n",
    "\n",
    "Many top-level attributes of plots (outline, border, etc.) can be configured. See the [Plots](http://bokeh.pydata.org/en/latest/docs/user_guide/styling.html#plots) section of the styling guide for full information. \n",
    "\n",
    "Here is an example that tweaks the plot outline:"
   ]
  },
  {
   "cell_type": "code",
   "execution_count": 3,
   "metadata": {
    "scrolled": false
   },
   "outputs": [
    {
     "data": {
      "text/html": [
       "\n",
       "<div class=\"bk-root\">\n",
       "    <div class=\"bk-plotdiv\" id=\"7a3324d0-6436-47ef-b0c2-42d58e1b6fb4\"></div>\n",
       "</div>"
      ]
     },
     "metadata": {},
     "output_type": "display_data"
    },
    {
     "data": {
      "application/javascript": [
       "(function(root) {\n",
       "  function embed_document(root) {\n",
       "    var docs_json = {\"8afe1543-9e08-408b-9c54-9d19006822e8\":{\"roots\":{\"references\":[{\"attributes\":{\"dimension\":1,\"plot\":{\"id\":\"f968dafb-0ddf-4e9c-b0ce-d5abc8ebe7c6\",\"subtype\":\"Figure\",\"type\":\"Plot\"},\"ticker\":{\"id\":\"a9477bb0-e1d3-4fa4-b28c-f4df24047811\",\"type\":\"BasicTicker\"}},\"id\":\"6ff07a78-dc77-4df4-93f6-204e55569997\",\"type\":\"Grid\"},{\"attributes\":{},\"id\":\"728075d6-6a96-4bfe-aaa3-33a0cc6ff410\",\"type\":\"BasicTicker\"},{\"attributes\":{},\"id\":\"042835c0-fb96-45e7-8fc1-b6ffd2dbc7ee\",\"type\":\"BasicTickFormatter\"},{\"attributes\":{},\"id\":\"c910fbb7-9b55-4e79-9549-5937d7d344a9\",\"type\":\"PanTool\"},{\"attributes\":{\"formatter\":{\"id\":\"3a38d11f-32a8-43f5-9fb9-13575b50f8da\",\"type\":\"BasicTickFormatter\"},\"plot\":{\"id\":\"f968dafb-0ddf-4e9c-b0ce-d5abc8ebe7c6\",\"subtype\":\"Figure\",\"type\":\"Plot\"},\"ticker\":{\"id\":\"a9477bb0-e1d3-4fa4-b28c-f4df24047811\",\"type\":\"BasicTicker\"}},\"id\":\"354b0bfd-5cbe-42ee-9870-3bb85c162af4\",\"type\":\"LinearAxis\"},{\"attributes\":{\"callback\":null},\"id\":\"3a56bfb8-1289-43bb-b1ec-74727fd14988\",\"type\":\"DataRange1d\"},{\"attributes\":{\"data_source\":{\"id\":\"0ab9af64-4cf1-4191-a310-f9289b8148ee\",\"type\":\"ColumnDataSource\"},\"glyph\":{\"id\":\"b475e241-061a-485d-8116-a10a2dd31bb4\",\"type\":\"Circle\"},\"hover_glyph\":null,\"muted_glyph\":null,\"nonselection_glyph\":{\"id\":\"376a5312-5e3d-42bc-8ee0-61acfc8502ab\",\"type\":\"Circle\"},\"selection_glyph\":null,\"view\":{\"id\":\"de1ee5b8-e829-4436-b972-774d32422bb1\",\"type\":\"CDSView\"}},\"id\":\"0656e636-0409-46d0-8079-67b1f9a754d3\",\"type\":\"GlyphRenderer\"},{\"attributes\":{\"bottom_units\":\"screen\",\"fill_alpha\":{\"value\":0.5},\"fill_color\":{\"value\":\"lightgrey\"},\"left_units\":\"screen\",\"level\":\"overlay\",\"line_alpha\":{\"value\":1.0},\"line_color\":{\"value\":\"black\"},\"line_dash\":[4,4],\"line_width\":{\"value\":2},\"plot\":null,\"render_mode\":\"css\",\"right_units\":\"screen\",\"top_units\":\"screen\"},\"id\":\"a6294e01-195e-4464-b35e-22243098f862\",\"type\":\"BoxAnnotation\"},{\"attributes\":{},\"id\":\"a9477bb0-e1d3-4fa4-b28c-f4df24047811\",\"type\":\"BasicTicker\"},{\"attributes\":{\"plot\":{\"id\":\"f968dafb-0ddf-4e9c-b0ce-d5abc8ebe7c6\",\"subtype\":\"Figure\",\"type\":\"Plot\"},\"ticker\":{\"id\":\"728075d6-6a96-4bfe-aaa3-33a0cc6ff410\",\"type\":\"BasicTicker\"}},\"id\":\"0d46db35-f83f-40aa-ac8f-3b330df488db\",\"type\":\"Grid\"},{\"attributes\":{},\"id\":\"70be9bbd-d915-4941-a352-cb2d22ebbd37\",\"type\":\"SaveTool\"},{\"attributes\":{},\"id\":\"8628c666-46d9-46a5-af21-4c4f142d0d8e\",\"type\":\"HelpTool\"},{\"attributes\":{},\"id\":\"30d9a2dc-f171-4d7a-a793-84239cddaf18\",\"type\":\"LinearScale\"},{\"attributes\":{\"active_drag\":\"auto\",\"active_inspect\":\"auto\",\"active_scroll\":\"auto\",\"active_tap\":\"auto\",\"tools\":[{\"id\":\"c910fbb7-9b55-4e79-9549-5937d7d344a9\",\"type\":\"PanTool\"},{\"id\":\"ba09ba0b-4bc9-4798-b532-1d38e8cb258b\",\"type\":\"WheelZoomTool\"},{\"id\":\"4f6ce3eb-fab8-4018-930c-1f384c6e8a6a\",\"type\":\"BoxZoomTool\"},{\"id\":\"70be9bbd-d915-4941-a352-cb2d22ebbd37\",\"type\":\"SaveTool\"},{\"id\":\"c17aca35-4a98-43d7-8df7-9dfde97d1650\",\"type\":\"ResetTool\"},{\"id\":\"8628c666-46d9-46a5-af21-4c4f142d0d8e\",\"type\":\"HelpTool\"}]},\"id\":\"13458ffa-a6c0-4116-8003-4f27047bd934\",\"type\":\"Toolbar\"},{\"attributes\":{},\"id\":\"ba09ba0b-4bc9-4798-b532-1d38e8cb258b\",\"type\":\"WheelZoomTool\"},{\"attributes\":{\"callback\":null},\"id\":\"d392f299-4c28-4e76-b902-d2139eb6c487\",\"type\":\"DataRange1d\"},{\"attributes\":{\"fill_alpha\":{\"value\":0.1},\"fill_color\":{\"value\":\"#1f77b4\"},\"line_alpha\":{\"value\":0.1},\"line_color\":{\"value\":\"#1f77b4\"},\"size\":{\"units\":\"screen\",\"value\":10},\"x\":{\"field\":\"x\"},\"y\":{\"field\":\"y\"}},\"id\":\"376a5312-5e3d-42bc-8ee0-61acfc8502ab\",\"type\":\"Circle\"},{\"attributes\":{\"source\":{\"id\":\"0ab9af64-4cf1-4191-a310-f9289b8148ee\",\"type\":\"ColumnDataSource\"}},\"id\":\"de1ee5b8-e829-4436-b972-774d32422bb1\",\"type\":\"CDSView\"},{\"attributes\":{\"overlay\":{\"id\":\"a6294e01-195e-4464-b35e-22243098f862\",\"type\":\"BoxAnnotation\"}},\"id\":\"4f6ce3eb-fab8-4018-930c-1f384c6e8a6a\",\"type\":\"BoxZoomTool\"},{\"attributes\":{\"fill_color\":{\"value\":\"#1f77b4\"},\"line_color\":{\"value\":\"#1f77b4\"},\"size\":{\"units\":\"screen\",\"value\":10},\"x\":{\"field\":\"x\"},\"y\":{\"field\":\"y\"}},\"id\":\"b475e241-061a-485d-8116-a10a2dd31bb4\",\"type\":\"Circle\"},{\"attributes\":{\"callback\":null,\"column_names\":[\"x\",\"y\"],\"data\":{\"x\":[1,2,3,4,5],\"y\":[2,5,8,2,7]}},\"id\":\"0ab9af64-4cf1-4191-a310-f9289b8148ee\",\"type\":\"ColumnDataSource\"},{\"attributes\":{\"below\":[{\"id\":\"c00bdd3e-afdc-49a3-b149-a5b90baa5cc2\",\"type\":\"LinearAxis\"}],\"left\":[{\"id\":\"354b0bfd-5cbe-42ee-9870-3bb85c162af4\",\"type\":\"LinearAxis\"}],\"outline_line_alpha\":{\"value\":0.3},\"outline_line_color\":{\"value\":\"navy\"},\"outline_line_width\":{\"value\":7},\"plot_height\":400,\"plot_width\":400,\"renderers\":[{\"id\":\"c00bdd3e-afdc-49a3-b149-a5b90baa5cc2\",\"type\":\"LinearAxis\"},{\"id\":\"0d46db35-f83f-40aa-ac8f-3b330df488db\",\"type\":\"Grid\"},{\"id\":\"354b0bfd-5cbe-42ee-9870-3bb85c162af4\",\"type\":\"LinearAxis\"},{\"id\":\"6ff07a78-dc77-4df4-93f6-204e55569997\",\"type\":\"Grid\"},{\"id\":\"a6294e01-195e-4464-b35e-22243098f862\",\"type\":\"BoxAnnotation\"},{\"id\":\"0656e636-0409-46d0-8079-67b1f9a754d3\",\"type\":\"GlyphRenderer\"}],\"title\":{\"id\":\"f556313d-94d5-43e5-9480-e4d832aa429d\",\"type\":\"Title\"},\"toolbar\":{\"id\":\"13458ffa-a6c0-4116-8003-4f27047bd934\",\"type\":\"Toolbar\"},\"x_range\":{\"id\":\"3a56bfb8-1289-43bb-b1ec-74727fd14988\",\"type\":\"DataRange1d\"},\"x_scale\":{\"id\":\"30d9a2dc-f171-4d7a-a793-84239cddaf18\",\"type\":\"LinearScale\"},\"y_range\":{\"id\":\"d392f299-4c28-4e76-b902-d2139eb6c487\",\"type\":\"DataRange1d\"},\"y_scale\":{\"id\":\"e3780c61-bd85-475e-8319-15ba70ca7530\",\"type\":\"LinearScale\"}},\"id\":\"f968dafb-0ddf-4e9c-b0ce-d5abc8ebe7c6\",\"subtype\":\"Figure\",\"type\":\"Plot\"},{\"attributes\":{\"plot\":null,\"text\":\"\"},\"id\":\"f556313d-94d5-43e5-9480-e4d832aa429d\",\"type\":\"Title\"},{\"attributes\":{},\"id\":\"3a38d11f-32a8-43f5-9fb9-13575b50f8da\",\"type\":\"BasicTickFormatter\"},{\"attributes\":{\"formatter\":{\"id\":\"042835c0-fb96-45e7-8fc1-b6ffd2dbc7ee\",\"type\":\"BasicTickFormatter\"},\"plot\":{\"id\":\"f968dafb-0ddf-4e9c-b0ce-d5abc8ebe7c6\",\"subtype\":\"Figure\",\"type\":\"Plot\"},\"ticker\":{\"id\":\"728075d6-6a96-4bfe-aaa3-33a0cc6ff410\",\"type\":\"BasicTicker\"}},\"id\":\"c00bdd3e-afdc-49a3-b149-a5b90baa5cc2\",\"type\":\"LinearAxis\"},{\"attributes\":{},\"id\":\"c17aca35-4a98-43d7-8df7-9dfde97d1650\",\"type\":\"ResetTool\"},{\"attributes\":{},\"id\":\"e3780c61-bd85-475e-8319-15ba70ca7530\",\"type\":\"LinearScale\"}],\"root_ids\":[\"f968dafb-0ddf-4e9c-b0ce-d5abc8ebe7c6\"]},\"title\":\"Bokeh Application\",\"version\":\"0.12.9\"}};\n",
       "    var render_items = [{\"docid\":\"8afe1543-9e08-408b-9c54-9d19006822e8\",\"elementid\":\"7a3324d0-6436-47ef-b0c2-42d58e1b6fb4\",\"modelid\":\"f968dafb-0ddf-4e9c-b0ce-d5abc8ebe7c6\"}];\n",
       "\n",
       "    root.Bokeh.embed.embed_items(docs_json, render_items);\n",
       "  }\n",
       "\n",
       "  if (root.Bokeh !== undefined) {\n",
       "    embed_document(root);\n",
       "  } else {\n",
       "    var attempts = 0;\n",
       "    var timer = setInterval(function(root) {\n",
       "      if (root.Bokeh !== undefined) {\n",
       "        embed_document(root);\n",
       "        clearInterval(timer);\n",
       "      }\n",
       "      attempts++;\n",
       "      if (attempts > 100) {\n",
       "        console.log(\"Bokeh: ERROR: Unable to embed document because BokehJS library is missing\")\n",
       "        clearInterval(timer);\n",
       "      }\n",
       "    }, 10, root)\n",
       "  }\n",
       "})(window);"
      ],
      "application/vnd.bokehjs_exec.v0+json": ""
     },
     "metadata": {
      "application/vnd.bokehjs_exec.v0+json": {
       "id": "f968dafb-0ddf-4e9c-b0ce-d5abc8ebe7c6"
      }
     },
     "output_type": "display_data"
    }
   ],
   "source": [
    "# create a new plot with a title\n",
    "p = figure(plot_width=400, plot_height=400)\n",
    "p.outline_line_width = 7\n",
    "p.outline_line_alpha = 0.3\n",
    "p.outline_line_color = \"navy\"\n",
    "\n",
    "p.circle([1,2,3,4,5], [2,5,8,2,7], size=10)\n",
    "\n",
    "show(p)"
   ]
  },
  {
   "cell_type": "code",
   "execution_count": 4,
   "metadata": {},
   "outputs": [
    {
     "data": {
      "text/html": [
       "\n",
       "<div class=\"bk-root\">\n",
       "    <div class=\"bk-plotdiv\" id=\"ca82d4d6-8401-44d1-92c4-cf957e70ee18\"></div>\n",
       "</div>"
      ]
     },
     "metadata": {},
     "output_type": "display_data"
    },
    {
     "data": {
      "application/javascript": [
       "(function(root) {\n",
       "  function embed_document(root) {\n",
       "    var docs_json = {\"20a56bad-b756-4ee1-aa62-5dae2aed4cca\":{\"roots\":{\"references\":[{\"attributes\":{\"callback\":null},\"id\":\"c2e14599-9904-40a5-a153-5e6dc8d2bb70\",\"type\":\"DataRange1d\"},{\"attributes\":{},\"id\":\"7880fabd-6161-4c9f-bdba-bc9d3f05d793\",\"type\":\"SaveTool\"},{\"attributes\":{\"plot\":{\"id\":\"1542e3e5-20da-4ae6-8ba8-f9477628055d\",\"subtype\":\"Figure\",\"type\":\"Plot\"},\"ticker\":{\"id\":\"6ee671ff-64e1-4119-b20e-a789d5f5f72c\",\"type\":\"BasicTicker\"}},\"id\":\"102ab57d-d6cf-4f8c-804e-867d4cf97a6c\",\"type\":\"Grid\"},{\"attributes\":{\"overlay\":{\"id\":\"f38cf622-cf6e-4a78-89c8-f7f1d1c47909\",\"type\":\"BoxAnnotation\"}},\"id\":\"7ca722b5-de41-4924-961c-a0bf9395f5fe\",\"type\":\"BoxZoomTool\"},{\"attributes\":{},\"id\":\"ca1d3a73-504d-4a55-92b9-dd1af630d2d0\",\"type\":\"BasicTickFormatter\"},{\"attributes\":{},\"id\":\"6ee671ff-64e1-4119-b20e-a789d5f5f72c\",\"type\":\"BasicTicker\"},{\"attributes\":{\"formatter\":{\"id\":\"ca1d3a73-504d-4a55-92b9-dd1af630d2d0\",\"type\":\"BasicTickFormatter\"},\"plot\":{\"id\":\"1542e3e5-20da-4ae6-8ba8-f9477628055d\",\"subtype\":\"Figure\",\"type\":\"Plot\"},\"ticker\":{\"id\":\"6ee671ff-64e1-4119-b20e-a789d5f5f72c\",\"type\":\"BasicTicker\"}},\"id\":\"4b836862-c5f1-49d0-944f-7db5d2275cce\",\"type\":\"LinearAxis\"},{\"attributes\":{\"below\":[{\"id\":\"4b836862-c5f1-49d0-944f-7db5d2275cce\",\"type\":\"LinearAxis\"}],\"left\":[{\"id\":\"2cb44f58-48a1-4772-8927-a2ee1cc07853\",\"type\":\"LinearAxis\"}],\"plot_height\":400,\"plot_width\":400,\"renderers\":[{\"id\":\"4b836862-c5f1-49d0-944f-7db5d2275cce\",\"type\":\"LinearAxis\"},{\"id\":\"102ab57d-d6cf-4f8c-804e-867d4cf97a6c\",\"type\":\"Grid\"},{\"id\":\"2cb44f58-48a1-4772-8927-a2ee1cc07853\",\"type\":\"LinearAxis\"},{\"id\":\"211719f5-ce63-4b1a-ba41-c07f221451a2\",\"type\":\"Grid\"},{\"id\":\"f38cf622-cf6e-4a78-89c8-f7f1d1c47909\",\"type\":\"BoxAnnotation\"},{\"id\":\"a5ab21bd-6830-49dc-9403-33d77748d3fe\",\"type\":\"GlyphRenderer\"}],\"title\":{\"id\":\"36dd0539-11bd-479d-b3cf-425fe0dbdf0a\",\"type\":\"Title\"},\"toolbar\":{\"id\":\"e8c51f35-134d-40c5-a687-7455f4202a62\",\"type\":\"Toolbar\"},\"x_range\":{\"id\":\"416b2d2b-6ec4-4789-ac17-b238a0575723\",\"type\":\"DataRange1d\"},\"x_scale\":{\"id\":\"e7d03e84-66b7-44bf-a4a0-c54bc922ad91\",\"type\":\"LinearScale\"},\"y_range\":{\"id\":\"c2e14599-9904-40a5-a153-5e6dc8d2bb70\",\"type\":\"DataRange1d\"},\"y_scale\":{\"id\":\"67a08b77-5589-4201-9acd-51964d6aa6d5\",\"type\":\"LinearScale\"}},\"id\":\"1542e3e5-20da-4ae6-8ba8-f9477628055d\",\"subtype\":\"Figure\",\"type\":\"Plot\"},{\"attributes\":{\"source\":{\"id\":\"217bd725-0ef9-4aaa-bcd3-0e9f145e685e\",\"type\":\"ColumnDataSource\"}},\"id\":\"5433f800-d843-4ca6-90f1-16689f4221b8\",\"type\":\"CDSView\"},{\"attributes\":{\"formatter\":{\"id\":\"98343685-89fb-4653-bd43-c8cb76e9a9d2\",\"type\":\"BasicTickFormatter\"},\"plot\":{\"id\":\"1542e3e5-20da-4ae6-8ba8-f9477628055d\",\"subtype\":\"Figure\",\"type\":\"Plot\"},\"ticker\":{\"id\":\"05eacb23-a816-48eb-b6a4-a0576bc985dc\",\"type\":\"BasicTicker\"}},\"id\":\"2cb44f58-48a1-4772-8927-a2ee1cc07853\",\"type\":\"LinearAxis\"},{\"attributes\":{\"active_drag\":\"auto\",\"active_inspect\":\"auto\",\"active_scroll\":\"auto\",\"active_tap\":\"auto\",\"tools\":[{\"id\":\"daf54b36-5177-473e-863b-0bc2f47683bc\",\"type\":\"PanTool\"},{\"id\":\"3c2cc613-b6a9-4730-b66e-3f2667959cfc\",\"type\":\"WheelZoomTool\"},{\"id\":\"7ca722b5-de41-4924-961c-a0bf9395f5fe\",\"type\":\"BoxZoomTool\"},{\"id\":\"7880fabd-6161-4c9f-bdba-bc9d3f05d793\",\"type\":\"SaveTool\"},{\"id\":\"777fc234-2f43-47b7-888a-051cd62de497\",\"type\":\"ResetTool\"},{\"id\":\"cd2319a6-637e-43c9-be2c-c177dba591b7\",\"type\":\"HelpTool\"}]},\"id\":\"e8c51f35-134d-40c5-a687-7455f4202a62\",\"type\":\"Toolbar\"},{\"attributes\":{},\"id\":\"98343685-89fb-4653-bd43-c8cb76e9a9d2\",\"type\":\"BasicTickFormatter\"},{\"attributes\":{},\"id\":\"777fc234-2f43-47b7-888a-051cd62de497\",\"type\":\"ResetTool\"},{\"attributes\":{},\"id\":\"3c2cc613-b6a9-4730-b66e-3f2667959cfc\",\"type\":\"WheelZoomTool\"},{\"attributes\":{\"bottom_units\":\"screen\",\"fill_alpha\":{\"value\":0.5},\"fill_color\":{\"value\":\"lightgrey\"},\"left_units\":\"screen\",\"level\":\"overlay\",\"line_alpha\":{\"value\":1.0},\"line_color\":{\"value\":\"black\"},\"line_dash\":[4,4],\"line_width\":{\"value\":2},\"plot\":null,\"render_mode\":\"css\",\"right_units\":\"screen\",\"top_units\":\"screen\"},\"id\":\"f38cf622-cf6e-4a78-89c8-f7f1d1c47909\",\"type\":\"BoxAnnotation\"},{\"attributes\":{},\"id\":\"daf54b36-5177-473e-863b-0bc2f47683bc\",\"type\":\"PanTool\"},{\"attributes\":{\"dimension\":1,\"plot\":{\"id\":\"1542e3e5-20da-4ae6-8ba8-f9477628055d\",\"subtype\":\"Figure\",\"type\":\"Plot\"},\"ticker\":{\"id\":\"05eacb23-a816-48eb-b6a4-a0576bc985dc\",\"type\":\"BasicTicker\"}},\"id\":\"211719f5-ce63-4b1a-ba41-c07f221451a2\",\"type\":\"Grid\"},{\"attributes\":{},\"id\":\"e7d03e84-66b7-44bf-a4a0-c54bc922ad91\",\"type\":\"LinearScale\"},{\"attributes\":{},\"id\":\"67a08b77-5589-4201-9acd-51964d6aa6d5\",\"type\":\"LinearScale\"},{\"attributes\":{\"callback\":null},\"id\":\"416b2d2b-6ec4-4789-ac17-b238a0575723\",\"type\":\"DataRange1d\"},{\"attributes\":{},\"id\":\"cd2319a6-637e-43c9-be2c-c177dba591b7\",\"type\":\"HelpTool\"},{\"attributes\":{\"data_source\":{\"id\":\"217bd725-0ef9-4aaa-bcd3-0e9f145e685e\",\"type\":\"ColumnDataSource\"},\"glyph\":{\"id\":\"1f4a5227-627b-4dc1-bad3-35993c66540d\",\"type\":\"Line\"},\"hover_glyph\":null,\"muted_glyph\":null,\"nonselection_glyph\":{\"id\":\"6f82f9eb-cb6a-4540-be07-79f095d4d8ad\",\"type\":\"Line\"},\"selection_glyph\":null,\"view\":{\"id\":\"5433f800-d843-4ca6-90f1-16689f4221b8\",\"type\":\"CDSView\"}},\"id\":\"a5ab21bd-6830-49dc-9403-33d77748d3fe\",\"type\":\"GlyphRenderer\"},{\"attributes\":{\"line_alpha\":{\"value\":0.8},\"line_color\":{\"value\":\"navy\"},\"line_width\":{\"value\":7},\"x\":{\"field\":\"x\"},\"y\":{\"field\":\"y\"}},\"id\":\"1f4a5227-627b-4dc1-bad3-35993c66540d\",\"type\":\"Line\"},{\"attributes\":{\"line_alpha\":{\"value\":0.1},\"line_color\":{\"value\":\"#1f77b4\"},\"line_width\":{\"value\":7},\"x\":{\"field\":\"x\"},\"y\":{\"field\":\"y\"}},\"id\":\"6f82f9eb-cb6a-4540-be07-79f095d4d8ad\",\"type\":\"Line\"},{\"attributes\":{},\"id\":\"05eacb23-a816-48eb-b6a4-a0576bc985dc\",\"type\":\"BasicTicker\"},{\"attributes\":{\"plot\":null,\"text\":\"\"},\"id\":\"36dd0539-11bd-479d-b3cf-425fe0dbdf0a\",\"type\":\"Title\"},{\"attributes\":{\"callback\":null,\"column_names\":[\"x\",\"y\"],\"data\":{\"x\":[1,2,3,4,5],\"y\":[2,5,8,2,7]}},\"id\":\"217bd725-0ef9-4aaa-bcd3-0e9f145e685e\",\"type\":\"ColumnDataSource\"}],\"root_ids\":[\"1542e3e5-20da-4ae6-8ba8-f9477628055d\"]},\"title\":\"Bokeh Application\",\"version\":\"0.12.9\"}};\n",
       "    var render_items = [{\"docid\":\"20a56bad-b756-4ee1-aa62-5dae2aed4cca\",\"elementid\":\"ca82d4d6-8401-44d1-92c4-cf957e70ee18\",\"modelid\":\"1542e3e5-20da-4ae6-8ba8-f9477628055d\"}];\n",
       "\n",
       "    root.Bokeh.embed.embed_items(docs_json, render_items);\n",
       "  }\n",
       "\n",
       "  if (root.Bokeh !== undefined) {\n",
       "    embed_document(root);\n",
       "  } else {\n",
       "    var attempts = 0;\n",
       "    var timer = setInterval(function(root) {\n",
       "      if (root.Bokeh !== undefined) {\n",
       "        embed_document(root);\n",
       "        clearInterval(timer);\n",
       "      }\n",
       "      attempts++;\n",
       "      if (attempts > 100) {\n",
       "        console.log(\"Bokeh: ERROR: Unable to embed document because BokehJS library is missing\")\n",
       "        clearInterval(timer);\n",
       "      }\n",
       "    }, 10, root)\n",
       "  }\n",
       "})(window);"
      ],
      "application/vnd.bokehjs_exec.v0+json": ""
     },
     "metadata": {
      "application/vnd.bokehjs_exec.v0+json": {
       "id": "1542e3e5-20da-4ae6-8ba8-f9477628055d"
      }
     },
     "output_type": "display_data"
    }
   ],
   "source": [
    "# EXERCISE Create a plot of your own and customize several plot-level properties\n",
    "# create a new plot with a title\n",
    "p = figure(plot_width=400, plot_height=400)\n",
    "p.line([1,2,3,4,5], [2,5,8,2,7],line_width = 7,line_alpha = .8,line_color = \"navy\")\n",
    "\n",
    "\n",
    "show(p)"
   ]
  },
  {
   "cell_type": "markdown",
   "metadata": {},
   "source": [
    "# Glyphs\n",
    "\n",
    "It's also possible to style the visual properties of glyphs. When using `bokeh.plotting` this is often done when calling the glyph methods:\n",
    "```python\n",
    "p.circle(line_color=\"red\", fill_alpha=0.2, ...)\n",
    "```\n",
    "But it is also possible to set these properties directly on glyph objects. Glyph objects are found on `GlyphRenderer` objects, which are returned by the `Plot.add_glyph` and `bokeh.plotting` glyph methods like `circle`, `rect`, etc. Let's look at an example:"
   ]
  },
  {
   "cell_type": "code",
   "execution_count": 5,
   "metadata": {},
   "outputs": [
    {
     "data": {
      "text/html": [
       "\n",
       "<div class=\"bk-root\">\n",
       "    <div class=\"bk-plotdiv\" id=\"a534e679-6bd0-45f9-a29f-c8714013e25c\"></div>\n",
       "</div>"
      ]
     },
     "metadata": {},
     "output_type": "display_data"
    },
    {
     "data": {
      "application/javascript": [
       "(function(root) {\n",
       "  function embed_document(root) {\n",
       "    var docs_json = {\"e30b619c-320e-4d3c-a545-1eaeb1f4cfd0\":{\"roots\":{\"references\":[{\"attributes\":{},\"id\":\"084545f1-fe52-40f4-9cef-02679b469e1c\",\"type\":\"BasicTickFormatter\"},{\"attributes\":{},\"id\":\"b34424a4-9f1e-4345-9949-883e36699298\",\"type\":\"LinearScale\"},{\"attributes\":{\"fill_alpha\":{\"value\":0.2},\"fill_color\":{\"value\":\"#1f77b4\"},\"line_color\":{\"value\":\"firebrick\"},\"line_dash\":[5,1],\"line_width\":{\"value\":2},\"size\":{\"units\":\"screen\",\"value\":50},\"x\":{\"field\":\"x\"},\"y\":{\"field\":\"y\"}},\"id\":\"b06d7c33-2aa6-4b22-a4c9-1c2fef110b96\",\"type\":\"Circle\"},{\"attributes\":{\"below\":[{\"id\":\"bb8bd878-6e10-428a-8790-a0ef573bbc9b\",\"type\":\"LinearAxis\"}],\"left\":[{\"id\":\"a47c1976-ec89-459e-9a4b-74fc81c912b7\",\"type\":\"LinearAxis\"}],\"plot_height\":400,\"plot_width\":400,\"renderers\":[{\"id\":\"bb8bd878-6e10-428a-8790-a0ef573bbc9b\",\"type\":\"LinearAxis\"},{\"id\":\"b016415e-8e4f-40f0-b7a6-e3f5c170800e\",\"type\":\"Grid\"},{\"id\":\"a47c1976-ec89-459e-9a4b-74fc81c912b7\",\"type\":\"LinearAxis\"},{\"id\":\"ce76d51e-1ef6-4e76-abce-f5ff571d6caf\",\"type\":\"Grid\"},{\"id\":\"23969195-31f4-4dfb-b1ba-6f848236813f\",\"type\":\"BoxAnnotation\"},{\"id\":\"99afac88-ee4a-407f-800a-edd5c99ceb49\",\"type\":\"GlyphRenderer\"}],\"title\":{\"id\":\"03751958-3295-42a9-b39a-93cab4c24ae1\",\"type\":\"Title\"},\"toolbar\":{\"id\":\"b78b1b33-7d42-4c71-9991-66d0b3f38442\",\"type\":\"Toolbar\"},\"x_range\":{\"id\":\"15a942e1-533c-4101-b36c-7b51e821fddd\",\"type\":\"DataRange1d\"},\"x_scale\":{\"id\":\"b34424a4-9f1e-4345-9949-883e36699298\",\"type\":\"LinearScale\"},\"y_range\":{\"id\":\"b931b8e3-f886-4262-8b8e-250035c6f411\",\"type\":\"DataRange1d\"},\"y_scale\":{\"id\":\"e5e74cbf-1021-46b9-ba8a-1a1a3904f15f\",\"type\":\"LinearScale\"}},\"id\":\"567603c4-1ee2-40ed-9c8b-e4ae096612e5\",\"subtype\":\"Figure\",\"type\":\"Plot\"},{\"attributes\":{\"plot\":null,\"text\":\"\"},\"id\":\"03751958-3295-42a9-b39a-93cab4c24ae1\",\"type\":\"Title\"},{\"attributes\":{\"data_source\":{\"id\":\"91568ca3-b106-410a-89b9-b3040457e226\",\"type\":\"ColumnDataSource\"},\"glyph\":{\"id\":\"b06d7c33-2aa6-4b22-a4c9-1c2fef110b96\",\"type\":\"Circle\"},\"hover_glyph\":null,\"muted_glyph\":null,\"nonselection_glyph\":{\"id\":\"41d736e4-c0c7-4f6d-96e0-9435a718b1c3\",\"type\":\"Circle\"},\"selection_glyph\":null,\"view\":{\"id\":\"69657aa8-bdf2-4d28-b5bf-4601ea89522e\",\"type\":\"CDSView\"}},\"id\":\"99afac88-ee4a-407f-800a-edd5c99ceb49\",\"type\":\"GlyphRenderer\"},{\"attributes\":{},\"id\":\"676c08c0-3a1a-4181-8e4b-0926e6018cc4\",\"type\":\"BasicTicker\"},{\"attributes\":{},\"id\":\"6790c5d4-76fc-405e-877e-feeb5764a4e6\",\"type\":\"HelpTool\"},{\"attributes\":{},\"id\":\"ce4a720a-9a58-427e-902b-dce9fa182489\",\"type\":\"SaveTool\"},{\"attributes\":{},\"id\":\"6e51494a-d2de-463f-9fd8-af0419a6692a\",\"type\":\"WheelZoomTool\"},{\"attributes\":{},\"id\":\"aa1dca9a-4222-46b9-b01f-5bc9ee26936a\",\"type\":\"PanTool\"},{\"attributes\":{},\"id\":\"7d0d79df-1cce-4aca-8968-ec1f2662de03\",\"type\":\"ResetTool\"},{\"attributes\":{\"plot\":{\"id\":\"567603c4-1ee2-40ed-9c8b-e4ae096612e5\",\"subtype\":\"Figure\",\"type\":\"Plot\"},\"ticker\":{\"id\":\"4d5c45d3-9673-4f98-9f76-4dd08ca6a3d3\",\"type\":\"BasicTicker\"}},\"id\":\"b016415e-8e4f-40f0-b7a6-e3f5c170800e\",\"type\":\"Grid\"},{\"attributes\":{},\"id\":\"e5e74cbf-1021-46b9-ba8a-1a1a3904f15f\",\"type\":\"LinearScale\"},{\"attributes\":{\"formatter\":{\"id\":\"084545f1-fe52-40f4-9cef-02679b469e1c\",\"type\":\"BasicTickFormatter\"},\"plot\":{\"id\":\"567603c4-1ee2-40ed-9c8b-e4ae096612e5\",\"subtype\":\"Figure\",\"type\":\"Plot\"},\"ticker\":{\"id\":\"4d5c45d3-9673-4f98-9f76-4dd08ca6a3d3\",\"type\":\"BasicTicker\"}},\"id\":\"bb8bd878-6e10-428a-8790-a0ef573bbc9b\",\"type\":\"LinearAxis\"},{\"attributes\":{\"callback\":null,\"column_names\":[\"x\",\"y\"],\"data\":{\"x\":[1,2,3,4,5],\"y\":[2,5,8,2,7]}},\"id\":\"91568ca3-b106-410a-89b9-b3040457e226\",\"type\":\"ColumnDataSource\"},{\"attributes\":{},\"id\":\"bced4d20-b7b1-4046-9386-af9caa6d1c0c\",\"type\":\"BasicTickFormatter\"},{\"attributes\":{\"callback\":null},\"id\":\"15a942e1-533c-4101-b36c-7b51e821fddd\",\"type\":\"DataRange1d\"},{\"attributes\":{\"fill_alpha\":{\"value\":0.1},\"fill_color\":{\"value\":\"#1f77b4\"},\"line_alpha\":{\"value\":0.1},\"line_color\":{\"value\":\"#1f77b4\"},\"x\":{\"field\":\"x\"},\"y\":{\"field\":\"y\"}},\"id\":\"41d736e4-c0c7-4f6d-96e0-9435a718b1c3\",\"type\":\"Circle\"},{\"attributes\":{\"overlay\":{\"id\":\"23969195-31f4-4dfb-b1ba-6f848236813f\",\"type\":\"BoxAnnotation\"}},\"id\":\"57808a1c-4561-46ed-a1c8-a7ef29b6d773\",\"type\":\"BoxZoomTool\"},{\"attributes\":{\"dimension\":1,\"plot\":{\"id\":\"567603c4-1ee2-40ed-9c8b-e4ae096612e5\",\"subtype\":\"Figure\",\"type\":\"Plot\"},\"ticker\":{\"id\":\"676c08c0-3a1a-4181-8e4b-0926e6018cc4\",\"type\":\"BasicTicker\"}},\"id\":\"ce76d51e-1ef6-4e76-abce-f5ff571d6caf\",\"type\":\"Grid\"},{\"attributes\":{},\"id\":\"4d5c45d3-9673-4f98-9f76-4dd08ca6a3d3\",\"type\":\"BasicTicker\"},{\"attributes\":{\"source\":{\"id\":\"91568ca3-b106-410a-89b9-b3040457e226\",\"type\":\"ColumnDataSource\"}},\"id\":\"69657aa8-bdf2-4d28-b5bf-4601ea89522e\",\"type\":\"CDSView\"},{\"attributes\":{\"callback\":null},\"id\":\"b931b8e3-f886-4262-8b8e-250035c6f411\",\"type\":\"DataRange1d\"},{\"attributes\":{\"bottom_units\":\"screen\",\"fill_alpha\":{\"value\":0.5},\"fill_color\":{\"value\":\"lightgrey\"},\"left_units\":\"screen\",\"level\":\"overlay\",\"line_alpha\":{\"value\":1.0},\"line_color\":{\"value\":\"black\"},\"line_dash\":[4,4],\"line_width\":{\"value\":2},\"plot\":null,\"render_mode\":\"css\",\"right_units\":\"screen\",\"top_units\":\"screen\"},\"id\":\"23969195-31f4-4dfb-b1ba-6f848236813f\",\"type\":\"BoxAnnotation\"},{\"attributes\":{\"formatter\":{\"id\":\"bced4d20-b7b1-4046-9386-af9caa6d1c0c\",\"type\":\"BasicTickFormatter\"},\"plot\":{\"id\":\"567603c4-1ee2-40ed-9c8b-e4ae096612e5\",\"subtype\":\"Figure\",\"type\":\"Plot\"},\"ticker\":{\"id\":\"676c08c0-3a1a-4181-8e4b-0926e6018cc4\",\"type\":\"BasicTicker\"}},\"id\":\"a47c1976-ec89-459e-9a4b-74fc81c912b7\",\"type\":\"LinearAxis\"},{\"attributes\":{\"active_drag\":\"auto\",\"active_inspect\":\"auto\",\"active_scroll\":\"auto\",\"active_tap\":\"auto\",\"tools\":[{\"id\":\"aa1dca9a-4222-46b9-b01f-5bc9ee26936a\",\"type\":\"PanTool\"},{\"id\":\"6e51494a-d2de-463f-9fd8-af0419a6692a\",\"type\":\"WheelZoomTool\"},{\"id\":\"57808a1c-4561-46ed-a1c8-a7ef29b6d773\",\"type\":\"BoxZoomTool\"},{\"id\":\"ce4a720a-9a58-427e-902b-dce9fa182489\",\"type\":\"SaveTool\"},{\"id\":\"7d0d79df-1cce-4aca-8968-ec1f2662de03\",\"type\":\"ResetTool\"},{\"id\":\"6790c5d4-76fc-405e-877e-feeb5764a4e6\",\"type\":\"HelpTool\"}]},\"id\":\"b78b1b33-7d42-4c71-9991-66d0b3f38442\",\"type\":\"Toolbar\"}],\"root_ids\":[\"567603c4-1ee2-40ed-9c8b-e4ae096612e5\"]},\"title\":\"Bokeh Application\",\"version\":\"0.12.9\"}};\n",
       "    var render_items = [{\"docid\":\"e30b619c-320e-4d3c-a545-1eaeb1f4cfd0\",\"elementid\":\"a534e679-6bd0-45f9-a29f-c8714013e25c\",\"modelid\":\"567603c4-1ee2-40ed-9c8b-e4ae096612e5\"}];\n",
       "\n",
       "    root.Bokeh.embed.embed_items(docs_json, render_items);\n",
       "  }\n",
       "\n",
       "  if (root.Bokeh !== undefined) {\n",
       "    embed_document(root);\n",
       "  } else {\n",
       "    var attempts = 0;\n",
       "    var timer = setInterval(function(root) {\n",
       "      if (root.Bokeh !== undefined) {\n",
       "        embed_document(root);\n",
       "        clearInterval(timer);\n",
       "      }\n",
       "      attempts++;\n",
       "      if (attempts > 100) {\n",
       "        console.log(\"Bokeh: ERROR: Unable to embed document because BokehJS library is missing\")\n",
       "        clearInterval(timer);\n",
       "      }\n",
       "    }, 10, root)\n",
       "  }\n",
       "})(window);"
      ],
      "application/vnd.bokehjs_exec.v0+json": ""
     },
     "metadata": {
      "application/vnd.bokehjs_exec.v0+json": {
       "id": "567603c4-1ee2-40ed-9c8b-e4ae096612e5"
      }
     },
     "output_type": "display_data"
    }
   ],
   "source": [
    "p = figure(plot_width=400, plot_height=400)\n",
    "\n",
    "# keep a reference to the returned GlyphRenderer\n",
    "r = p.circle([1,2,3,4,5], [2,5,8,2,7])\n",
    "\n",
    "r.glyph.size = 50\n",
    "r.glyph.fill_alpha = 0.2\n",
    "r.glyph.line_color = \"firebrick\"\n",
    "r.glyph.line_dash = [5, 1]\n",
    "r.glyph.line_width = 2\n",
    "\n",
    "show(p)"
   ]
  },
  {
   "cell_type": "markdown",
   "metadata": {},
   "source": [
    "### Selection and non-selection visuals\n",
    "\n",
    "You can also control how glyphs look when there are selections involved. The set of \"selected\" points is displayed according to the optional `.selection_glyph` property of a `GlyphRenderer`:\n",
    "```python\n",
    "r.selection_glyph = Circle(fill_alpha=1, fill_color=\"firebrick\", line_color=None) \n",
    "```\n",
    "When there is a non-empty selection, the set of \"unselected: points is displayed according to the optional  `.nonselection_glyph` property of a `GlyphRenderer`:\n",
    "```python\n",
    "r.nonselection_glyph = Circle(fill_alpha=0.2, fill_color=\"grey\", line_color=None) \n",
    "```\n",
    "\n",
    "When using the `bokeh.plotting` interface, it is easier to pass these visual properties to the glyph methods as shown below. The glyph method will create the selection or nonselection glyphs and attach them to the renderer for you. "
   ]
  },
  {
   "cell_type": "code",
   "execution_count": 88,
   "metadata": {},
   "outputs": [
    {
     "data": {
      "text/html": [
       "\n",
       "<div class=\"bk-root\">\n",
       "    <div class=\"bk-plotdiv\" id=\"36b98e08-0254-4928-9b22-0bf581969d6d\"></div>\n",
       "</div>"
      ]
     },
     "metadata": {},
     "output_type": "display_data"
    },
    {
     "data": {
      "application/javascript": [
       "(function(root) {\n",
       "  function embed_document(root) {\n",
       "    var docs_json = {\"9295bd2f-55f7-4e1b-b20a-dcc20d66f08d\":{\"roots\":{\"references\":[{\"attributes\":{\"plot\":{\"id\":\"d588ffac-9bca-4836-bafd-5da8a636b5ca\",\"subtype\":\"Figure\",\"type\":\"Plot\"},\"ticker\":{\"id\":\"e7b2b52d-c4ea-4bb5-8183-7a7449cb21d6\",\"type\":\"BasicTicker\"}},\"id\":\"302776b5-4041-4a9c-94bc-c703e7c1a911\",\"type\":\"Grid\"},{\"attributes\":{},\"id\":\"320aab0d-9cbc-4017-8292-7d9a242718b4\",\"type\":\"LinearScale\"},{\"attributes\":{\"dimension\":1,\"plot\":{\"id\":\"d588ffac-9bca-4836-bafd-5da8a636b5ca\",\"subtype\":\"Figure\",\"type\":\"Plot\"},\"ticker\":{\"id\":\"9b620a85-cd0a-45c2-9f22-51cd23a81d00\",\"type\":\"BasicTicker\"}},\"id\":\"80d9ef5d-d13d-4465-bfe9-bd929f490d88\",\"type\":\"Grid\"},{\"attributes\":{\"active_drag\":\"auto\",\"active_inspect\":\"auto\",\"active_scroll\":\"auto\",\"active_tap\":\"auto\",\"tools\":[{\"id\":\"030ca151-ee6d-4fd7-92c8-8917bbb95e7d\",\"type\":\"TapTool\"}]},\"id\":\"ce4dcfc9-4a3d-4fd1-bce2-b896600680d2\",\"type\":\"Toolbar\"},{\"attributes\":{\"fill_color\":{\"value\":\"firebrick\"},\"line_color\":{\"value\":\"firebrick\"},\"size\":{\"units\":\"screen\",\"value\":50},\"x\":{\"field\":\"x\"},\"y\":{\"field\":\"y\"}},\"id\":\"c1714630-8a65-4737-82fd-47e1a2eaa4f9\",\"type\":\"Circle\"},{\"attributes\":{\"below\":[{\"id\":\"b97719f1-ca89-45d0-b9fe-be4400432744\",\"type\":\"LinearAxis\"}],\"left\":[{\"id\":\"692f51ce-aa2b-4b77-882b-96cffe458cde\",\"type\":\"LinearAxis\"}],\"plot_height\":400,\"plot_width\":400,\"renderers\":[{\"id\":\"b97719f1-ca89-45d0-b9fe-be4400432744\",\"type\":\"LinearAxis\"},{\"id\":\"302776b5-4041-4a9c-94bc-c703e7c1a911\",\"type\":\"Grid\"},{\"id\":\"692f51ce-aa2b-4b77-882b-96cffe458cde\",\"type\":\"LinearAxis\"},{\"id\":\"80d9ef5d-d13d-4465-bfe9-bd929f490d88\",\"type\":\"Grid\"},{\"id\":\"b3fc2fad-46ba-479e-9b42-cb162bf9ff5a\",\"type\":\"GlyphRenderer\"}],\"title\":{\"id\":\"cbc3f744-a2ae-48db-847d-fcc1740f248c\",\"type\":\"Title\"},\"toolbar\":{\"id\":\"ce4dcfc9-4a3d-4fd1-bce2-b896600680d2\",\"type\":\"Toolbar\"},\"x_range\":{\"id\":\"537b403e-784c-4023-86f7-54dbcbe4cb42\",\"type\":\"DataRange1d\"},\"x_scale\":{\"id\":\"83025a20-d2b8-47c8-970c-91065a22bb38\",\"type\":\"LinearScale\"},\"y_range\":{\"id\":\"6ed3b300-f138-4194-aac0-8827ecbb1c43\",\"type\":\"DataRange1d\"},\"y_scale\":{\"id\":\"320aab0d-9cbc-4017-8292-7d9a242718b4\",\"type\":\"LinearScale\"}},\"id\":\"d588ffac-9bca-4836-bafd-5da8a636b5ca\",\"subtype\":\"Figure\",\"type\":\"Plot\"},{\"attributes\":{\"callback\":null},\"id\":\"030ca151-ee6d-4fd7-92c8-8917bbb95e7d\",\"type\":\"TapTool\"},{\"attributes\":{\"fill_color\":{\"value\":\"#1f77b4\"},\"line_color\":{\"value\":\"#1f77b4\"},\"size\":{\"units\":\"screen\",\"value\":50},\"x\":{\"field\":\"x\"},\"y\":{\"field\":\"y\"}},\"id\":\"3b25faaf-ef21-4c76-b9bf-84ea6ea219a1\",\"type\":\"Circle\"},{\"attributes\":{\"formatter\":{\"id\":\"77779fca-a42f-40af-9ccd-9e647422df52\",\"type\":\"BasicTickFormatter\"},\"plot\":{\"id\":\"d588ffac-9bca-4836-bafd-5da8a636b5ca\",\"subtype\":\"Figure\",\"type\":\"Plot\"},\"ticker\":{\"id\":\"e7b2b52d-c4ea-4bb5-8183-7a7449cb21d6\",\"type\":\"BasicTicker\"}},\"id\":\"b97719f1-ca89-45d0-b9fe-be4400432744\",\"type\":\"LinearAxis\"},{\"attributes\":{\"fill_alpha\":{\"value\":0.2},\"fill_color\":{\"value\":\"grey\"},\"line_color\":{\"value\":\"firebrick\"},\"size\":{\"units\":\"screen\",\"value\":50},\"x\":{\"field\":\"x\"},\"y\":{\"field\":\"y\"}},\"id\":\"28d495b5-cf63-4b02-8fda-2c32c82fc920\",\"type\":\"Circle\"},{\"attributes\":{\"source\":{\"id\":\"e363859a-a069-47b7-80ec-610500f04c9e\",\"type\":\"ColumnDataSource\"}},\"id\":\"1b6a09ad-fe9b-4ce4-a6a1-a2e3d58c5450\",\"type\":\"CDSView\"},{\"attributes\":{\"formatter\":{\"id\":\"c862fd81-f321-460b-9cab-3d176553611b\",\"type\":\"BasicTickFormatter\"},\"plot\":{\"id\":\"d588ffac-9bca-4836-bafd-5da8a636b5ca\",\"subtype\":\"Figure\",\"type\":\"Plot\"},\"ticker\":{\"id\":\"9b620a85-cd0a-45c2-9f22-51cd23a81d00\",\"type\":\"BasicTicker\"}},\"id\":\"692f51ce-aa2b-4b77-882b-96cffe458cde\",\"type\":\"LinearAxis\"},{\"attributes\":{},\"id\":\"c862fd81-f321-460b-9cab-3d176553611b\",\"type\":\"BasicTickFormatter\"},{\"attributes\":{\"callback\":null},\"id\":\"6ed3b300-f138-4194-aac0-8827ecbb1c43\",\"type\":\"DataRange1d\"},{\"attributes\":{\"data_source\":{\"id\":\"e363859a-a069-47b7-80ec-610500f04c9e\",\"type\":\"ColumnDataSource\"},\"glyph\":{\"id\":\"3b25faaf-ef21-4c76-b9bf-84ea6ea219a1\",\"type\":\"Circle\"},\"hover_glyph\":null,\"muted_glyph\":null,\"nonselection_glyph\":{\"id\":\"28d495b5-cf63-4b02-8fda-2c32c82fc920\",\"type\":\"Circle\"},\"selection_glyph\":{\"id\":\"c1714630-8a65-4737-82fd-47e1a2eaa4f9\",\"type\":\"Circle\"},\"view\":{\"id\":\"1b6a09ad-fe9b-4ce4-a6a1-a2e3d58c5450\",\"type\":\"CDSView\"}},\"id\":\"b3fc2fad-46ba-479e-9b42-cb162bf9ff5a\",\"type\":\"GlyphRenderer\"},{\"attributes\":{\"callback\":null,\"column_names\":[\"x\",\"y\"],\"data\":{\"x\":[1,2,3,4,5],\"y\":[2,5,8,2,7]}},\"id\":\"e363859a-a069-47b7-80ec-610500f04c9e\",\"type\":\"ColumnDataSource\"},{\"attributes\":{},\"id\":\"e7b2b52d-c4ea-4bb5-8183-7a7449cb21d6\",\"type\":\"BasicTicker\"},{\"attributes\":{},\"id\":\"83025a20-d2b8-47c8-970c-91065a22bb38\",\"type\":\"LinearScale\"},{\"attributes\":{},\"id\":\"77779fca-a42f-40af-9ccd-9e647422df52\",\"type\":\"BasicTickFormatter\"},{\"attributes\":{\"callback\":null},\"id\":\"537b403e-784c-4023-86f7-54dbcbe4cb42\",\"type\":\"DataRange1d\"},{\"attributes\":{\"plot\":null,\"text\":\"Select a circle\"},\"id\":\"cbc3f744-a2ae-48db-847d-fcc1740f248c\",\"type\":\"Title\"},{\"attributes\":{},\"id\":\"9b620a85-cd0a-45c2-9f22-51cd23a81d00\",\"type\":\"BasicTicker\"}],\"root_ids\":[\"d588ffac-9bca-4836-bafd-5da8a636b5ca\"]},\"title\":\"Bokeh Application\",\"version\":\"0.12.9\"}};\n",
       "    var render_items = [{\"docid\":\"9295bd2f-55f7-4e1b-b20a-dcc20d66f08d\",\"elementid\":\"36b98e08-0254-4928-9b22-0bf581969d6d\",\"modelid\":\"d588ffac-9bca-4836-bafd-5da8a636b5ca\"}];\n",
       "\n",
       "    root.Bokeh.embed.embed_items(docs_json, render_items);\n",
       "  }\n",
       "\n",
       "  if (root.Bokeh !== undefined) {\n",
       "    embed_document(root);\n",
       "  } else {\n",
       "    var attempts = 0;\n",
       "    var timer = setInterval(function(root) {\n",
       "      if (root.Bokeh !== undefined) {\n",
       "        embed_document(root);\n",
       "        clearInterval(timer);\n",
       "      }\n",
       "      attempts++;\n",
       "      if (attempts > 100) {\n",
       "        console.log(\"Bokeh: ERROR: Unable to embed document because BokehJS library is missing\")\n",
       "        clearInterval(timer);\n",
       "      }\n",
       "    }, 10, root)\n",
       "  }\n",
       "})(window);"
      ],
      "application/vnd.bokehjs_exec.v0+json": ""
     },
     "metadata": {
      "application/vnd.bokehjs_exec.v0+json": {
       "id": "d588ffac-9bca-4836-bafd-5da8a636b5ca"
      }
     },
     "output_type": "display_data"
    }
   ],
   "source": [
    "p = figure(plot_width=400, plot_height=400, tools=\"tap\", title=\"Select a circle\")\n",
    "renderer = p.circle([1, 2, 3, 4, 5], [2, 5, 8, 2, 7], size=50,\n",
    "\n",
    "                    # set visual properties for selected glyphs\n",
    "                    selection_color=\"firebrick\",\n",
    "\n",
    "                    # set visual properties for non-selected glyphs\n",
    "                    nonselection_fill_alpha=0.2,\n",
    "                    nonselection_fill_color=\"grey\",\n",
    "                    nonselection_line_color=\"firebrick\",\n",
    "                    nonselection_line_alpha=1.0)\n",
    "\n",
    "show(p)"
   ]
  },
  {
   "cell_type": "markdown",
   "metadata": {},
   "source": [
    "It is also possible to specify the visual appearance of glyphs when they are \"inspected\", e.g. by a hover tool. This is accomplished by setting an optional `hover_glyph` on the glyph renderer:\n",
    "```python\n",
    "r.hover_glyph = Circle(fill_alpha=1, fill_color=\"firebrick\", line_color=None) \n",
    "```\n",
    "Or if using `bokeh.plotting` glyph methods, by passing `hover_fill_alpha`, etc. to the glyph method. Lets look at an example that works together with a `HoverTool` configured for \"hline\" hit-testing."
   ]
  },
  {
   "cell_type": "code",
   "execution_count": 39,
   "metadata": {},
   "outputs": [
    {
     "data": {
      "text/html": [
       "\n",
       "<div class=\"bk-root\">\n",
       "    <div class=\"bk-plotdiv\" id=\"7f8ee764-6265-4508-b2f6-d6240012b06d\"></div>\n",
       "</div>"
      ]
     },
     "metadata": {},
     "output_type": "display_data"
    },
    {
     "data": {
      "application/javascript": [
       "(function(root) {\n",
       "  function embed_document(root) {\n",
       "    var docs_json = {\"616e739e-ae5d-4c0f-80ee-c1b6c98fec81\":{\"roots\":{\"references\":[{\"attributes\":{\"data_source\":{\"id\":\"bcd7adb6-6c5c-4842-a2b7-bdd29d5cbe30\",\"type\":\"ColumnDataSource\"},\"glyph\":{\"id\":\"99d8a78d-3623-4c04-ac70-799b79ff237a\",\"type\":\"Circle\"},\"hover_glyph\":{\"id\":\"231eb128-68c0-41db-b771-9817edbd2f70\",\"type\":\"Circle\"},\"muted_glyph\":null,\"nonselection_glyph\":{\"id\":\"bd544868-ccdb-4cbf-b5c1-fe942b8e7d10\",\"type\":\"Circle\"},\"selection_glyph\":null,\"view\":{\"id\":\"aeb7f142-6d26-4e92-b24c-391870355d30\",\"type\":\"CDSView\"}},\"id\":\"7ccbdefd-4e74-4ba2-ab99-68c8da69b5c0\",\"type\":\"GlyphRenderer\"},{\"attributes\":{\"mantissas\":[1,2,5],\"max_interval\":500.0,\"num_minor_ticks\":0},\"id\":\"7c478513-632b-47ca-bcd4-fa15b74f5741\",\"type\":\"AdaptiveTicker\"},{\"attributes\":{\"below\":[{\"id\":\"3d50357e-7a74-4ea3-80b7-2403675abbb0\",\"type\":\"DatetimeAxis\"}],\"left\":[{\"id\":\"3d005853-49df-4016-9fd8-3d41a331ee90\",\"type\":\"LinearAxis\"}],\"plot_height\":300,\"renderers\":[{\"id\":\"3d50357e-7a74-4ea3-80b7-2403675abbb0\",\"type\":\"DatetimeAxis\"},{\"id\":\"c9ede210-042c-4d01-b9bc-b52465e669f6\",\"type\":\"Grid\"},{\"id\":\"3d005853-49df-4016-9fd8-3d41a331ee90\",\"type\":\"LinearAxis\"},{\"id\":\"c70ebb14-807d-4bc8-9cb0-27d8011a03d3\",\"type\":\"Grid\"},{\"id\":\"8b210e52-8dd1-4934-becb-d51c6269185d\",\"type\":\"BoxAnnotation\"},{\"id\":\"4eba5030-3452-46e1-95e1-8c34a322f824\",\"type\":\"GlyphRenderer\"},{\"id\":\"7ccbdefd-4e74-4ba2-ab99-68c8da69b5c0\",\"type\":\"GlyphRenderer\"}],\"title\":{\"id\":\"84787ad9-a101-4420-9827-cac797c2786d\",\"type\":\"Title\"},\"toolbar\":{\"id\":\"606e4b6e-02de-4cd1-b532-8d737eb99705\",\"type\":\"Toolbar\"},\"x_range\":{\"id\":\"32ba4d65-b3c6-4722-866a-2b5957f2eccd\",\"type\":\"DataRange1d\"},\"x_scale\":{\"id\":\"a89819cb-a338-4246-b2d1-7f78f2b8f0f3\",\"type\":\"LinearScale\"},\"y_range\":{\"id\":\"23ff3774-31a8-4c38-a77d-7c914d0579e3\",\"type\":\"DataRange1d\"},\"y_scale\":{\"id\":\"2f113af7-d503-47e3-be90-2009798ef645\",\"type\":\"LinearScale\"}},\"id\":\"71496a51-8257-41f4-9a79-9589c67af559\",\"subtype\":\"Figure\",\"type\":\"Plot\"},{\"attributes\":{\"months\":[0,1,2,3,4,5,6,7,8,9,10,11]},\"id\":\"8b03859b-737f-44df-b6df-d729ce53d3cb\",\"type\":\"MonthsTicker\"},{\"attributes\":{},\"id\":\"b5366bc7-a503-4677-a6a0-3b24666929b4\",\"type\":\"ResetTool\"},{\"attributes\":{\"months\":[0,6]},\"id\":\"aaa16d44-b9a2-45d2-b1ab-aed4dce73dab\",\"type\":\"MonthsTicker\"},{\"attributes\":{},\"id\":\"e2dea08d-1bfd-40dd-b805-6abec1a9dc30\",\"type\":\"DatetimeTickFormatter\"},{\"attributes\":{},\"id\":\"840a52b2-f1a4-43a3-8aea-209e5c346d1d\",\"type\":\"YearsTicker\"},{\"attributes\":{\"active_drag\":\"auto\",\"active_inspect\":\"auto\",\"active_scroll\":\"auto\",\"active_tap\":\"auto\",\"tools\":[{\"id\":\"d4498ae7-91ad-4655-82b3-f529b6cbe290\",\"type\":\"PanTool\"},{\"id\":\"732e84d3-88aa-4f40-b9af-2dac4432401e\",\"type\":\"WheelZoomTool\"},{\"id\":\"9ca8558f-1e20-429b-aa18-3af359b0c974\",\"type\":\"BoxZoomTool\"},{\"id\":\"3645ff12-6f11-44f8-b102-57c302f5d2fc\",\"type\":\"SaveTool\"},{\"id\":\"b5366bc7-a503-4677-a6a0-3b24666929b4\",\"type\":\"ResetTool\"},{\"id\":\"79684598-8a11-4cb0-a957-36968b6c03cd\",\"type\":\"HelpTool\"},{\"id\":\"8908e827-e0e0-4d94-84da-70b2bd50c367\",\"type\":\"HoverTool\"}]},\"id\":\"606e4b6e-02de-4cd1-b532-8d737eb99705\",\"type\":\"Toolbar\"},{\"attributes\":{},\"id\":\"3645ff12-6f11-44f8-b102-57c302f5d2fc\",\"type\":\"SaveTool\"},{\"attributes\":{\"callback\":null,\"column_names\":[\"x\",\"y\"],\"data\":{\"x\":{\"__ndarray__\":\"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\",\"dtype\":\"float64\",\"shape\":[288]},\"y\":[143,147,150,152,152,152,154,155,142,140,138,134,131,130,128,127,126,126,126,126,127,129,131,132,134,136,136,136,136,135,134,132,130,130,130,129,128,127,125,124,123,123,122,121,120,118,115,112,111,111,110,110,109,108,107,107,107,108,107,105,105,105,105,104,103,102,99,97,96,94,94,93,93,92,91,92,94,95,96,97,99,102,104,112,112,112,111,110,107,104,105,105,103,99,96,94,95,102,114,128,144,160,173,185,196,205,209,214,219,226,234,241,248,255,260,265,268,270,272,271,271,268,265,261,256,253,250,246,244,241,237,233,229,225,222,204,200,197,193,190,186,182,179,175,171,168,164,158,154,151,148,145,141,133,139,152,173,196,217,233,244,249,250,253,256,260,263,265,265,264,260,254,246,234,217,200,188,181,175,169,164,159,154,147,138,132,129,127,123,117,111,106,104,103,100,94,88,83,78,75,73,71,69,68,67,67,68,70,71,71,70,69,68,67,67,67,66,67,69,71,74,76,78,80,80,80,80,80,80,82,84,87,90,92,87,87,86,86,86,86,87,87,87,85,83,82,83,87,95,107,118,130,141,149,172,179,187,201,214,221,225,230,232,230,223,216,208,199,191,185,181,177,176,177,176,173,171,169,163,154,152,153,154,154,153,151,150,150]}},\"id\":\"bcd7adb6-6c5c-4842-a2b7-bdd29d5cbe30\",\"type\":\"ColumnDataSource\"},{\"attributes\":{\"callback\":null,\"mode\":\"hline\",\"renderers\":[{\"id\":\"7ccbdefd-4e74-4ba2-ab99-68c8da69b5c0\",\"type\":\"GlyphRenderer\"}],\"tooltips\":null},\"id\":\"8908e827-e0e0-4d94-84da-70b2bd50c367\",\"type\":\"HoverTool\"},{\"attributes\":{\"dimension\":1,\"plot\":{\"id\":\"71496a51-8257-41f4-9a79-9589c67af559\",\"subtype\":\"Figure\",\"type\":\"Plot\"},\"ticker\":{\"id\":\"eed53bce-3b2a-4ea8-999f-84abd0d31199\",\"type\":\"BasicTicker\"}},\"id\":\"c70ebb14-807d-4bc8-9cb0-27d8011a03d3\",\"type\":\"Grid\"},{\"attributes\":{\"fill_alpha\":{\"value\":0.1},\"fill_color\":{\"value\":\"#1f77b4\"},\"line_alpha\":{\"value\":0.1},\"line_color\":{\"value\":\"#1f77b4\"},\"size\":{\"units\":\"screen\",\"value\":20},\"x\":{\"field\":\"x\"},\"y\":{\"field\":\"y\"}},\"id\":\"bd544868-ccdb-4cbf-b5c1-fe942b8e7d10\",\"type\":\"Circle\"},{\"attributes\":{\"line_color\":{\"value\":\"gray\"},\"line_dash\":[4,4],\"x\":{\"field\":\"x\"},\"y\":{\"field\":\"y\"}},\"id\":\"a3fb2a59-5506-4fdd-9a4f-32575d8fdc31\",\"type\":\"Line\"},{\"attributes\":{\"source\":{\"id\":\"bcd7adb6-6c5c-4842-a2b7-bdd29d5cbe30\",\"type\":\"ColumnDataSource\"}},\"id\":\"aeb7f142-6d26-4e92-b24c-391870355d30\",\"type\":\"CDSView\"},{\"attributes\":{},\"id\":\"eed53bce-3b2a-4ea8-999f-84abd0d31199\",\"type\":\"BasicTicker\"},{\"attributes\":{},\"id\":\"2f113af7-d503-47e3-be90-2009798ef645\",\"type\":\"LinearScale\"},{\"attributes\":{},\"id\":\"d4498ae7-91ad-4655-82b3-f529b6cbe290\",\"type\":\"PanTool\"},{\"attributes\":{},\"id\":\"732e84d3-88aa-4f40-b9af-2dac4432401e\",\"type\":\"WheelZoomTool\"},{\"attributes\":{\"days\":[1,4,7,10,13,16,19,22,25,28]},\"id\":\"7157c73b-9ee7-4c2f-bc8e-091555604952\",\"type\":\"DaysTicker\"},{\"attributes\":{\"months\":[0,2,4,6,8,10]},\"id\":\"b0929e94-cfb7-4607-afcf-ceb2e8a78cde\",\"type\":\"MonthsTicker\"},{\"attributes\":{\"callback\":null},\"id\":\"32ba4d65-b3c6-4722-866a-2b5957f2eccd\",\"type\":\"DataRange1d\"},{\"attributes\":{\"days\":[1,2,3,4,5,6,7,8,9,10,11,12,13,14,15,16,17,18,19,20,21,22,23,24,25,26,27,28,29,30,31]},\"id\":\"32f54186-1927-4b87-bfff-38dd7960c9a0\",\"type\":\"DaysTicker\"},{\"attributes\":{\"base\":60,\"mantissas\":[1,2,5,10,15,20,30],\"max_interval\":1800000.0,\"min_interval\":1000.0,\"num_minor_ticks\":0},\"id\":\"103d9053-e743-47ef-b296-9d93a82e6716\",\"type\":\"AdaptiveTicker\"},{\"attributes\":{\"plot\":{\"id\":\"71496a51-8257-41f4-9a79-9589c67af559\",\"subtype\":\"Figure\",\"type\":\"Plot\"},\"ticker\":{\"id\":\"b2560794-e8ec-45e6-a493-ebbeac76de60\",\"type\":\"DatetimeTicker\"}},\"id\":\"c9ede210-042c-4d01-b9bc-b52465e669f6\",\"type\":\"Grid\"},{\"attributes\":{\"bottom_units\":\"screen\",\"fill_alpha\":{\"value\":0.5},\"fill_color\":{\"value\":\"lightgrey\"},\"left_units\":\"screen\",\"level\":\"overlay\",\"line_alpha\":{\"value\":1.0},\"line_color\":{\"value\":\"black\"},\"line_dash\":[4,4],\"line_width\":{\"value\":2},\"plot\":null,\"render_mode\":\"css\",\"right_units\":\"screen\",\"top_units\":\"screen\"},\"id\":\"8b210e52-8dd1-4934-becb-d51c6269185d\",\"type\":\"BoxAnnotation\"},{\"attributes\":{},\"id\":\"466f80ce-26ea-4b2a-b20b-76325116bf8f\",\"type\":\"BasicTickFormatter\"},{\"attributes\":{\"source\":{\"id\":\"7f47a75f-cef8-4fbf-8792-6752e9cfe196\",\"type\":\"ColumnDataSource\"}},\"id\":\"dd0a5696-26bd-4656-9805-c1cbc186e179\",\"type\":\"CDSView\"},{\"attributes\":{\"fill_alpha\":{\"value\":0.05},\"fill_color\":{\"value\":\"grey\"},\"line_color\":{\"value\":null},\"size\":{\"units\":\"screen\",\"value\":20},\"x\":{\"field\":\"x\"},\"y\":{\"field\":\"y\"}},\"id\":\"99d8a78d-3623-4c04-ac70-799b79ff237a\",\"type\":\"Circle\"},{\"attributes\":{\"months\":[0,4,8]},\"id\":\"abbbf06b-866e-40e1-a351-11ef14934c84\",\"type\":\"MonthsTicker\"},{\"attributes\":{\"fill_alpha\":{\"value\":0.3},\"fill_color\":{\"value\":\"firebrick\"},\"line_alpha\":{\"value\":0.3},\"line_color\":{\"value\":\"white\"},\"size\":{\"units\":\"screen\",\"value\":20},\"x\":{\"field\":\"x\"},\"y\":{\"field\":\"y\"}},\"id\":\"231eb128-68c0-41db-b771-9817edbd2f70\",\"type\":\"Circle\"},{\"attributes\":{\"days\":[1,15]},\"id\":\"f2f2b1e1-d920-4ca8-85c1-90888c389868\",\"type\":\"DaysTicker\"},{\"attributes\":{},\"id\":\"79684598-8a11-4cb0-a957-36968b6c03cd\",\"type\":\"HelpTool\"},{\"attributes\":{\"callback\":null},\"id\":\"23ff3774-31a8-4c38-a77d-7c914d0579e3\",\"type\":\"DataRange1d\"},{\"attributes\":{\"base\":24,\"mantissas\":[1,2,4,6,8,12],\"max_interval\":43200000.0,\"min_interval\":3600000.0,\"num_minor_ticks\":0},\"id\":\"b5c3ab84-d266-48eb-be88-a84414a5e801\",\"type\":\"AdaptiveTicker\"},{\"attributes\":{\"data_source\":{\"id\":\"7f47a75f-cef8-4fbf-8792-6752e9cfe196\",\"type\":\"ColumnDataSource\"},\"glyph\":{\"id\":\"a3fb2a59-5506-4fdd-9a4f-32575d8fdc31\",\"type\":\"Line\"},\"hover_glyph\":null,\"muted_glyph\":null,\"nonselection_glyph\":{\"id\":\"4e7f6009-8e83-4e27-af8f-7e2d50b06c5e\",\"type\":\"Line\"},\"selection_glyph\":null,\"view\":{\"id\":\"dd0a5696-26bd-4656-9805-c1cbc186e179\",\"type\":\"CDSView\"}},\"id\":\"4eba5030-3452-46e1-95e1-8c34a322f824\",\"type\":\"GlyphRenderer\"},{\"attributes\":{\"line_alpha\":{\"value\":0.1},\"line_color\":{\"value\":\"#1f77b4\"},\"line_dash\":[4,4],\"x\":{\"field\":\"x\"},\"y\":{\"field\":\"y\"}},\"id\":\"4e7f6009-8e83-4e27-af8f-7e2d50b06c5e\",\"type\":\"Line\"},{\"attributes\":{\"plot\":null,\"text\":\"Hover over points\"},\"id\":\"84787ad9-a101-4420-9827-cac797c2786d\",\"type\":\"Title\"},{\"attributes\":{},\"id\":\"a89819cb-a338-4246-b2d1-7f78f2b8f0f3\",\"type\":\"LinearScale\"},{\"attributes\":{\"formatter\":{\"id\":\"466f80ce-26ea-4b2a-b20b-76325116bf8f\",\"type\":\"BasicTickFormatter\"},\"plot\":{\"id\":\"71496a51-8257-41f4-9a79-9589c67af559\",\"subtype\":\"Figure\",\"type\":\"Plot\"},\"ticker\":{\"id\":\"eed53bce-3b2a-4ea8-999f-84abd0d31199\",\"type\":\"BasicTicker\"}},\"id\":\"3d005853-49df-4016-9fd8-3d41a331ee90\",\"type\":\"LinearAxis\"},{\"attributes\":{\"formatter\":{\"id\":\"e2dea08d-1bfd-40dd-b805-6abec1a9dc30\",\"type\":\"DatetimeTickFormatter\"},\"plot\":{\"id\":\"71496a51-8257-41f4-9a79-9589c67af559\",\"subtype\":\"Figure\",\"type\":\"Plot\"},\"ticker\":{\"id\":\"b2560794-e8ec-45e6-a493-ebbeac76de60\",\"type\":\"DatetimeTicker\"}},\"id\":\"3d50357e-7a74-4ea3-80b7-2403675abbb0\",\"type\":\"DatetimeAxis\"},{\"attributes\":{\"overlay\":{\"id\":\"8b210e52-8dd1-4934-becb-d51c6269185d\",\"type\":\"BoxAnnotation\"}},\"id\":\"9ca8558f-1e20-429b-aa18-3af359b0c974\",\"type\":\"BoxZoomTool\"},{\"attributes\":{\"days\":[1,8,15,22]},\"id\":\"2f5087cb-9d63-4216-89c7-89befe387550\",\"type\":\"DaysTicker\"},{\"attributes\":{\"callback\":null,\"column_names\":[\"x\",\"y\"],\"data\":{\"x\":{\"__ndarray__\":\"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\",\"dtype\":\"float64\",\"shape\":[288]},\"y\":[143,147,150,152,152,152,154,155,142,140,138,134,131,130,128,127,126,126,126,126,127,129,131,132,134,136,136,136,136,135,134,132,130,130,130,129,128,127,125,124,123,123,122,121,120,118,115,112,111,111,110,110,109,108,107,107,107,108,107,105,105,105,105,104,103,102,99,97,96,94,94,93,93,92,91,92,94,95,96,97,99,102,104,112,112,112,111,110,107,104,105,105,103,99,96,94,95,102,114,128,144,160,173,185,196,205,209,214,219,226,234,241,248,255,260,265,268,270,272,271,271,268,265,261,256,253,250,246,244,241,237,233,229,225,222,204,200,197,193,190,186,182,179,175,171,168,164,158,154,151,148,145,141,133,139,152,173,196,217,233,244,249,250,253,256,260,263,265,265,264,260,254,246,234,217,200,188,181,175,169,164,159,154,147,138,132,129,127,123,117,111,106,104,103,100,94,88,83,78,75,73,71,69,68,67,67,68,70,71,71,70,69,68,67,67,67,66,67,69,71,74,76,78,80,80,80,80,80,80,82,84,87,90,92,87,87,86,86,86,86,87,87,87,85,83,82,83,87,95,107,118,130,141,149,172,179,187,201,214,221,225,230,232,230,223,216,208,199,191,185,181,177,176,177,176,173,171,169,163,154,152,153,154,154,153,151,150,150]}},\"id\":\"7f47a75f-cef8-4fbf-8792-6752e9cfe196\",\"type\":\"ColumnDataSource\"},{\"attributes\":{\"num_minor_ticks\":5,\"tickers\":[{\"id\":\"7c478513-632b-47ca-bcd4-fa15b74f5741\",\"type\":\"AdaptiveTicker\"},{\"id\":\"103d9053-e743-47ef-b296-9d93a82e6716\",\"type\":\"AdaptiveTicker\"},{\"id\":\"b5c3ab84-d266-48eb-be88-a84414a5e801\",\"type\":\"AdaptiveTicker\"},{\"id\":\"32f54186-1927-4b87-bfff-38dd7960c9a0\",\"type\":\"DaysTicker\"},{\"id\":\"7157c73b-9ee7-4c2f-bc8e-091555604952\",\"type\":\"DaysTicker\"},{\"id\":\"2f5087cb-9d63-4216-89c7-89befe387550\",\"type\":\"DaysTicker\"},{\"id\":\"f2f2b1e1-d920-4ca8-85c1-90888c389868\",\"type\":\"DaysTicker\"},{\"id\":\"8b03859b-737f-44df-b6df-d729ce53d3cb\",\"type\":\"MonthsTicker\"},{\"id\":\"b0929e94-cfb7-4607-afcf-ceb2e8a78cde\",\"type\":\"MonthsTicker\"},{\"id\":\"abbbf06b-866e-40e1-a351-11ef14934c84\",\"type\":\"MonthsTicker\"},{\"id\":\"aaa16d44-b9a2-45d2-b1ab-aed4dce73dab\",\"type\":\"MonthsTicker\"},{\"id\":\"840a52b2-f1a4-43a3-8aea-209e5c346d1d\",\"type\":\"YearsTicker\"}]},\"id\":\"b2560794-e8ec-45e6-a493-ebbeac76de60\",\"type\":\"DatetimeTicker\"}],\"root_ids\":[\"71496a51-8257-41f4-9a79-9589c67af559\"]},\"title\":\"Bokeh Application\",\"version\":\"0.12.9\"}};\n",
       "    var render_items = [{\"docid\":\"616e739e-ae5d-4c0f-80ee-c1b6c98fec81\",\"elementid\":\"7f8ee764-6265-4508-b2f6-d6240012b06d\",\"modelid\":\"71496a51-8257-41f4-9a79-9589c67af559\"}];\n",
       "\n",
       "    root.Bokeh.embed.embed_items(docs_json, render_items);\n",
       "  }\n",
       "\n",
       "  if (root.Bokeh !== undefined) {\n",
       "    embed_document(root);\n",
       "  } else {\n",
       "    var attempts = 0;\n",
       "    var timer = setInterval(function(root) {\n",
       "      if (root.Bokeh !== undefined) {\n",
       "        embed_document(root);\n",
       "        clearInterval(timer);\n",
       "      }\n",
       "      attempts++;\n",
       "      if (attempts > 100) {\n",
       "        console.log(\"Bokeh: ERROR: Unable to embed document because BokehJS library is missing\")\n",
       "        clearInterval(timer);\n",
       "      }\n",
       "    }, 10, root)\n",
       "  }\n",
       "})(window);"
      ],
      "application/vnd.bokehjs_exec.v0+json": ""
     },
     "metadata": {
      "application/vnd.bokehjs_exec.v0+json": {
       "id": "71496a51-8257-41f4-9a79-9589c67af559"
      }
     },
     "output_type": "display_data"
    }
   ],
   "source": [
    "from bokeh.models.tools import HoverTool\n",
    "from bokeh.sampledata.glucose import data\n",
    "\n",
    "subset = data.loc['2010-10-06']\n",
    "\n",
    "x, y = subset.index.to_series(), subset['glucose']\n",
    "\n",
    "# Basic plot setup\n",
    "p = figure(width=600, height=300, x_axis_type=\"datetime\", title='Hover over points')\n",
    "\n",
    "p.line(x, y, line_dash=\"4 4\", line_width=1, color='gray')\n",
    "\n",
    "cr = p.circle(x, y, size=20,\n",
    "              fill_color=\"grey\", hover_fill_color=\"firebrick\",\n",
    "              fill_alpha=0.05, hover_alpha=0.3,\n",
    "              line_color=None, hover_line_color=\"white\")\n",
    "\n",
    "p.add_tools(HoverTool(tooltips=None, renderers=[cr], mode='hline'))\n",
    "\n",
    "show(p)"
   ]
  },
  {
   "cell_type": "code",
   "execution_count": 49,
   "metadata": {},
   "outputs": [
    {
     "data": {
      "text/html": [
       "\n",
       "<div class=\"bk-root\">\n",
       "    <div class=\"bk-plotdiv\" id=\"a7d6c8e2-b517-48d2-a15d-77eeee89ff88\"></div>\n",
       "</div>"
      ]
     },
     "metadata": {},
     "output_type": "display_data"
    },
    {
     "data": {
      "application/javascript": [
       "(function(root) {\n",
       "  function embed_document(root) {\n",
       "    var docs_json = {\"cd0185c4-0d4e-4b53-88ed-2758171b58e4\":{\"roots\":{\"references\":[{\"attributes\":{\"callback\":null,\"column_names\":[\"x\",\"y\"],\"data\":{\"x\":{\"__ndarray__\":\"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\",\"dtype\":\"float64\",\"shape\":[288]},\"y\":[143,147,150,152,152,152,154,155,142,140,138,134,131,130,128,127,126,126,126,126,127,129,131,132,134,136,136,136,136,135,134,132,130,130,130,129,128,127,125,124,123,123,122,121,120,118,115,112,111,111,110,110,109,108,107,107,107,108,107,105,105,105,105,104,103,102,99,97,96,94,94,93,93,92,91,92,94,95,96,97,99,102,104,112,112,112,111,110,107,104,105,105,103,99,96,94,95,102,114,128,144,160,173,185,196,205,209,214,219,226,234,241,248,255,260,265,268,270,272,271,271,268,265,261,256,253,250,246,244,241,237,233,229,225,222,204,200,197,193,190,186,182,179,175,171,168,164,158,154,151,148,145,141,133,139,152,173,196,217,233,244,249,250,253,256,260,263,265,265,264,260,254,246,234,217,200,188,181,175,169,164,159,154,147,138,132,129,127,123,117,111,106,104,103,100,94,88,83,78,75,73,71,69,68,67,67,68,70,71,71,70,69,68,67,67,67,66,67,69,71,74,76,78,80,80,80,80,80,80,82,84,87,90,92,87,87,86,86,86,86,87,87,87,85,83,82,83,87,95,107,118,130,141,149,172,179,187,201,214,221,225,230,232,230,223,216,208,199,191,185,181,177,176,177,176,173,171,169,163,154,152,153,154,154,153,151,150,150]}},\"id\":\"bcb87c36-202c-4fc1-8fa1-44669cb4fa1a\",\"type\":\"ColumnDataSource\"},{\"attributes\":{\"months\":[0,2,4,6,8,10]},\"id\":\"12ddba24-c726-4ab1-abcd-27405d6f1247\",\"type\":\"MonthsTicker\"},{\"attributes\":{\"callback\":null},\"id\":\"93d4b02a-eb96-4f2e-9181-6b5221e1259b\",\"type\":\"DataRange1d\"},{\"attributes\":{\"fill_alpha\":{\"value\":0.05},\"fill_color\":{\"value\":\"navy\"},\"line_color\":{\"value\":null},\"size\":{\"units\":\"screen\",\"value\":20},\"x\":{\"field\":\"x\"},\"y\":{\"field\":\"y\"}},\"id\":\"3746ebae-56bc-4ac9-8b6e-2c851008478d\",\"type\":\"Circle\"},{\"attributes\":{\"data_source\":{\"id\":\"b22124e6-9c35-479e-a927-9a80dae93ac8\",\"type\":\"ColumnDataSource\"},\"glyph\":{\"id\":\"e1c796f1-c525-4f4a-8f99-7bd62215e8a1\",\"type\":\"Line\"},\"hover_glyph\":null,\"muted_glyph\":null,\"nonselection_glyph\":{\"id\":\"9a37a1a6-5977-4b40-b539-ff9f48a1d00f\",\"type\":\"Line\"},\"selection_glyph\":null,\"view\":{\"id\":\"003d8040-5c1d-4487-bec0-6ffadd071555\",\"type\":\"CDSView\"}},\"id\":\"5b2ea838-5861-4339-a08c-3d02c50e99dc\",\"type\":\"GlyphRenderer\"},{\"attributes\":{\"months\":[0,4,8]},\"id\":\"2ba2e09e-619b-4711-93e7-ad37f5ffc64e\",\"type\":\"MonthsTicker\"},{\"attributes\":{},\"id\":\"6567e973-5363-4835-9746-11a0af262557\",\"type\":\"HelpTool\"},{\"attributes\":{},\"id\":\"d9e6123a-6709-4ae9-9d5f-b722bb2b6cde\",\"type\":\"PanTool\"},{\"attributes\":{\"source\":{\"id\":\"bcb87c36-202c-4fc1-8fa1-44669cb4fa1a\",\"type\":\"ColumnDataSource\"}},\"id\":\"acb22ee1-6616-41b5-a207-7c3dd2bd14b1\",\"type\":\"CDSView\"},{\"attributes\":{},\"id\":\"2734b9b0-5353-4884-ac37-0bd56b4e34b6\",\"type\":\"YearsTicker\"},{\"attributes\":{},\"id\":\"fd04cec4-d032-4d28-84f8-c54b2bd3156c\",\"type\":\"BasicTickFormatter\"},{\"attributes\":{},\"id\":\"5978e7ad-856a-4166-9a7b-81a197ba2ef1\",\"type\":\"SaveTool\"},{\"attributes\":{\"below\":[{\"id\":\"fdcd7d67-b1f9-44f0-b2c8-a4b7650048f1\",\"type\":\"DatetimeAxis\"}],\"left\":[{\"id\":\"4e8904b8-9b35-40a0-bd71-7e03b9de38f7\",\"type\":\"LinearAxis\"}],\"plot_height\":300,\"renderers\":[{\"id\":\"fdcd7d67-b1f9-44f0-b2c8-a4b7650048f1\",\"type\":\"DatetimeAxis\"},{\"id\":\"898b8d48-7735-49f0-894a-e84487f07f26\",\"type\":\"Grid\"},{\"id\":\"4e8904b8-9b35-40a0-bd71-7e03b9de38f7\",\"type\":\"LinearAxis\"},{\"id\":\"fa375027-d59f-48fd-bbdf-2a724b404125\",\"type\":\"Grid\"},{\"id\":\"8aed37be-1c12-4ee3-afda-fbcf08c1068d\",\"type\":\"BoxAnnotation\"},{\"id\":\"5b2ea838-5861-4339-a08c-3d02c50e99dc\",\"type\":\"GlyphRenderer\"},{\"id\":\"80ab0a89-2451-42be-bcac-f816588ac2f0\",\"type\":\"GlyphRenderer\"}],\"title\":{\"id\":\"2aca2bd6-4187-4eda-a5e2-076729be917c\",\"type\":\"Title\"},\"toolbar\":{\"id\":\"c9ef39ec-d987-46a4-a86c-e03fc8218e88\",\"type\":\"Toolbar\"},\"x_range\":{\"id\":\"375907d8-4966-4af3-ae8f-2e551cecaefb\",\"type\":\"DataRange1d\"},\"x_scale\":{\"id\":\"f5914b17-2e1d-427a-a6ae-b6757d7f9186\",\"type\":\"LinearScale\"},\"y_range\":{\"id\":\"93d4b02a-eb96-4f2e-9181-6b5221e1259b\",\"type\":\"DataRange1d\"},\"y_scale\":{\"id\":\"33769051-5ad9-41c3-84d8-3db12879672e\",\"type\":\"LinearScale\"}},\"id\":\"e8d2bcc1-7f1f-4d31-9856-a84b8b40a6fb\",\"subtype\":\"Figure\",\"type\":\"Plot\"},{\"attributes\":{\"months\":[0,1,2,3,4,5,6,7,8,9,10,11]},\"id\":\"c4ad6087-46ae-4b56-aab0-9285ad0a0c60\",\"type\":\"MonthsTicker\"},{\"attributes\":{\"fill_alpha\":{\"value\":0.1},\"fill_color\":{\"value\":\"#1f77b4\"},\"line_alpha\":{\"value\":0.1},\"line_color\":{\"value\":\"#1f77b4\"},\"size\":{\"units\":\"screen\",\"value\":20},\"x\":{\"field\":\"x\"},\"y\":{\"field\":\"y\"}},\"id\":\"ce664076-06fc-4765-93c6-523f63b046cc\",\"type\":\"Circle\"},{\"attributes\":{\"callback\":null,\"column_names\":[\"x\",\"y\"],\"data\":{\"x\":{\"__ndarray__\":\"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\",\"dtype\":\"float64\",\"shape\":[288]},\"y\":[143,147,150,152,152,152,154,155,142,140,138,134,131,130,128,127,126,126,126,126,127,129,131,132,134,136,136,136,136,135,134,132,130,130,130,129,128,127,125,124,123,123,122,121,120,118,115,112,111,111,110,110,109,108,107,107,107,108,107,105,105,105,105,104,103,102,99,97,96,94,94,93,93,92,91,92,94,95,96,97,99,102,104,112,112,112,111,110,107,104,105,105,103,99,96,94,95,102,114,128,144,160,173,185,196,205,209,214,219,226,234,241,248,255,260,265,268,270,272,271,271,268,265,261,256,253,250,246,244,241,237,233,229,225,222,204,200,197,193,190,186,182,179,175,171,168,164,158,154,151,148,145,141,133,139,152,173,196,217,233,244,249,250,253,256,260,263,265,265,264,260,254,246,234,217,200,188,181,175,169,164,159,154,147,138,132,129,127,123,117,111,106,104,103,100,94,88,83,78,75,73,71,69,68,67,67,68,70,71,71,70,69,68,67,67,67,66,67,69,71,74,76,78,80,80,80,80,80,80,82,84,87,90,92,87,87,86,86,86,86,87,87,87,85,83,82,83,87,95,107,118,130,141,149,172,179,187,201,214,221,225,230,232,230,223,216,208,199,191,185,181,177,176,177,176,173,171,169,163,154,152,153,154,154,153,151,150,150]}},\"id\":\"b22124e6-9c35-479e-a927-9a80dae93ac8\",\"type\":\"ColumnDataSource\"},{\"attributes\":{\"base\":60,\"mantissas\":[1,2,5,10,15,20,30],\"max_interval\":1800000.0,\"min_interval\":1000.0,\"num_minor_ticks\":0},\"id\":\"1b9e863f-378a-4b2e-9c46-ee5f01dd40f2\",\"type\":\"AdaptiveTicker\"},{\"attributes\":{\"days\":[1,4,7,10,13,16,19,22,25,28]},\"id\":\"ba63733b-aec4-43fd-9171-aacddad38c21\",\"type\":\"DaysTicker\"},{\"attributes\":{\"plot\":{\"id\":\"e8d2bcc1-7f1f-4d31-9856-a84b8b40a6fb\",\"subtype\":\"Figure\",\"type\":\"Plot\"},\"ticker\":{\"id\":\"0e7751b0-d4ec-4d51-8480-709e1ba3570a\",\"type\":\"DatetimeTicker\"}},\"id\":\"898b8d48-7735-49f0-894a-e84487f07f26\",\"type\":\"Grid\"},{\"attributes\":{\"num_minor_ticks\":5,\"tickers\":[{\"id\":\"fc3e52ac-2cb4-4f89-af0e-f8c87612bc57\",\"type\":\"AdaptiveTicker\"},{\"id\":\"1b9e863f-378a-4b2e-9c46-ee5f01dd40f2\",\"type\":\"AdaptiveTicker\"},{\"id\":\"825f9abd-3085-46e3-8f9b-26c5c577e3b5\",\"type\":\"AdaptiveTicker\"},{\"id\":\"d01ce901-89e9-4e0c-8510-9320aebc3e77\",\"type\":\"DaysTicker\"},{\"id\":\"ba63733b-aec4-43fd-9171-aacddad38c21\",\"type\":\"DaysTicker\"},{\"id\":\"c3ccc8d8-3698-4d7e-a4a7-2dd985bc6ffe\",\"type\":\"DaysTicker\"},{\"id\":\"e921dddc-e1f1-4a5a-b035-2cf2781a4d88\",\"type\":\"DaysTicker\"},{\"id\":\"c4ad6087-46ae-4b56-aab0-9285ad0a0c60\",\"type\":\"MonthsTicker\"},{\"id\":\"12ddba24-c726-4ab1-abcd-27405d6f1247\",\"type\":\"MonthsTicker\"},{\"id\":\"2ba2e09e-619b-4711-93e7-ad37f5ffc64e\",\"type\":\"MonthsTicker\"},{\"id\":\"bcc74810-294f-40a2-befb-792f85b77a91\",\"type\":\"MonthsTicker\"},{\"id\":\"2734b9b0-5353-4884-ac37-0bd56b4e34b6\",\"type\":\"YearsTicker\"}]},\"id\":\"0e7751b0-d4ec-4d51-8480-709e1ba3570a\",\"type\":\"DatetimeTicker\"},{\"attributes\":{},\"id\":\"1fa7328a-3535-4b55-995a-368994f5868b\",\"type\":\"BasicTicker\"},{\"attributes\":{},\"id\":\"953a5c40-b2c9-45b5-bf30-95402011f41d\",\"type\":\"DatetimeTickFormatter\"},{\"attributes\":{\"fill_alpha\":{\"value\":0.7},\"fill_color\":{\"value\":\"orange\"},\"line_alpha\":{\"value\":0.7},\"line_color\":{\"value\":\"yellow\"},\"size\":{\"units\":\"screen\",\"value\":20},\"x\":{\"field\":\"x\"},\"y\":{\"field\":\"y\"}},\"id\":\"afef6f17-7150-4937-9545-59da9dbbdeb8\",\"type\":\"Circle\"},{\"attributes\":{\"days\":[1,8,15,22]},\"id\":\"c3ccc8d8-3698-4d7e-a4a7-2dd985bc6ffe\",\"type\":\"DaysTicker\"},{\"attributes\":{},\"id\":\"f5914b17-2e1d-427a-a6ae-b6757d7f9186\",\"type\":\"LinearScale\"},{\"attributes\":{\"months\":[0,6]},\"id\":\"bcc74810-294f-40a2-befb-792f85b77a91\",\"type\":\"MonthsTicker\"},{\"attributes\":{},\"id\":\"33769051-5ad9-41c3-84d8-3db12879672e\",\"type\":\"LinearScale\"},{\"attributes\":{\"days\":[1,15]},\"id\":\"e921dddc-e1f1-4a5a-b035-2cf2781a4d88\",\"type\":\"DaysTicker\"},{\"attributes\":{\"line_color\":{\"value\":\"blue\"},\"line_dash\":[5,3],\"x\":{\"field\":\"x\"},\"y\":{\"field\":\"y\"}},\"id\":\"e1c796f1-c525-4f4a-8f99-7bd62215e8a1\",\"type\":\"Line\"},{\"attributes\":{\"plot\":null,\"text\":\"Hover over points\"},\"id\":\"2aca2bd6-4187-4eda-a5e2-076729be917c\",\"type\":\"Title\"},{\"attributes\":{\"callback\":null},\"id\":\"375907d8-4966-4af3-ae8f-2e551cecaefb\",\"type\":\"DataRange1d\"},{\"attributes\":{},\"id\":\"7a965e83-961e-4063-b828-471e373f6552\",\"type\":\"WheelZoomTool\"},{\"attributes\":{\"formatter\":{\"id\":\"fd04cec4-d032-4d28-84f8-c54b2bd3156c\",\"type\":\"BasicTickFormatter\"},\"plot\":{\"id\":\"e8d2bcc1-7f1f-4d31-9856-a84b8b40a6fb\",\"subtype\":\"Figure\",\"type\":\"Plot\"},\"ticker\":{\"id\":\"1fa7328a-3535-4b55-995a-368994f5868b\",\"type\":\"BasicTicker\"}},\"id\":\"4e8904b8-9b35-40a0-bd71-7e03b9de38f7\",\"type\":\"LinearAxis\"},{\"attributes\":{\"bottom_units\":\"screen\",\"fill_alpha\":{\"value\":0.5},\"fill_color\":{\"value\":\"lightgrey\"},\"left_units\":\"screen\",\"level\":\"overlay\",\"line_alpha\":{\"value\":1.0},\"line_color\":{\"value\":\"black\"},\"line_dash\":[4,4],\"line_width\":{\"value\":2},\"plot\":null,\"render_mode\":\"css\",\"right_units\":\"screen\",\"top_units\":\"screen\"},\"id\":\"8aed37be-1c12-4ee3-afda-fbcf08c1068d\",\"type\":\"BoxAnnotation\"},{\"attributes\":{},\"id\":\"824bbd7d-2659-4ea6-9500-e8b14c3e0339\",\"type\":\"ResetTool\"},{\"attributes\":{\"days\":[1,2,3,4,5,6,7,8,9,10,11,12,13,14,15,16,17,18,19,20,21,22,23,24,25,26,27,28,29,30,31]},\"id\":\"d01ce901-89e9-4e0c-8510-9320aebc3e77\",\"type\":\"DaysTicker\"},{\"attributes\":{\"base\":24,\"mantissas\":[1,2,4,6,8,12],\"max_interval\":43200000.0,\"min_interval\":3600000.0,\"num_minor_ticks\":0},\"id\":\"825f9abd-3085-46e3-8f9b-26c5c577e3b5\",\"type\":\"AdaptiveTicker\"},{\"attributes\":{\"formatter\":{\"id\":\"953a5c40-b2c9-45b5-bf30-95402011f41d\",\"type\":\"DatetimeTickFormatter\"},\"plot\":{\"id\":\"e8d2bcc1-7f1f-4d31-9856-a84b8b40a6fb\",\"subtype\":\"Figure\",\"type\":\"Plot\"},\"ticker\":{\"id\":\"0e7751b0-d4ec-4d51-8480-709e1ba3570a\",\"type\":\"DatetimeTicker\"}},\"id\":\"fdcd7d67-b1f9-44f0-b2c8-a4b7650048f1\",\"type\":\"DatetimeAxis\"},{\"attributes\":{\"mantissas\":[1,2,5],\"max_interval\":500.0,\"num_minor_ticks\":0},\"id\":\"fc3e52ac-2cb4-4f89-af0e-f8c87612bc57\",\"type\":\"AdaptiveTicker\"},{\"attributes\":{\"data_source\":{\"id\":\"bcb87c36-202c-4fc1-8fa1-44669cb4fa1a\",\"type\":\"ColumnDataSource\"},\"glyph\":{\"id\":\"3746ebae-56bc-4ac9-8b6e-2c851008478d\",\"type\":\"Circle\"},\"hover_glyph\":{\"id\":\"afef6f17-7150-4937-9545-59da9dbbdeb8\",\"type\":\"Circle\"},\"muted_glyph\":null,\"nonselection_glyph\":{\"id\":\"ce664076-06fc-4765-93c6-523f63b046cc\",\"type\":\"Circle\"},\"selection_glyph\":null,\"view\":{\"id\":\"acb22ee1-6616-41b5-a207-7c3dd2bd14b1\",\"type\":\"CDSView\"}},\"id\":\"80ab0a89-2451-42be-bcac-f816588ac2f0\",\"type\":\"GlyphRenderer\"},{\"attributes\":{\"callback\":null,\"mode\":\"vline\",\"renderers\":[{\"id\":\"80ab0a89-2451-42be-bcac-f816588ac2f0\",\"type\":\"GlyphRenderer\"}],\"tooltips\":null},\"id\":\"440f8585-f136-4b37-96ce-c1e0cba6671a\",\"type\":\"HoverTool\"},{\"attributes\":{\"active_drag\":\"auto\",\"active_inspect\":\"auto\",\"active_scroll\":\"auto\",\"active_tap\":\"auto\",\"tools\":[{\"id\":\"d9e6123a-6709-4ae9-9d5f-b722bb2b6cde\",\"type\":\"PanTool\"},{\"id\":\"7a965e83-961e-4063-b828-471e373f6552\",\"type\":\"WheelZoomTool\"},{\"id\":\"3aa7e5db-f2e1-4af8-aeba-0d30f20329f3\",\"type\":\"BoxZoomTool\"},{\"id\":\"5978e7ad-856a-4166-9a7b-81a197ba2ef1\",\"type\":\"SaveTool\"},{\"id\":\"824bbd7d-2659-4ea6-9500-e8b14c3e0339\",\"type\":\"ResetTool\"},{\"id\":\"6567e973-5363-4835-9746-11a0af262557\",\"type\":\"HelpTool\"},{\"id\":\"440f8585-f136-4b37-96ce-c1e0cba6671a\",\"type\":\"HoverTool\"}]},\"id\":\"c9ef39ec-d987-46a4-a86c-e03fc8218e88\",\"type\":\"Toolbar\"},{\"attributes\":{\"dimension\":1,\"plot\":{\"id\":\"e8d2bcc1-7f1f-4d31-9856-a84b8b40a6fb\",\"subtype\":\"Figure\",\"type\":\"Plot\"},\"ticker\":{\"id\":\"1fa7328a-3535-4b55-995a-368994f5868b\",\"type\":\"BasicTicker\"}},\"id\":\"fa375027-d59f-48fd-bbdf-2a724b404125\",\"type\":\"Grid\"},{\"attributes\":{\"overlay\":{\"id\":\"8aed37be-1c12-4ee3-afda-fbcf08c1068d\",\"type\":\"BoxAnnotation\"}},\"id\":\"3aa7e5db-f2e1-4af8-aeba-0d30f20329f3\",\"type\":\"BoxZoomTool\"},{\"attributes\":{\"source\":{\"id\":\"b22124e6-9c35-479e-a927-9a80dae93ac8\",\"type\":\"ColumnDataSource\"}},\"id\":\"003d8040-5c1d-4487-bec0-6ffadd071555\",\"type\":\"CDSView\"},{\"attributes\":{\"line_alpha\":{\"value\":0.1},\"line_color\":{\"value\":\"#1f77b4\"},\"line_dash\":[5,3],\"x\":{\"field\":\"x\"},\"y\":{\"field\":\"y\"}},\"id\":\"9a37a1a6-5977-4b40-b539-ff9f48a1d00f\",\"type\":\"Line\"}],\"root_ids\":[\"e8d2bcc1-7f1f-4d31-9856-a84b8b40a6fb\"]},\"title\":\"Bokeh Application\",\"version\":\"0.12.9\"}};\n",
       "    var render_items = [{\"docid\":\"cd0185c4-0d4e-4b53-88ed-2758171b58e4\",\"elementid\":\"a7d6c8e2-b517-48d2-a15d-77eeee89ff88\",\"modelid\":\"e8d2bcc1-7f1f-4d31-9856-a84b8b40a6fb\"}];\n",
       "\n",
       "    root.Bokeh.embed.embed_items(docs_json, render_items);\n",
       "  }\n",
       "\n",
       "  if (root.Bokeh !== undefined) {\n",
       "    embed_document(root);\n",
       "  } else {\n",
       "    var attempts = 0;\n",
       "    var timer = setInterval(function(root) {\n",
       "      if (root.Bokeh !== undefined) {\n",
       "        embed_document(root);\n",
       "        clearInterval(timer);\n",
       "      }\n",
       "      attempts++;\n",
       "      if (attempts > 100) {\n",
       "        console.log(\"Bokeh: ERROR: Unable to embed document because BokehJS library is missing\")\n",
       "        clearInterval(timer);\n",
       "      }\n",
       "    }, 10, root)\n",
       "  }\n",
       "})(window);"
      ],
      "application/vnd.bokehjs_exec.v0+json": ""
     },
     "metadata": {
      "application/vnd.bokehjs_exec.v0+json": {
       "id": "e8d2bcc1-7f1f-4d31-9856-a84b8b40a6fb"
      }
     },
     "output_type": "display_data"
    }
   ],
   "source": [
    "# EXERCISE: experiment with standard, selected, hover glyph visual properties\n",
    "subset = data.loc['2010-10-06']\n",
    "\n",
    "x, y = subset.index.to_series(), subset['glucose']\n",
    "\n",
    "# Basic plot setup\n",
    "p = figure(width=600, height=300, x_axis_type=\"datetime\", title='Hover over points')\n",
    "\n",
    "p.line(x, y, line_dash=\"5 3\", line_width=1, color='blue')\n",
    "\n",
    "cr = p.circle(x, y, size=20,\n",
    "              fill_color=\"navy\", hover_fill_color=\"orange\",\n",
    "              fill_alpha=0.05, hover_alpha=0.7,\n",
    "              line_color=None, hover_line_color=\"yellow\")\n",
    "\n",
    "p.add_tools(HoverTool(tooltips=None, renderers=[cr], mode='vline'))\n",
    "\n",
    "show(p)"
   ]
  },
  {
   "cell_type": "markdown",
   "metadata": {},
   "source": [
    "# Axes\n",
    "\n",
    "[Axes](http://bokeh.pydata.org/en/latest/docs/user_guide/styling.html#axes)\n",
    "\n",
    "To style axes, you first must get ahold of `Axis` objects. The simplest way is to use some convenience methods on `Plot`: [axis](http://bokeh.pydata.org/en/latest/docs/reference/plotting.html#bokeh.plotting.Figure.axis), [xaxis](http://bokeh.pydata.org/en/latest/docs/reference/plotting.html#bokeh.plotting.Figure.xaxis), and [yaxis](http://bokeh.pydata.org/en/latest/docs/reference/plotting.html#bokeh.plotting.Figure.yaxis). These methods return lists of axis objects:\n",
    "\n",
    "```\n",
    ">>> p.xaxis\n",
    "[<bokeh.models.axes.LinearAxis at 0x106fa2390>]\n",
    "```\n",
    "However, you can set properties on all the elements of the list as if it was a single object:\n",
    "```\n",
    "p.xaxis.axis_label = \"Temperature\"\n",
    "p.axis.major_label_text_color = \"orange\"\n",
    "```\n",
    "These are referred to as \"splattable\" lists, and tab completion works on them as well. \n"
   ]
  },
  {
   "cell_type": "code",
   "execution_count": 50,
   "metadata": {
    "collapsed": true
   },
   "outputs": [],
   "source": [
    "# EXERCISE Try out tab completion. Type p.xaxis.<press tab key> to see a list of attributes that can be set.\n",
    "\n",
    "p.xaxis.axis_label_text_font_size = 'Helvetica'"
   ]
  },
  {
   "cell_type": "markdown",
   "metadata": {},
   "source": [
    "* **axis** \n",
    " - [line properties](http://bokeh.pydata.org/en/latest/docs/user_guide/styling.html#line-properties)\n",
    "* **axis_label** \n",
    " - [text properties](http://bokeh.pydata.org/en/latest/docs/user_guide/styling.html#text-properties)\n",
    " - ``axis_label_standoff``\n",
    "* **major_label** \n",
    " - [text properties](http://bokeh.pydata.org/en/latest/docs/user_guide/styling.html#text-properties)\n",
    " - ``orientation``\n",
    "* **major_tick** \n",
    " - [line_properties](http://bokeh.pydata.org/en/latest/docs/user_guide/styling.html#line-properties)\n",
    " - ``major_tick_in`` \n",
    " - ``major_tick_out``\n",
    "* **minor_tick** \n",
    " - [line properties](http://bokeh.pydata.org/en/latest/docs/user_guide/styling.html#line-properties)\n",
    " - ``minor_tick_in``\n",
    " - ``minor_tick_out``\n",
    "\n",
    "As a simple first example, let's change the orientation of the major tick labels on both axes of a plot:"
   ]
  },
  {
   "cell_type": "code",
   "execution_count": 53,
   "metadata": {},
   "outputs": [
    {
     "data": {
      "text/html": [
       "\n",
       "<div class=\"bk-root\">\n",
       "    <div class=\"bk-plotdiv\" id=\"bd815a78-1d3b-469f-9973-622e9c7c57d2\"></div>\n",
       "</div>"
      ]
     },
     "metadata": {},
     "output_type": "display_data"
    },
    {
     "data": {
      "application/javascript": [
       "(function(root) {\n",
       "  function embed_document(root) {\n",
       "    var docs_json = {\"903cec44-4eac-4919-a8d1-95a1d9f318f6\":{\"roots\":{\"references\":[{\"attributes\":{},\"id\":\"77d2a123-e34d-492f-b1cf-fed53a1e7bff\",\"type\":\"BasicTickFormatter\"},{\"attributes\":{},\"id\":\"878256cb-e350-4c0e-b3ee-c9856d605e9f\",\"type\":\"LinearScale\"},{\"attributes\":{},\"id\":\"5472ee95-ef80-4fb0-9ec8-68d382341531\",\"type\":\"LinearScale\"},{\"attributes\":{\"plot\":null,\"text\":\"\"},\"id\":\"29ced16a-a1fb-401a-8172-62a0b6e7f7ce\",\"type\":\"Title\"},{\"attributes\":{\"dimension\":1,\"plot\":{\"id\":\"2aa6c94e-1946-4373-97df-bfdc69f0f15a\",\"subtype\":\"Figure\",\"type\":\"Plot\"},\"ticker\":{\"id\":\"e43553b5-2f06-458a-b5ad-5e739e45bd04\",\"type\":\"BasicTicker\"}},\"id\":\"dd59f26f-f687-469c-910a-8a76e741db80\",\"type\":\"Grid\"},{\"attributes\":{\"bottom_units\":\"screen\",\"fill_alpha\":{\"value\":0.5},\"fill_color\":{\"value\":\"lightgrey\"},\"left_units\":\"screen\",\"level\":\"overlay\",\"line_alpha\":{\"value\":1.0},\"line_color\":{\"value\":\"black\"},\"line_dash\":[4,4],\"line_width\":{\"value\":2},\"plot\":null,\"render_mode\":\"css\",\"right_units\":\"screen\",\"top_units\":\"screen\"},\"id\":\"40ae653d-b282-48e0-9ac7-51501bdf2976\",\"type\":\"BoxAnnotation\"},{\"attributes\":{\"callback\":null,\"column_names\":[\"x\",\"y\"],\"data\":{\"x\":[1,2,3,4,5],\"y\":[2,5,8,2,7]}},\"id\":\"448e2b17-8a14-4ae6-93d9-c05f58239827\",\"type\":\"ColumnDataSource\"},{\"attributes\":{},\"id\":\"b707d3a8-26e1-48dd-a396-91e7aec42423\",\"type\":\"BasicTickFormatter\"},{\"attributes\":{},\"id\":\"394a016a-0fb3-43c7-9164-17ed9138e8d8\",\"type\":\"PanTool\"},{\"attributes\":{\"data_source\":{\"id\":\"448e2b17-8a14-4ae6-93d9-c05f58239827\",\"type\":\"ColumnDataSource\"},\"glyph\":{\"id\":\"fef8fb27-a832-4ac6-80fb-0eeffea2fb85\",\"type\":\"X\"},\"hover_glyph\":null,\"muted_glyph\":null,\"nonselection_glyph\":{\"id\":\"21760257-a354-4096-af28-5bc6b9f1503a\",\"type\":\"X\"},\"selection_glyph\":null,\"view\":{\"id\":\"e5b70d46-71bd-4c3f-bbec-86b4b371bb8d\",\"type\":\"CDSView\"}},\"id\":\"16fc6ea0-bf00-40dc-a144-5db7e5260d52\",\"type\":\"GlyphRenderer\"},{\"attributes\":{\"source\":{\"id\":\"448e2b17-8a14-4ae6-93d9-c05f58239827\",\"type\":\"ColumnDataSource\"}},\"id\":\"e5b70d46-71bd-4c3f-bbec-86b4b371bb8d\",\"type\":\"CDSView\"},{\"attributes\":{},\"id\":\"7fce4488-61fd-4fd3-88fb-40ba4ef7e2cc\",\"type\":\"WheelZoomTool\"},{\"attributes\":{\"formatter\":{\"id\":\"77d2a123-e34d-492f-b1cf-fed53a1e7bff\",\"type\":\"BasicTickFormatter\"},\"major_label_orientation\":0.7853981633974483,\"plot\":{\"id\":\"2aa6c94e-1946-4373-97df-bfdc69f0f15a\",\"subtype\":\"Figure\",\"type\":\"Plot\"},\"ticker\":{\"id\":\"070c09bf-9059-4a93-9e59-dd2fdfe71f83\",\"type\":\"BasicTicker\"}},\"id\":\"75d2b54f-802b-4a74-9469-5ead9d626ae8\",\"type\":\"LinearAxis\"},{\"attributes\":{},\"id\":\"070c09bf-9059-4a93-9e59-dd2fdfe71f83\",\"type\":\"BasicTicker\"},{\"attributes\":{\"callback\":null},\"id\":\"3b776408-ee31-48c1-90be-51e516503eb8\",\"type\":\"DataRange1d\"},{\"attributes\":{\"plot\":{\"id\":\"2aa6c94e-1946-4373-97df-bfdc69f0f15a\",\"subtype\":\"Figure\",\"type\":\"Plot\"},\"ticker\":{\"id\":\"070c09bf-9059-4a93-9e59-dd2fdfe71f83\",\"type\":\"BasicTicker\"}},\"id\":\"52591eaa-a090-4249-8334-81eba960b0f7\",\"type\":\"Grid\"},{\"attributes\":{\"below\":[{\"id\":\"75d2b54f-802b-4a74-9469-5ead9d626ae8\",\"type\":\"LinearAxis\"}],\"left\":[{\"id\":\"a1bc5940-b3a1-4a90-9b07-e1f917c706dc\",\"type\":\"LinearAxis\"}],\"plot_height\":400,\"plot_width\":400,\"renderers\":[{\"id\":\"75d2b54f-802b-4a74-9469-5ead9d626ae8\",\"type\":\"LinearAxis\"},{\"id\":\"52591eaa-a090-4249-8334-81eba960b0f7\",\"type\":\"Grid\"},{\"id\":\"a1bc5940-b3a1-4a90-9b07-e1f917c706dc\",\"type\":\"LinearAxis\"},{\"id\":\"dd59f26f-f687-469c-910a-8a76e741db80\",\"type\":\"Grid\"},{\"id\":\"40ae653d-b282-48e0-9ac7-51501bdf2976\",\"type\":\"BoxAnnotation\"},{\"id\":\"16fc6ea0-bf00-40dc-a144-5db7e5260d52\",\"type\":\"GlyphRenderer\"}],\"title\":{\"id\":\"29ced16a-a1fb-401a-8172-62a0b6e7f7ce\",\"type\":\"Title\"},\"toolbar\":{\"id\":\"586435d6-973f-4fdc-8cb7-6148e30b6364\",\"type\":\"Toolbar\"},\"x_range\":{\"id\":\"3b776408-ee31-48c1-90be-51e516503eb8\",\"type\":\"DataRange1d\"},\"x_scale\":{\"id\":\"878256cb-e350-4c0e-b3ee-c9856d605e9f\",\"type\":\"LinearScale\"},\"y_range\":{\"id\":\"c557dd6b-be3c-48e6-9267-17344fd618b3\",\"type\":\"DataRange1d\"},\"y_scale\":{\"id\":\"5472ee95-ef80-4fb0-9ec8-68d382341531\",\"type\":\"LinearScale\"}},\"id\":\"2aa6c94e-1946-4373-97df-bfdc69f0f15a\",\"subtype\":\"Figure\",\"type\":\"Plot\"},{\"attributes\":{\"fill_color\":{\"value\":\"#1f77b4\"},\"line_color\":{\"value\":\"#1f77b4\"},\"line_width\":{\"value\":2},\"size\":{\"units\":\"screen\",\"value\":10},\"x\":{\"field\":\"x\"},\"y\":{\"field\":\"y\"}},\"id\":\"fef8fb27-a832-4ac6-80fb-0eeffea2fb85\",\"type\":\"X\"},{\"attributes\":{\"active_drag\":\"auto\",\"active_inspect\":\"auto\",\"active_scroll\":\"auto\",\"active_tap\":\"auto\",\"tools\":[{\"id\":\"394a016a-0fb3-43c7-9164-17ed9138e8d8\",\"type\":\"PanTool\"},{\"id\":\"7fce4488-61fd-4fd3-88fb-40ba4ef7e2cc\",\"type\":\"WheelZoomTool\"},{\"id\":\"6f2ea5f9-f8bc-4856-95c5-6225edea64df\",\"type\":\"BoxZoomTool\"},{\"id\":\"15557c3e-ff98-4c42-bde4-abe5ccb74405\",\"type\":\"SaveTool\"},{\"id\":\"fafeb993-b7fd-4f9d-bb14-58b93ef636ba\",\"type\":\"ResetTool\"},{\"id\":\"28bfc8b5-d409-434d-b7f4-4f7e794218ea\",\"type\":\"HelpTool\"}]},\"id\":\"586435d6-973f-4fdc-8cb7-6148e30b6364\",\"type\":\"Toolbar\"},{\"attributes\":{},\"id\":\"e43553b5-2f06-458a-b5ad-5e739e45bd04\",\"type\":\"BasicTicker\"},{\"attributes\":{},\"id\":\"15557c3e-ff98-4c42-bde4-abe5ccb74405\",\"type\":\"SaveTool\"},{\"attributes\":{\"formatter\":{\"id\":\"b707d3a8-26e1-48dd-a396-91e7aec42423\",\"type\":\"BasicTickFormatter\"},\"major_label_orientation\":\"vertical\",\"plot\":{\"id\":\"2aa6c94e-1946-4373-97df-bfdc69f0f15a\",\"subtype\":\"Figure\",\"type\":\"Plot\"},\"ticker\":{\"id\":\"e43553b5-2f06-458a-b5ad-5e739e45bd04\",\"type\":\"BasicTicker\"}},\"id\":\"a1bc5940-b3a1-4a90-9b07-e1f917c706dc\",\"type\":\"LinearAxis\"},{\"attributes\":{\"overlay\":{\"id\":\"40ae653d-b282-48e0-9ac7-51501bdf2976\",\"type\":\"BoxAnnotation\"}},\"id\":\"6f2ea5f9-f8bc-4856-95c5-6225edea64df\",\"type\":\"BoxZoomTool\"},{\"attributes\":{},\"id\":\"28bfc8b5-d409-434d-b7f4-4f7e794218ea\",\"type\":\"HelpTool\"},{\"attributes\":{},\"id\":\"fafeb993-b7fd-4f9d-bb14-58b93ef636ba\",\"type\":\"ResetTool\"},{\"attributes\":{\"fill_alpha\":{\"value\":0.1},\"fill_color\":{\"value\":\"#1f77b4\"},\"line_alpha\":{\"value\":0.1},\"line_color\":{\"value\":\"#1f77b4\"},\"line_width\":{\"value\":2},\"size\":{\"units\":\"screen\",\"value\":10},\"x\":{\"field\":\"x\"},\"y\":{\"field\":\"y\"}},\"id\":\"21760257-a354-4096-af28-5bc6b9f1503a\",\"type\":\"X\"},{\"attributes\":{\"callback\":null},\"id\":\"c557dd6b-be3c-48e6-9267-17344fd618b3\",\"type\":\"DataRange1d\"}],\"root_ids\":[\"2aa6c94e-1946-4373-97df-bfdc69f0f15a\"]},\"title\":\"Bokeh Application\",\"version\":\"0.12.9\"}};\n",
       "    var render_items = [{\"docid\":\"903cec44-4eac-4919-a8d1-95a1d9f318f6\",\"elementid\":\"bd815a78-1d3b-469f-9973-622e9c7c57d2\",\"modelid\":\"2aa6c94e-1946-4373-97df-bfdc69f0f15a\"}];\n",
       "\n",
       "    root.Bokeh.embed.embed_items(docs_json, render_items);\n",
       "  }\n",
       "\n",
       "  if (root.Bokeh !== undefined) {\n",
       "    embed_document(root);\n",
       "  } else {\n",
       "    var attempts = 0;\n",
       "    var timer = setInterval(function(root) {\n",
       "      if (root.Bokeh !== undefined) {\n",
       "        embed_document(root);\n",
       "        clearInterval(timer);\n",
       "      }\n",
       "      attempts++;\n",
       "      if (attempts > 100) {\n",
       "        console.log(\"Bokeh: ERROR: Unable to embed document because BokehJS library is missing\")\n",
       "        clearInterval(timer);\n",
       "      }\n",
       "    }, 10, root)\n",
       "  }\n",
       "})(window);"
      ],
      "application/vnd.bokehjs_exec.v0+json": ""
     },
     "metadata": {
      "application/vnd.bokehjs_exec.v0+json": {
       "id": "2aa6c94e-1946-4373-97df-bfdc69f0f15a"
      }
     },
     "output_type": "display_data"
    }
   ],
   "source": [
    "from math import pi\n",
    "\n",
    "p = figure(plot_width=400, plot_height=400)\n",
    "p.x([1,2,3,4,5], [2,5,8,2,7], size=10, line_width=2)\n",
    "\n",
    "p.xaxis.major_label_orientation = pi/4\n",
    "p.yaxis.major_label_orientation = \"vertical\"\n",
    "\n",
    "show(p)"
   ]
  },
  {
   "cell_type": "markdown",
   "metadata": {},
   "source": [
    "The next example shows customizations on several of the different Axis properties at once:"
   ]
  },
  {
   "cell_type": "code",
   "execution_count": 54,
   "metadata": {},
   "outputs": [
    {
     "data": {
      "text/html": [
       "\n",
       "<div class=\"bk-root\">\n",
       "    <div class=\"bk-plotdiv\" id=\"126ac7c4-d405-44e8-99f3-0804f83b5609\"></div>\n",
       "</div>"
      ]
     },
     "metadata": {},
     "output_type": "display_data"
    },
    {
     "data": {
      "application/javascript": [
       "(function(root) {\n",
       "  function embed_document(root) {\n",
       "    var docs_json = {\"5d7f7f51-f9ff-47ab-9dbf-43a26f25a71e\":{\"roots\":{\"references\":[{\"attributes\":{\"below\":[{\"id\":\"1ac747fa-94c3-4e80-90e6-77fd132091c1\",\"type\":\"LinearAxis\"}],\"left\":[{\"id\":\"82360d0c-fec1-450e-9f2d-9f42156a150a\",\"type\":\"LinearAxis\"}],\"plot_height\":400,\"plot_width\":400,\"renderers\":[{\"id\":\"1ac747fa-94c3-4e80-90e6-77fd132091c1\",\"type\":\"LinearAxis\"},{\"id\":\"f9ee2e9d-b234-48da-9da5-e1f28081d6a5\",\"type\":\"Grid\"},{\"id\":\"82360d0c-fec1-450e-9f2d-9f42156a150a\",\"type\":\"LinearAxis\"},{\"id\":\"f683fdd7-afa9-4c00-9010-685196a56087\",\"type\":\"Grid\"},{\"id\":\"afb516fd-75c0-4c70-9636-ebacf4d41c95\",\"type\":\"BoxAnnotation\"},{\"id\":\"d18ee589-9e14-4fd6-933d-3e1e80aff198\",\"type\":\"GlyphRenderer\"}],\"title\":{\"id\":\"c09d36a9-082a-49f5-abef-2c9494b0fab6\",\"type\":\"Title\"},\"toolbar\":{\"id\":\"6a4a695d-3d53-4af2-ac06-2f55b8d57385\",\"type\":\"Toolbar\"},\"x_range\":{\"id\":\"4df18f1f-06df-45a4-a770-44e1798cccbe\",\"type\":\"DataRange1d\"},\"x_scale\":{\"id\":\"b251be8f-6d30-4968-98fd-b9b392e8f477\",\"type\":\"LinearScale\"},\"y_range\":{\"id\":\"80dfc18e-1f48-4dba-91d1-5a82b51e83a4\",\"type\":\"DataRange1d\"},\"y_scale\":{\"id\":\"efbdc713-ffd9-40b3-8c76-3409e200ca67\",\"type\":\"LinearScale\"}},\"id\":\"78a3fc2b-d805-4929-9e5b-7b21f37ca265\",\"subtype\":\"Figure\",\"type\":\"Plot\"},{\"attributes\":{\"bottom_units\":\"screen\",\"fill_alpha\":{\"value\":0.5},\"fill_color\":{\"value\":\"lightgrey\"},\"left_units\":\"screen\",\"level\":\"overlay\",\"line_alpha\":{\"value\":1.0},\"line_color\":{\"value\":\"black\"},\"line_dash\":[4,4],\"line_width\":{\"value\":2},\"plot\":null,\"render_mode\":\"css\",\"right_units\":\"screen\",\"top_units\":\"screen\"},\"id\":\"afb516fd-75c0-4c70-9636-ebacf4d41c95\",\"type\":\"BoxAnnotation\"},{\"attributes\":{},\"id\":\"2bd8026e-5b00-40d2-8892-5bb357fac15a\",\"type\":\"HelpTool\"},{\"attributes\":{\"axis_label\":\"Pressure\",\"formatter\":{\"id\":\"e640b9d4-2771-4296-bd17-900ad72edd1a\",\"type\":\"BasicTickFormatter\"},\"major_label_orientation\":\"vertical\",\"major_label_text_color\":{\"value\":\"orange\"},\"minor_tick_in\":-3,\"minor_tick_out\":6,\"plot\":{\"id\":\"78a3fc2b-d805-4929-9e5b-7b21f37ca265\",\"subtype\":\"Figure\",\"type\":\"Plot\"},\"ticker\":{\"id\":\"96983608-c4b4-4ea5-9f63-3ceb9d9f3763\",\"type\":\"BasicTicker\"}},\"id\":\"82360d0c-fec1-450e-9f2d-9f42156a150a\",\"type\":\"LinearAxis\"},{\"attributes\":{},\"id\":\"b251be8f-6d30-4968-98fd-b9b392e8f477\",\"type\":\"LinearScale\"},{\"attributes\":{\"dimension\":1,\"plot\":{\"id\":\"78a3fc2b-d805-4929-9e5b-7b21f37ca265\",\"subtype\":\"Figure\",\"type\":\"Plot\"},\"ticker\":{\"id\":\"96983608-c4b4-4ea5-9f63-3ceb9d9f3763\",\"type\":\"BasicTicker\"}},\"id\":\"f683fdd7-afa9-4c00-9010-685196a56087\",\"type\":\"Grid\"},{\"attributes\":{\"fill_color\":{\"value\":\"olive\"},\"line_color\":{\"value\":\"olive\"},\"size\":{\"units\":\"screen\",\"value\":12},\"x\":{\"field\":\"x\"},\"y\":{\"field\":\"y\"}},\"id\":\"9ef48920-f3fc-43b1-8248-e7202e8c703a\",\"type\":\"Asterisk\"},{\"attributes\":{},\"id\":\"78429a07-eba9-47cf-a124-7461a18cd2f5\",\"type\":\"BasicTickFormatter\"},{\"attributes\":{\"data_source\":{\"id\":\"f0488d0d-9baf-43ee-8dc2-d6b6aa23926c\",\"type\":\"ColumnDataSource\"},\"glyph\":{\"id\":\"9ef48920-f3fc-43b1-8248-e7202e8c703a\",\"type\":\"Asterisk\"},\"hover_glyph\":null,\"muted_glyph\":null,\"nonselection_glyph\":{\"id\":\"a6598626-396c-4d50-8c7b-aeb32e4a5c25\",\"type\":\"Asterisk\"},\"selection_glyph\":null,\"view\":{\"id\":\"b166ab74-0040-46df-abb6-b36be011c388\",\"type\":\"CDSView\"}},\"id\":\"d18ee589-9e14-4fd6-933d-3e1e80aff198\",\"type\":\"GlyphRenderer\"},{\"attributes\":{},\"id\":\"e640b9d4-2771-4296-bd17-900ad72edd1a\",\"type\":\"BasicTickFormatter\"},{\"attributes\":{\"fill_alpha\":{\"value\":0.1},\"fill_color\":{\"value\":\"#1f77b4\"},\"line_alpha\":{\"value\":0.1},\"line_color\":{\"value\":\"#1f77b4\"},\"size\":{\"units\":\"screen\",\"value\":12},\"x\":{\"field\":\"x\"},\"y\":{\"field\":\"y\"}},\"id\":\"a6598626-396c-4d50-8c7b-aeb32e4a5c25\",\"type\":\"Asterisk\"},{\"attributes\":{\"plot\":{\"id\":\"78a3fc2b-d805-4929-9e5b-7b21f37ca265\",\"subtype\":\"Figure\",\"type\":\"Plot\"},\"ticker\":{\"id\":\"e6841a04-a3b0-4040-a61f-504685bf985f\",\"type\":\"BasicTicker\"}},\"id\":\"f9ee2e9d-b234-48da-9da5-e1f28081d6a5\",\"type\":\"Grid\"},{\"attributes\":{},\"id\":\"de5c390e-f88d-4471-8dc7-cb37fb61bc1c\",\"type\":\"PanTool\"},{\"attributes\":{},\"id\":\"9cb2a64f-176c-4ee1-9afa-b8aa03c14a0b\",\"type\":\"ResetTool\"},{\"attributes\":{\"axis_label\":\"Temp\",\"axis_line_color\":{\"value\":\"red\"},\"axis_line_width\":{\"value\":3},\"formatter\":{\"id\":\"78429a07-eba9-47cf-a124-7461a18cd2f5\",\"type\":\"BasicTickFormatter\"},\"minor_tick_in\":-3,\"minor_tick_out\":6,\"plot\":{\"id\":\"78a3fc2b-d805-4929-9e5b-7b21f37ca265\",\"subtype\":\"Figure\",\"type\":\"Plot\"},\"ticker\":{\"id\":\"e6841a04-a3b0-4040-a61f-504685bf985f\",\"type\":\"BasicTicker\"}},\"id\":\"1ac747fa-94c3-4e80-90e6-77fd132091c1\",\"type\":\"LinearAxis\"},{\"attributes\":{},\"id\":\"204d8f91-c4b1-4254-8ed2-5c7f75add2e7\",\"type\":\"WheelZoomTool\"},{\"attributes\":{\"callback\":null},\"id\":\"80dfc18e-1f48-4dba-91d1-5a82b51e83a4\",\"type\":\"DataRange1d\"},{\"attributes\":{\"callback\":null},\"id\":\"4df18f1f-06df-45a4-a770-44e1798cccbe\",\"type\":\"DataRange1d\"},{\"attributes\":{\"callback\":null,\"column_names\":[\"x\",\"y\"],\"data\":{\"x\":[1,2,3,4,5],\"y\":[2,5,8,2,7]}},\"id\":\"f0488d0d-9baf-43ee-8dc2-d6b6aa23926c\",\"type\":\"ColumnDataSource\"},{\"attributes\":{},\"id\":\"efbdc713-ffd9-40b3-8c76-3409e200ca67\",\"type\":\"LinearScale\"},{\"attributes\":{},\"id\":\"96983608-c4b4-4ea5-9f63-3ceb9d9f3763\",\"type\":\"BasicTicker\"},{\"attributes\":{},\"id\":\"9d9ed266-fe73-4152-b2f2-3b9ece183c4c\",\"type\":\"SaveTool\"},{\"attributes\":{\"overlay\":{\"id\":\"afb516fd-75c0-4c70-9636-ebacf4d41c95\",\"type\":\"BoxAnnotation\"}},\"id\":\"65576ebb-fcd6-4709-92a1-d200f60d9929\",\"type\":\"BoxZoomTool\"},{\"attributes\":{\"source\":{\"id\":\"f0488d0d-9baf-43ee-8dc2-d6b6aa23926c\",\"type\":\"ColumnDataSource\"}},\"id\":\"b166ab74-0040-46df-abb6-b36be011c388\",\"type\":\"CDSView\"},{\"attributes\":{\"plot\":null,\"text\":\"\"},\"id\":\"c09d36a9-082a-49f5-abef-2c9494b0fab6\",\"type\":\"Title\"},{\"attributes\":{},\"id\":\"e6841a04-a3b0-4040-a61f-504685bf985f\",\"type\":\"BasicTicker\"},{\"attributes\":{\"active_drag\":\"auto\",\"active_inspect\":\"auto\",\"active_scroll\":\"auto\",\"active_tap\":\"auto\",\"tools\":[{\"id\":\"de5c390e-f88d-4471-8dc7-cb37fb61bc1c\",\"type\":\"PanTool\"},{\"id\":\"204d8f91-c4b1-4254-8ed2-5c7f75add2e7\",\"type\":\"WheelZoomTool\"},{\"id\":\"65576ebb-fcd6-4709-92a1-d200f60d9929\",\"type\":\"BoxZoomTool\"},{\"id\":\"9d9ed266-fe73-4152-b2f2-3b9ece183c4c\",\"type\":\"SaveTool\"},{\"id\":\"9cb2a64f-176c-4ee1-9afa-b8aa03c14a0b\",\"type\":\"ResetTool\"},{\"id\":\"2bd8026e-5b00-40d2-8892-5bb357fac15a\",\"type\":\"HelpTool\"}]},\"id\":\"6a4a695d-3d53-4af2-ac06-2f55b8d57385\",\"type\":\"Toolbar\"}],\"root_ids\":[\"78a3fc2b-d805-4929-9e5b-7b21f37ca265\"]},\"title\":\"Bokeh Application\",\"version\":\"0.12.9\"}};\n",
       "    var render_items = [{\"docid\":\"5d7f7f51-f9ff-47ab-9dbf-43a26f25a71e\",\"elementid\":\"126ac7c4-d405-44e8-99f3-0804f83b5609\",\"modelid\":\"78a3fc2b-d805-4929-9e5b-7b21f37ca265\"}];\n",
       "\n",
       "    root.Bokeh.embed.embed_items(docs_json, render_items);\n",
       "  }\n",
       "\n",
       "  if (root.Bokeh !== undefined) {\n",
       "    embed_document(root);\n",
       "  } else {\n",
       "    var attempts = 0;\n",
       "    var timer = setInterval(function(root) {\n",
       "      if (root.Bokeh !== undefined) {\n",
       "        embed_document(root);\n",
       "        clearInterval(timer);\n",
       "      }\n",
       "      attempts++;\n",
       "      if (attempts > 100) {\n",
       "        console.log(\"Bokeh: ERROR: Unable to embed document because BokehJS library is missing\")\n",
       "        clearInterval(timer);\n",
       "      }\n",
       "    }, 10, root)\n",
       "  }\n",
       "})(window);"
      ],
      "application/vnd.bokehjs_exec.v0+json": ""
     },
     "metadata": {
      "application/vnd.bokehjs_exec.v0+json": {
       "id": "78a3fc2b-d805-4929-9e5b-7b21f37ca265"
      }
     },
     "output_type": "display_data"
    }
   ],
   "source": [
    "p = figure(plot_width=400, plot_height=400)\n",
    "p.asterisk([1,2,3,4,5], [2,5,8,2,7], size=12, color=\"olive\")\n",
    "\n",
    "# change just some things about the x-axes\n",
    "p.xaxis.axis_label = \"Temp\"\n",
    "p.xaxis.axis_line_width = 3\n",
    "p.xaxis.axis_line_color = \"red\"\n",
    "\n",
    "# change just some things about the y-axes\n",
    "p.yaxis.axis_label = \"Pressure\"\n",
    "p.yaxis.major_label_text_color = \"orange\"\n",
    "p.yaxis.major_label_orientation = \"vertical\"\n",
    "\n",
    "# change things on all axes\n",
    "p.axis.minor_tick_in = -3\n",
    "p.axis.minor_tick_out = 6\n",
    "\n",
    "show(p)"
   ]
  },
  {
   "cell_type": "code",
   "execution_count": 84,
   "metadata": {},
   "outputs": [
    {
     "data": {
      "text/html": [
       "\n",
       "<div class=\"bk-root\">\n",
       "    <div class=\"bk-plotdiv\" id=\"ad5a8d0f-3516-47ea-80c1-47cf23dbcf23\"></div>\n",
       "</div>"
      ]
     },
     "metadata": {},
     "output_type": "display_data"
    },
    {
     "data": {
      "application/javascript": [
       "(function(root) {\n",
       "  function embed_document(root) {\n",
       "    var docs_json = {\"9cbca2ad-6c82-4b0a-97ed-d580bd29f1d3\":{\"roots\":{\"references\":[{\"attributes\":{\"axis_label\":\"People\",\"formatter\":{\"id\":\"1a314c8f-b447-4bb1-af28-02b0425515bb\",\"type\":\"BasicTickFormatter\"},\"major_label_orientation\":\"vertical\",\"major_label_text_color\":{\"value\":\"orange\"},\"major_label_text_font_size\":{\"value\":\"18pt\"},\"plot\":{\"id\":\"63f91744-d570-4ff4-957a-c45f27f3fa13\",\"subtype\":\"Figure\",\"type\":\"Plot\"},\"ticker\":{\"id\":\"97083c2c-2068-45c4-8787-f37190bc2a01\",\"type\":\"BasicTicker\"}},\"id\":\"bed9cfc6-b2ab-44f7-9b8f-9e71345b4474\",\"type\":\"LinearAxis\"},{\"attributes\":{},\"id\":\"1a314c8f-b447-4bb1-af28-02b0425515bb\",\"type\":\"BasicTickFormatter\"},{\"attributes\":{\"source\":{\"id\":\"94400a2d-a2b0-47c4-b3d5-5659a2b570f0\",\"type\":\"ColumnDataSource\"}},\"id\":\"a1cf8a31-9ca0-42bc-8d70-1be7f350b4d4\",\"type\":\"CDSView\"},{\"attributes\":{\"source\":{\"id\":\"60e9e66e-5b3e-45b5-8682-e73ec23f37e3\",\"type\":\"ColumnDataSource\"}},\"id\":\"1a0b0ce8-7936-4847-ab16-e04c473b0cd7\",\"type\":\"CDSView\"},{\"attributes\":{\"line_color\":{\"value\":\"olive\"},\"line_width\":{\"value\":2},\"x\":{\"field\":\"x\"},\"y\":{\"field\":\"y\"}},\"id\":\"51e509e1-8a4f-435b-81e6-d679dedd1050\",\"type\":\"Line\"},{\"attributes\":{\"dimension\":1,\"plot\":{\"id\":\"63f91744-d570-4ff4-957a-c45f27f3fa13\",\"subtype\":\"Figure\",\"type\":\"Plot\"},\"ticker\":{\"id\":\"97083c2c-2068-45c4-8787-f37190bc2a01\",\"type\":\"BasicTicker\"}},\"id\":\"bd9c5286-5003-47df-a996-69ea43e2ffc6\",\"type\":\"Grid\"},{\"attributes\":{\"below\":[{\"id\":\"b8fa8879-bb39-4a4d-a20f-f5c7167e0c1d\",\"type\":\"LinearAxis\"}],\"left\":[{\"id\":\"bed9cfc6-b2ab-44f7-9b8f-9e71345b4474\",\"type\":\"LinearAxis\"}],\"plot_height\":400,\"plot_width\":400,\"renderers\":[{\"id\":\"b8fa8879-bb39-4a4d-a20f-f5c7167e0c1d\",\"type\":\"LinearAxis\"},{\"id\":\"db4566b7-cabb-4936-b2cd-7b06c125da0e\",\"type\":\"Grid\"},{\"id\":\"bed9cfc6-b2ab-44f7-9b8f-9e71345b4474\",\"type\":\"LinearAxis\"},{\"id\":\"bd9c5286-5003-47df-a996-69ea43e2ffc6\",\"type\":\"Grid\"},{\"id\":\"d81794b0-ce25-4584-aebb-d3c8aa853de3\",\"type\":\"BoxAnnotation\"},{\"id\":\"dc4511e1-f2f7-4aa1-8cce-4af5713423dd\",\"type\":\"GlyphRenderer\"},{\"id\":\"60540b3b-953b-4b1c-8fac-ed94087d7d89\",\"type\":\"GlyphRenderer\"}],\"title\":{\"id\":\"791e2787-1bd3-4974-abee-8d12ed463b47\",\"type\":\"Title\"},\"toolbar\":{\"id\":\"8fb1af7b-343e-4994-bd63-b4ea749674cb\",\"type\":\"Toolbar\"},\"x_range\":{\"id\":\"00264438-a6d8-4b0d-90c7-0f164cc4e61c\",\"type\":\"DataRange1d\"},\"x_scale\":{\"id\":\"4776a496-80eb-4e82-b685-6c030f1502b3\",\"type\":\"LinearScale\"},\"y_range\":{\"id\":\"57d95290-3f60-4546-8da7-12a7671b64d8\",\"type\":\"DataRange1d\"},\"y_scale\":{\"id\":\"f0ecefa1-fb84-4e35-b8da-800723399351\",\"type\":\"LinearScale\"}},\"id\":\"63f91744-d570-4ff4-957a-c45f27f3fa13\",\"subtype\":\"Figure\",\"type\":\"Plot\"},{\"attributes\":{\"fill_alpha\":{\"value\":0.1},\"fill_color\":{\"value\":\"#1f77b4\"},\"line_alpha\":{\"value\":0.1},\"line_color\":{\"value\":\"#1f77b4\"},\"size\":{\"units\":\"screen\",\"value\":12},\"x\":{\"field\":\"x\"},\"y\":{\"field\":\"y\"}},\"id\":\"fc77fd16-2bb7-4165-84d8-30a18851a3a4\",\"type\":\"SquareCross\"},{\"attributes\":{\"plot\":{\"id\":\"63f91744-d570-4ff4-957a-c45f27f3fa13\",\"subtype\":\"Figure\",\"type\":\"Plot\"},\"ticker\":{\"id\":\"8baf4444-c8eb-4374-a988-7dfeb3453855\",\"type\":\"BasicTicker\"}},\"id\":\"db4566b7-cabb-4936-b2cd-7b06c125da0e\",\"type\":\"Grid\"},{\"attributes\":{\"bottom_units\":\"screen\",\"fill_alpha\":{\"value\":0.5},\"fill_color\":{\"value\":\"lightgrey\"},\"left_units\":\"screen\",\"level\":\"overlay\",\"line_alpha\":{\"value\":1.0},\"line_color\":{\"value\":\"black\"},\"line_dash\":[4,4],\"line_width\":{\"value\":2},\"plot\":null,\"render_mode\":\"css\",\"right_units\":\"screen\",\"top_units\":\"screen\"},\"id\":\"d81794b0-ce25-4584-aebb-d3c8aa853de3\",\"type\":\"BoxAnnotation\"},{\"attributes\":{\"data_source\":{\"id\":\"94400a2d-a2b0-47c4-b3d5-5659a2b570f0\",\"type\":\"ColumnDataSource\"},\"glyph\":{\"id\":\"4df34e54-5554-4c08-a80c-b74a64f2d3b4\",\"type\":\"SquareCross\"},\"hover_glyph\":null,\"muted_glyph\":null,\"nonselection_glyph\":{\"id\":\"fc77fd16-2bb7-4165-84d8-30a18851a3a4\",\"type\":\"SquareCross\"},\"selection_glyph\":null,\"view\":{\"id\":\"a1cf8a31-9ca0-42bc-8d70-1be7f350b4d4\",\"type\":\"CDSView\"}},\"id\":\"60540b3b-953b-4b1c-8fac-ed94087d7d89\",\"type\":\"GlyphRenderer\"},{\"attributes\":{\"callback\":null},\"id\":\"57d95290-3f60-4546-8da7-12a7671b64d8\",\"type\":\"DataRange1d\"},{\"attributes\":{},\"id\":\"484169d7-0cef-4d7b-93b0-5d6e86caae26\",\"type\":\"PanTool\"},{\"attributes\":{},\"id\":\"8baf4444-c8eb-4374-a988-7dfeb3453855\",\"type\":\"BasicTicker\"},{\"attributes\":{},\"id\":\"0553f0b9-bd88-44c5-8c87-19dbb5e7401d\",\"type\":\"BasicTickFormatter\"},{\"attributes\":{\"line_alpha\":{\"value\":0.1},\"line_color\":{\"value\":\"#1f77b4\"},\"line_width\":{\"value\":2},\"x\":{\"field\":\"x\"},\"y\":{\"field\":\"y\"}},\"id\":\"09a2995a-97af-49ba-8682-d1b98c4eec30\",\"type\":\"Line\"},{\"attributes\":{},\"id\":\"97083c2c-2068-45c4-8787-f37190bc2a01\",\"type\":\"BasicTicker\"},{\"attributes\":{\"fill_color\":{\"value\":\"yellow\"},\"line_color\":{\"value\":\"olive\"},\"size\":{\"units\":\"screen\",\"value\":12},\"x\":{\"field\":\"x\"},\"y\":{\"field\":\"y\"}},\"id\":\"4df34e54-5554-4c08-a80c-b74a64f2d3b4\",\"type\":\"SquareCross\"},{\"attributes\":{\"axis_label\":\"Dance\",\"formatter\":{\"id\":\"0553f0b9-bd88-44c5-8c87-19dbb5e7401d\",\"type\":\"BasicTickFormatter\"},\"major_label_text_color\":{\"value\":\"red\"},\"major_label_text_font_size\":{\"value\":\"18pt\"},\"plot\":{\"id\":\"63f91744-d570-4ff4-957a-c45f27f3fa13\",\"subtype\":\"Figure\",\"type\":\"Plot\"},\"ticker\":{\"id\":\"8baf4444-c8eb-4374-a988-7dfeb3453855\",\"type\":\"BasicTicker\"}},\"id\":\"b8fa8879-bb39-4a4d-a20f-f5c7167e0c1d\",\"type\":\"LinearAxis\"},{\"attributes\":{\"overlay\":{\"id\":\"d81794b0-ce25-4584-aebb-d3c8aa853de3\",\"type\":\"BoxAnnotation\"}},\"id\":\"e71a4feb-35e1-4797-bc39-15fb262ed040\",\"type\":\"BoxZoomTool\"},{\"attributes\":{},\"id\":\"f0ecefa1-fb84-4e35-b8da-800723399351\",\"type\":\"LinearScale\"},{\"attributes\":{},\"id\":\"2f2f4b41-fdbe-4d37-a72d-cce7a4231ab9\",\"type\":\"HelpTool\"},{\"attributes\":{},\"id\":\"1bdb15ce-d7ea-40e5-ac9d-91eabbf35333\",\"type\":\"ResetTool\"},{\"attributes\":{\"callback\":null,\"column_names\":[\"x\",\"y\"],\"data\":{\"x\":[1,2,3,4,5],\"y\":[2,5,8,2,7]}},\"id\":\"94400a2d-a2b0-47c4-b3d5-5659a2b570f0\",\"type\":\"ColumnDataSource\"},{\"attributes\":{},\"id\":\"3784a86f-b44f-4694-b9b3-f91a7a97054c\",\"type\":\"WheelZoomTool\"},{\"attributes\":{\"plot\":null,\"text\":\"\"},\"id\":\"791e2787-1bd3-4974-abee-8d12ed463b47\",\"type\":\"Title\"},{\"attributes\":{\"callback\":null},\"id\":\"00264438-a6d8-4b0d-90c7-0f164cc4e61c\",\"type\":\"DataRange1d\"},{\"attributes\":{},\"id\":\"4776a496-80eb-4e82-b685-6c030f1502b3\",\"type\":\"LinearScale\"},{\"attributes\":{},\"id\":\"a14c5769-6345-448d-a4c2-bc9ddb9fbac7\",\"type\":\"SaveTool\"},{\"attributes\":{\"callback\":null,\"column_names\":[\"x\",\"y\"],\"data\":{\"x\":[1,2,3,4,5],\"y\":[2,5,8,2,7]}},\"id\":\"60e9e66e-5b3e-45b5-8682-e73ec23f37e3\",\"type\":\"ColumnDataSource\"},{\"attributes\":{\"data_source\":{\"id\":\"60e9e66e-5b3e-45b5-8682-e73ec23f37e3\",\"type\":\"ColumnDataSource\"},\"glyph\":{\"id\":\"51e509e1-8a4f-435b-81e6-d679dedd1050\",\"type\":\"Line\"},\"hover_glyph\":null,\"muted_glyph\":null,\"nonselection_glyph\":{\"id\":\"09a2995a-97af-49ba-8682-d1b98c4eec30\",\"type\":\"Line\"},\"selection_glyph\":null,\"view\":{\"id\":\"1a0b0ce8-7936-4847-ab16-e04c473b0cd7\",\"type\":\"CDSView\"}},\"id\":\"dc4511e1-f2f7-4aa1-8cce-4af5713423dd\",\"type\":\"GlyphRenderer\"},{\"attributes\":{\"active_drag\":\"auto\",\"active_inspect\":\"auto\",\"active_scroll\":\"auto\",\"active_tap\":\"auto\",\"tools\":[{\"id\":\"484169d7-0cef-4d7b-93b0-5d6e86caae26\",\"type\":\"PanTool\"},{\"id\":\"3784a86f-b44f-4694-b9b3-f91a7a97054c\",\"type\":\"WheelZoomTool\"},{\"id\":\"e71a4feb-35e1-4797-bc39-15fb262ed040\",\"type\":\"BoxZoomTool\"},{\"id\":\"a14c5769-6345-448d-a4c2-bc9ddb9fbac7\",\"type\":\"SaveTool\"},{\"id\":\"1bdb15ce-d7ea-40e5-ac9d-91eabbf35333\",\"type\":\"ResetTool\"},{\"id\":\"2f2f4b41-fdbe-4d37-a72d-cce7a4231ab9\",\"type\":\"HelpTool\"}]},\"id\":\"8fb1af7b-343e-4994-bd63-b4ea749674cb\",\"type\":\"Toolbar\"}],\"root_ids\":[\"63f91744-d570-4ff4-957a-c45f27f3fa13\"]},\"title\":\"Bokeh Application\",\"version\":\"0.12.9\"}};\n",
       "    var render_items = [{\"docid\":\"9cbca2ad-6c82-4b0a-97ed-d580bd29f1d3\",\"elementid\":\"ad5a8d0f-3516-47ea-80c1-47cf23dbcf23\",\"modelid\":\"63f91744-d570-4ff4-957a-c45f27f3fa13\"}];\n",
       "\n",
       "    root.Bokeh.embed.embed_items(docs_json, render_items);\n",
       "  }\n",
       "\n",
       "  if (root.Bokeh !== undefined) {\n",
       "    embed_document(root);\n",
       "  } else {\n",
       "    var attempts = 0;\n",
       "    var timer = setInterval(function(root) {\n",
       "      if (root.Bokeh !== undefined) {\n",
       "        embed_document(root);\n",
       "        clearInterval(timer);\n",
       "      }\n",
       "      attempts++;\n",
       "      if (attempts > 100) {\n",
       "        console.log(\"Bokeh: ERROR: Unable to embed document because BokehJS library is missing\")\n",
       "        clearInterval(timer);\n",
       "      }\n",
       "    }, 10, root)\n",
       "  }\n",
       "})(window);"
      ],
      "application/vnd.bokehjs_exec.v0+json": ""
     },
     "metadata": {
      "application/vnd.bokehjs_exec.v0+json": {
       "id": "63f91744-d570-4ff4-957a-c45f27f3fa13"
      }
     },
     "output_type": "display_data"
    }
   ],
   "source": [
    "# EXERCISE Create a plot of your own and customize several axis properties\n",
    "p = figure(plot_width=400, plot_height=400)\n",
    "p.line([1,2,3,4,5], [2,5,8,2,7], line_width=2, color=\"olive\")\n",
    "p.square_cross([1,2,3,4,5], [2,5,8,2,7], size=12, line_color=\"olive\", fill_color='yellow')\n",
    "\n",
    "# change just some things about the x-axes\n",
    "p.xaxis.axis_label = \"Dance\"\n",
    "p.xaxis.axis_line_width = 1\n",
    "p.xaxis.major_label_text_color = \"red\"\n",
    "p.xaxis.major_label_text_font_size = '18pt'\n",
    "\n",
    "# change just some things about the y-axes\n",
    "p.yaxis.axis_label = \"People\"\n",
    "p.yaxis.major_label_text_color = \"orange\"\n",
    "p.yaxis.major_label_orientation = \"vertical\"\n",
    "p.yaxis.major_label_text_font_size = '18pt'\n",
    "\n",
    "# change things on all axes\n",
    "p.axis.minor_tick_in = 0\n",
    "p.axis.minor_tick_out = 4\n",
    "\n",
    "show(p)"
   ]
  },
  {
   "cell_type": "markdown",
   "metadata": {},
   "source": [
    "There are further customizations possible. See the [User Guide](http://bokeh.pydata.org/en/latest/docs/user_guide.html) for more information on topics such as [tick label formatting](http://bokeh.pydata.org/en/latest/docs/user_guide/styling.html#tick-label-formats) or [limiting axis bounds](http://bokeh.pydata.org/en/latest/docs/user_guide/styling.html#bounds)."
   ]
  },
  {
   "cell_type": "markdown",
   "metadata": {},
   "source": [
    "# Grids\n",
    "\n",
    "[Grids](http://bokeh.pydata.org/en/latest/docs/user_guide/styling.html#grids)\n",
    "\n",
    "* **grid** [line properties](http://bokeh.pydata.org/en/latest/docs/user_guide/styling.html#line-properties)\n",
    "* **band** [fill properties]()"
   ]
  },
  {
   "cell_type": "code",
   "execution_count": 85,
   "metadata": {},
   "outputs": [
    {
     "data": {
      "text/html": [
       "\n",
       "<div class=\"bk-root\">\n",
       "    <div class=\"bk-plotdiv\" id=\"49423fd0-abf0-49a3-8b20-e5eecb0c7d26\"></div>\n",
       "</div>"
      ]
     },
     "metadata": {},
     "output_type": "display_data"
    },
    {
     "data": {
      "application/javascript": [
       "(function(root) {\n",
       "  function embed_document(root) {\n",
       "    var docs_json = {\"9a8193f8-860e-4807-a7cd-1d64e33ed5a0\":{\"roots\":{\"references\":[{\"attributes\":{},\"id\":\"a40414c3-0386-4606-8d04-3a7de5c20a3d\",\"type\":\"PanTool\"},{\"attributes\":{\"callback\":null},\"id\":\"54d08be3-27a1-4fb3-9018-49832d54aabf\",\"type\":\"DataRange1d\"},{\"attributes\":{\"source\":{\"id\":\"30c8f325-b096-4e57-ba51-c3feb6155c8a\",\"type\":\"ColumnDataSource\"}},\"id\":\"bb956eae-63b5-443b-9d32-f8268bfcfdf1\",\"type\":\"CDSView\"},{\"attributes\":{\"bottom_units\":\"screen\",\"fill_alpha\":{\"value\":0.5},\"fill_color\":{\"value\":\"lightgrey\"},\"left_units\":\"screen\",\"level\":\"overlay\",\"line_alpha\":{\"value\":1.0},\"line_color\":{\"value\":\"black\"},\"line_dash\":[4,4],\"line_width\":{\"value\":2},\"plot\":null,\"render_mode\":\"css\",\"right_units\":\"screen\",\"top_units\":\"screen\"},\"id\":\"eb7815dc-ffd0-4ca6-9a1e-2a01afed8e8a\",\"type\":\"BoxAnnotation\"},{\"attributes\":{\"active_drag\":\"auto\",\"active_inspect\":\"auto\",\"active_scroll\":\"auto\",\"active_tap\":\"auto\",\"tools\":[{\"id\":\"a40414c3-0386-4606-8d04-3a7de5c20a3d\",\"type\":\"PanTool\"},{\"id\":\"a9d61583-1554-45fb-902d-9e72887ec833\",\"type\":\"WheelZoomTool\"},{\"id\":\"caad636b-c817-467a-b042-364603d9ab10\",\"type\":\"BoxZoomTool\"},{\"id\":\"aca4f984-f31c-4dc4-b471-cf410c75310d\",\"type\":\"SaveTool\"},{\"id\":\"0dc1a561-4851-45e6-8362-8d2b3f267b2e\",\"type\":\"ResetTool\"},{\"id\":\"c3a0cf51-adf8-4928-a69d-a1efe8b4d87b\",\"type\":\"HelpTool\"}]},\"id\":\"d3aa9e77-8c99-43b3-9546-4506fec31a29\",\"type\":\"Toolbar\"},{\"attributes\":{},\"id\":\"6eb8b22d-ea6f-48d7-b9de-b83ef05de23a\",\"type\":\"BasicTickFormatter\"},{\"attributes\":{},\"id\":\"0dc1a561-4851-45e6-8362-8d2b3f267b2e\",\"type\":\"ResetTool\"},{\"attributes\":{\"overlay\":{\"id\":\"eb7815dc-ffd0-4ca6-9a1e-2a01afed8e8a\",\"type\":\"BoxAnnotation\"}},\"id\":\"caad636b-c817-467a-b042-364603d9ab10\",\"type\":\"BoxZoomTool\"},{\"attributes\":{},\"id\":\"a9d61583-1554-45fb-902d-9e72887ec833\",\"type\":\"WheelZoomTool\"},{\"attributes\":{\"data_source\":{\"id\":\"30c8f325-b096-4e57-ba51-c3feb6155c8a\",\"type\":\"ColumnDataSource\"},\"glyph\":{\"id\":\"72959bea-75b8-4a09-9718-930ba443cd9a\",\"type\":\"Circle\"},\"hover_glyph\":null,\"muted_glyph\":null,\"nonselection_glyph\":{\"id\":\"81a1a306-8b3f-4531-acd3-eb2903e9c0e5\",\"type\":\"Circle\"},\"selection_glyph\":null,\"view\":{\"id\":\"bb956eae-63b5-443b-9d32-f8268bfcfdf1\",\"type\":\"CDSView\"}},\"id\":\"6939026b-60d1-48a1-8a97-88152af21c71\",\"type\":\"GlyphRenderer\"},{\"attributes\":{\"grid_line_color\":{\"value\":null},\"plot\":{\"id\":\"c62c7c2c-69ef-449c-9f16-b8995ed5102b\",\"subtype\":\"Figure\",\"type\":\"Plot\"},\"ticker\":{\"id\":\"5b7415e5-167b-4fee-8e66-02c86d494dfc\",\"type\":\"BasicTicker\"}},\"id\":\"5a709d77-dd37-4601-a06d-34aff942c2df\",\"type\":\"Grid\"},{\"attributes\":{},\"id\":\"c3a0cf51-adf8-4928-a69d-a1efe8b4d87b\",\"type\":\"HelpTool\"},{\"attributes\":{\"plot\":null,\"text\":\"\"},\"id\":\"3dbab9f6-01b0-4c6e-a471-0b0407d0e1d3\",\"type\":\"Title\"},{\"attributes\":{\"dimension\":1,\"grid_line_alpha\":{\"value\":0.5},\"grid_line_dash\":[6,4],\"plot\":{\"id\":\"c62c7c2c-69ef-449c-9f16-b8995ed5102b\",\"subtype\":\"Figure\",\"type\":\"Plot\"},\"ticker\":{\"id\":\"89a82748-f0bd-4e70-87d6-5b6b4d81b3c2\",\"type\":\"BasicTicker\"}},\"id\":\"fb73a090-c8d7-4302-b953-beb5d3e9e7f2\",\"type\":\"Grid\"},{\"attributes\":{\"callback\":null},\"id\":\"b521ae08-ce69-4368-a9b6-32be21168c5d\",\"type\":\"DataRange1d\"},{\"attributes\":{\"below\":[{\"id\":\"e7684968-72ae-4c5e-b4ed-6620adda0f69\",\"type\":\"LinearAxis\"}],\"left\":[{\"id\":\"b11502b8-a985-4dfe-8c11-ff8dd2c6a413\",\"type\":\"LinearAxis\"}],\"plot_height\":400,\"plot_width\":400,\"renderers\":[{\"id\":\"e7684968-72ae-4c5e-b4ed-6620adda0f69\",\"type\":\"LinearAxis\"},{\"id\":\"5a709d77-dd37-4601-a06d-34aff942c2df\",\"type\":\"Grid\"},{\"id\":\"b11502b8-a985-4dfe-8c11-ff8dd2c6a413\",\"type\":\"LinearAxis\"},{\"id\":\"fb73a090-c8d7-4302-b953-beb5d3e9e7f2\",\"type\":\"Grid\"},{\"id\":\"eb7815dc-ffd0-4ca6-9a1e-2a01afed8e8a\",\"type\":\"BoxAnnotation\"},{\"id\":\"6939026b-60d1-48a1-8a97-88152af21c71\",\"type\":\"GlyphRenderer\"}],\"title\":{\"id\":\"3dbab9f6-01b0-4c6e-a471-0b0407d0e1d3\",\"type\":\"Title\"},\"toolbar\":{\"id\":\"d3aa9e77-8c99-43b3-9546-4506fec31a29\",\"type\":\"Toolbar\"},\"x_range\":{\"id\":\"b521ae08-ce69-4368-a9b6-32be21168c5d\",\"type\":\"DataRange1d\"},\"x_scale\":{\"id\":\"d0d3f940-f5bc-49f5-b4e4-8e2e262e45dc\",\"type\":\"LinearScale\"},\"y_range\":{\"id\":\"54d08be3-27a1-4fb3-9018-49832d54aabf\",\"type\":\"DataRange1d\"},\"y_scale\":{\"id\":\"c3eb51c6-7085-4281-a5ee-bf2c7b7ce554\",\"type\":\"LinearScale\"}},\"id\":\"c62c7c2c-69ef-449c-9f16-b8995ed5102b\",\"subtype\":\"Figure\",\"type\":\"Plot\"},{\"attributes\":{},\"id\":\"89a82748-f0bd-4e70-87d6-5b6b4d81b3c2\",\"type\":\"BasicTicker\"},{\"attributes\":{\"fill_alpha\":{\"value\":0.1},\"fill_color\":{\"value\":\"#1f77b4\"},\"line_alpha\":{\"value\":0.1},\"line_color\":{\"value\":\"#1f77b4\"},\"size\":{\"units\":\"screen\",\"value\":10},\"x\":{\"field\":\"x\"},\"y\":{\"field\":\"y\"}},\"id\":\"81a1a306-8b3f-4531-acd3-eb2903e9c0e5\",\"type\":\"Circle\"},{\"attributes\":{},\"id\":\"793a6303-f731-48d8-9962-4f3f59c933b2\",\"type\":\"BasicTickFormatter\"},{\"attributes\":{},\"id\":\"aca4f984-f31c-4dc4-b471-cf410c75310d\",\"type\":\"SaveTool\"},{\"attributes\":{},\"id\":\"c3eb51c6-7085-4281-a5ee-bf2c7b7ce554\",\"type\":\"LinearScale\"},{\"attributes\":{\"formatter\":{\"id\":\"793a6303-f731-48d8-9962-4f3f59c933b2\",\"type\":\"BasicTickFormatter\"},\"plot\":{\"id\":\"c62c7c2c-69ef-449c-9f16-b8995ed5102b\",\"subtype\":\"Figure\",\"type\":\"Plot\"},\"ticker\":{\"id\":\"5b7415e5-167b-4fee-8e66-02c86d494dfc\",\"type\":\"BasicTicker\"}},\"id\":\"e7684968-72ae-4c5e-b4ed-6620adda0f69\",\"type\":\"LinearAxis\"},{\"attributes\":{\"formatter\":{\"id\":\"6eb8b22d-ea6f-48d7-b9de-b83ef05de23a\",\"type\":\"BasicTickFormatter\"},\"plot\":{\"id\":\"c62c7c2c-69ef-449c-9f16-b8995ed5102b\",\"subtype\":\"Figure\",\"type\":\"Plot\"},\"ticker\":{\"id\":\"89a82748-f0bd-4e70-87d6-5b6b4d81b3c2\",\"type\":\"BasicTicker\"}},\"id\":\"b11502b8-a985-4dfe-8c11-ff8dd2c6a413\",\"type\":\"LinearAxis\"},{\"attributes\":{},\"id\":\"d0d3f940-f5bc-49f5-b4e4-8e2e262e45dc\",\"type\":\"LinearScale\"},{\"attributes\":{},\"id\":\"5b7415e5-167b-4fee-8e66-02c86d494dfc\",\"type\":\"BasicTicker\"},{\"attributes\":{\"fill_color\":{\"value\":\"#1f77b4\"},\"line_color\":{\"value\":\"#1f77b4\"},\"size\":{\"units\":\"screen\",\"value\":10},\"x\":{\"field\":\"x\"},\"y\":{\"field\":\"y\"}},\"id\":\"72959bea-75b8-4a09-9718-930ba443cd9a\",\"type\":\"Circle\"},{\"attributes\":{\"callback\":null,\"column_names\":[\"x\",\"y\"],\"data\":{\"x\":[1,2,3,4,5],\"y\":[2,5,8,2,7]}},\"id\":\"30c8f325-b096-4e57-ba51-c3feb6155c8a\",\"type\":\"ColumnDataSource\"}],\"root_ids\":[\"c62c7c2c-69ef-449c-9f16-b8995ed5102b\"]},\"title\":\"Bokeh Application\",\"version\":\"0.12.9\"}};\n",
       "    var render_items = [{\"docid\":\"9a8193f8-860e-4807-a7cd-1d64e33ed5a0\",\"elementid\":\"49423fd0-abf0-49a3-8b20-e5eecb0c7d26\",\"modelid\":\"c62c7c2c-69ef-449c-9f16-b8995ed5102b\"}];\n",
       "\n",
       "    root.Bokeh.embed.embed_items(docs_json, render_items);\n",
       "  }\n",
       "\n",
       "  if (root.Bokeh !== undefined) {\n",
       "    embed_document(root);\n",
       "  } else {\n",
       "    var attempts = 0;\n",
       "    var timer = setInterval(function(root) {\n",
       "      if (root.Bokeh !== undefined) {\n",
       "        embed_document(root);\n",
       "        clearInterval(timer);\n",
       "      }\n",
       "      attempts++;\n",
       "      if (attempts > 100) {\n",
       "        console.log(\"Bokeh: ERROR: Unable to embed document because BokehJS library is missing\")\n",
       "        clearInterval(timer);\n",
       "      }\n",
       "    }, 10, root)\n",
       "  }\n",
       "})(window);"
      ],
      "application/vnd.bokehjs_exec.v0+json": ""
     },
     "metadata": {
      "application/vnd.bokehjs_exec.v0+json": {
       "id": "c62c7c2c-69ef-449c-9f16-b8995ed5102b"
      }
     },
     "output_type": "display_data"
    }
   ],
   "source": [
    "p = figure(plot_width=400, plot_height=400)\n",
    "p.circle([1,2,3,4,5], [2,5,8,2,7], size=10)\n",
    "\n",
    "# change just some things about the x-grid\n",
    "p.xgrid.grid_line_color = None\n",
    "\n",
    "# change just some things about the y-grid\n",
    "p.ygrid.grid_line_alpha = 0.5\n",
    "p.ygrid.grid_line_dash = [6, 4]\n",
    "\n",
    "show(p)"
   ]
  },
  {
   "cell_type": "code",
   "execution_count": 14,
   "metadata": {},
   "outputs": [
    {
     "data": {
      "text/html": [
       "\n",
       "\n",
       "    <div class=\"bk-root\">\n",
       "        <div class=\"bk-plotdiv\" id=\"0256b5c8-7816-47fc-813b-5cb755fcf871\"></div>\n",
       "    </div>\n",
       "<script type=\"text/javascript\">\n",
       "  \n",
       "  (function(root) {\n",
       "    function now() {\n",
       "      return new Date();\n",
       "    }\n",
       "  \n",
       "    var force = false;\n",
       "  \n",
       "    if (typeof (root._bokeh_onload_callbacks) === \"undefined\" || force === true) {\n",
       "      root._bokeh_onload_callbacks = [];\n",
       "      root._bokeh_is_loading = undefined;\n",
       "    }\n",
       "  \n",
       "  \n",
       "    \n",
       "    if (typeof (root._bokeh_timeout) === \"undefined\" || force === true) {\n",
       "      root._bokeh_timeout = Date.now() + 0;\n",
       "      root._bokeh_failed_load = false;\n",
       "    }\n",
       "  \n",
       "    var NB_LOAD_WARNING = {'data': {'text/html':\n",
       "       \"<div style='background-color: #fdd'>\\n\"+\n",
       "       \"<p>\\n\"+\n",
       "       \"BokehJS does not appear to have successfully loaded. If loading BokehJS from CDN, this \\n\"+\n",
       "       \"may be due to a slow or bad network connection. Possible fixes:\\n\"+\n",
       "       \"</p>\\n\"+\n",
       "       \"<ul>\\n\"+\n",
       "       \"<li>re-rerun `output_notebook()` to attempt to load from CDN again, or</li>\\n\"+\n",
       "       \"<li>use INLINE resources instead, as so:</li>\\n\"+\n",
       "       \"</ul>\\n\"+\n",
       "       \"<code>\\n\"+\n",
       "       \"from bokeh.resources import INLINE\\n\"+\n",
       "       \"output_notebook(resources=INLINE)\\n\"+\n",
       "       \"</code>\\n\"+\n",
       "       \"</div>\"}};\n",
       "  \n",
       "    function display_loaded() {\n",
       "      if (root.Bokeh !== undefined) {\n",
       "        var el = document.getElementById(\"0256b5c8-7816-47fc-813b-5cb755fcf871\");\n",
       "        if (el != null) {\n",
       "          el.textContent = \"BokehJS \" + Bokeh.version + \" successfully loaded.\";\n",
       "        }\n",
       "      } else if (Date.now() < root._bokeh_timeout) {\n",
       "        setTimeout(display_loaded, 100)\n",
       "      }\n",
       "    }\n",
       "  \n",
       "  \n",
       "    function run_callbacks() {\n",
       "      try {\n",
       "        root._bokeh_onload_callbacks.forEach(function(callback) { callback() });\n",
       "      }\n",
       "      finally {\n",
       "        delete root._bokeh_onload_callbacks\n",
       "      }\n",
       "      console.info(\"Bokeh: all callbacks have finished\");\n",
       "    }\n",
       "  \n",
       "    function load_libs(js_urls, callback) {\n",
       "      root._bokeh_onload_callbacks.push(callback);\n",
       "      if (root._bokeh_is_loading > 0) {\n",
       "        console.log(\"Bokeh: BokehJS is being loaded, scheduling callback at\", now());\n",
       "        return null;\n",
       "      }\n",
       "      if (js_urls == null || js_urls.length === 0) {\n",
       "        run_callbacks();\n",
       "        return null;\n",
       "      }\n",
       "      console.log(\"Bokeh: BokehJS not loaded, scheduling load and callback at\", now());\n",
       "      root._bokeh_is_loading = js_urls.length;\n",
       "      for (var i = 0; i < js_urls.length; i++) {\n",
       "        var url = js_urls[i];\n",
       "        var s = document.createElement('script');\n",
       "        s.src = url;\n",
       "        s.async = false;\n",
       "        s.onreadystatechange = s.onload = function() {\n",
       "          root._bokeh_is_loading--;\n",
       "          if (root._bokeh_is_loading === 0) {\n",
       "            console.log(\"Bokeh: all BokehJS libraries loaded\");\n",
       "            run_callbacks()\n",
       "          }\n",
       "        };\n",
       "        s.onerror = function() {\n",
       "          console.warn(\"failed to load library \" + url);\n",
       "        };\n",
       "        console.log(\"Bokeh: injecting script tag for BokehJS library: \", url);\n",
       "        document.getElementsByTagName(\"head\")[0].appendChild(s);\n",
       "      }\n",
       "    };var element = document.getElementById(\"0256b5c8-7816-47fc-813b-5cb755fcf871\");\n",
       "    if (element == null) {\n",
       "      console.log(\"Bokeh: ERROR: autoload.js configured with elementid '0256b5c8-7816-47fc-813b-5cb755fcf871' but no matching script tag was found. \")\n",
       "      return false;\n",
       "    }\n",
       "  \n",
       "    var js_urls = [];\n",
       "  \n",
       "    var inline_js = [\n",
       "      function(Bokeh) {\n",
       "        (function() {\n",
       "          var fn = function() {\n",
       "            var docs_json = {\"87913bcd-bacd-4355-809a-b1fb485e50cb\":{\"roots\":{\"references\":[{\"attributes\":{},\"id\":\"6c1cc22c-b0be-4919-8f91-e68c8a3faee8\",\"type\":\"BasicTicker\"},{\"attributes\":{\"callback\":null},\"id\":\"0e588a96-5f84-4ed5-a63c-216d89898f07\",\"type\":\"DataRange1d\"},{\"attributes\":{\"source\":{\"id\":\"e2f2fea3-71cf-4795-97a4-7b790f3b74bd\",\"type\":\"ColumnDataSource\"}},\"id\":\"d03874e2-85fe-430d-92a1-f670998d0ec3\",\"type\":\"CDSView\"},{\"attributes\":{\"bottom_units\":\"screen\",\"fill_alpha\":{\"value\":0.5},\"fill_color\":{\"value\":\"lightgrey\"},\"left_units\":\"screen\",\"level\":\"overlay\",\"line_alpha\":{\"value\":1.0},\"line_color\":{\"value\":\"black\"},\"line_dash\":[4,4],\"line_width\":{\"value\":2},\"plot\":null,\"render_mode\":\"css\",\"right_units\":\"screen\",\"top_units\":\"screen\"},\"id\":\"c9f921c2-1f3c-47ce-9b38-9129a4258500\",\"type\":\"BoxAnnotation\"},{\"attributes\":{\"active_drag\":\"auto\",\"active_inspect\":\"auto\",\"active_scroll\":\"auto\",\"active_tap\":\"auto\",\"tools\":[{\"id\":\"30f2eef8-4bbd-4598-a706-58a4dfa91aa5\",\"type\":\"PanTool\"},{\"id\":\"6811a0bd-4d8d-4f93-8a7a-02b5207201e0\",\"type\":\"WheelZoomTool\"},{\"id\":\"65b7c4b4-3911-45bb-9669-23d1316ff4be\",\"type\":\"BoxZoomTool\"},{\"id\":\"0f167f5f-6780-49e1-a64f-5c59feafd2d1\",\"type\":\"SaveTool\"},{\"id\":\"8e8191f9-c16e-4469-9565-303a7327ba20\",\"type\":\"ResetTool\"},{\"id\":\"ffa0bc27-155d-4833-b0c2-a17abeb30e77\",\"type\":\"HelpTool\"}]},\"id\":\"514c6c27-e240-407b-87f0-f3a80dd0f046\",\"type\":\"Toolbar\"},{\"attributes\":{},\"id\":\"30f2eef8-4bbd-4598-a706-58a4dfa91aa5\",\"type\":\"PanTool\"},{\"attributes\":{},\"id\":\"f3c8240a-4588-4857-94fe-97880f70e732\",\"type\":\"BasicTickFormatter\"},{\"attributes\":{\"data_source\":{\"id\":\"e2f2fea3-71cf-4795-97a4-7b790f3b74bd\",\"type\":\"ColumnDataSource\"},\"glyph\":{\"id\":\"4d0cc851-20db-4740-9bf3-6d716786aff7\",\"type\":\"Circle\"},\"hover_glyph\":null,\"muted_glyph\":null,\"nonselection_glyph\":{\"id\":\"2272cb44-253c-4f5b-9b23-de006cd561bb\",\"type\":\"Circle\"},\"selection_glyph\":null,\"view\":{\"id\":\"d03874e2-85fe-430d-92a1-f670998d0ec3\",\"type\":\"CDSView\"}},\"id\":\"a9d87e02-fbd4-4a0e-95b3-f203a56e04b7\",\"type\":\"GlyphRenderer\"},{\"attributes\":{\"formatter\":{\"id\":\"f3c8240a-4588-4857-94fe-97880f70e732\",\"type\":\"BasicTickFormatter\"},\"plot\":{\"id\":\"59a7febd-ec17-49c7-ba21-e5f1f32bc64a\",\"subtype\":\"Figure\",\"type\":\"Plot\"},\"ticker\":{\"id\":\"6c1cc22c-b0be-4919-8f91-e68c8a3faee8\",\"type\":\"BasicTicker\"}},\"id\":\"0c80df33-ef74-49fa-848b-b1e796dfdc0b\",\"type\":\"LinearAxis\"},{\"attributes\":{\"band_fill_alpha\":{\"value\":0.1},\"band_fill_color\":{\"value\":\"navy\"},\"dimension\":1,\"plot\":{\"id\":\"59a7febd-ec17-49c7-ba21-e5f1f32bc64a\",\"subtype\":\"Figure\",\"type\":\"Plot\"},\"ticker\":{\"id\":\"5c59fb57-6148-4cc6-a036-9d69e85cf142\",\"type\":\"BasicTicker\"}},\"id\":\"203a8273-7f96-49e3-ac40-2108ebc6d9f4\",\"type\":\"Grid\"},{\"attributes\":{\"fill_color\":{\"value\":\"#1f77b4\"},\"line_color\":{\"value\":\"#1f77b4\"},\"size\":{\"units\":\"screen\",\"value\":10},\"x\":{\"field\":\"x\"},\"y\":{\"field\":\"y\"}},\"id\":\"4d0cc851-20db-4740-9bf3-6d716786aff7\",\"type\":\"Circle\"},{\"attributes\":{},\"id\":\"6811a0bd-4d8d-4f93-8a7a-02b5207201e0\",\"type\":\"WheelZoomTool\"},{\"attributes\":{\"plot\":null,\"text\":\"\"},\"id\":\"e340dc45-befb-4a7c-aa28-bfbb2bd1a9bf\",\"type\":\"Title\"},{\"attributes\":{},\"id\":\"fd6dfdbc-2014-4ec2-ac0b-b69b4dc0e9dc\",\"type\":\"BasicTickFormatter\"},{\"attributes\":{},\"id\":\"8e8191f9-c16e-4469-9565-303a7327ba20\",\"type\":\"ResetTool\"},{\"attributes\":{\"below\":[{\"id\":\"0c80df33-ef74-49fa-848b-b1e796dfdc0b\",\"type\":\"LinearAxis\"}],\"left\":[{\"id\":\"44f42ecb-10b5-4519-b6b5-2aeaf6ebe01e\",\"type\":\"LinearAxis\"}],\"plot_height\":400,\"plot_width\":400,\"renderers\":[{\"id\":\"0c80df33-ef74-49fa-848b-b1e796dfdc0b\",\"type\":\"LinearAxis\"},{\"id\":\"ad0362a9-431e-423d-981d-b43c38e548d8\",\"type\":\"Grid\"},{\"id\":\"44f42ecb-10b5-4519-b6b5-2aeaf6ebe01e\",\"type\":\"LinearAxis\"},{\"id\":\"203a8273-7f96-49e3-ac40-2108ebc6d9f4\",\"type\":\"Grid\"},{\"id\":\"c9f921c2-1f3c-47ce-9b38-9129a4258500\",\"type\":\"BoxAnnotation\"},{\"id\":\"a9d87e02-fbd4-4a0e-95b3-f203a56e04b7\",\"type\":\"GlyphRenderer\"}],\"title\":{\"id\":\"e340dc45-befb-4a7c-aa28-bfbb2bd1a9bf\",\"type\":\"Title\"},\"toolbar\":{\"id\":\"514c6c27-e240-407b-87f0-f3a80dd0f046\",\"type\":\"Toolbar\"},\"x_range\":{\"id\":\"3b6e7cf4-8123-4fac-bb9a-9f40e79d244f\",\"type\":\"DataRange1d\"},\"x_scale\":{\"id\":\"9512bc63-5b64-41d3-b9a5-e8d85edf0ccf\",\"type\":\"LinearScale\"},\"y_range\":{\"id\":\"0e588a96-5f84-4ed5-a63c-216d89898f07\",\"type\":\"DataRange1d\"},\"y_scale\":{\"id\":\"da64759c-7f4c-4dfe-a102-be0ae0cb70d6\",\"type\":\"LinearScale\"}},\"id\":\"59a7febd-ec17-49c7-ba21-e5f1f32bc64a\",\"subtype\":\"Figure\",\"type\":\"Plot\"},{\"attributes\":{\"callback\":null},\"id\":\"3b6e7cf4-8123-4fac-bb9a-9f40e79d244f\",\"type\":\"DataRange1d\"},{\"attributes\":{},\"id\":\"da64759c-7f4c-4dfe-a102-be0ae0cb70d6\",\"type\":\"LinearScale\"},{\"attributes\":{},\"id\":\"ffa0bc27-155d-4833-b0c2-a17abeb30e77\",\"type\":\"HelpTool\"},{\"attributes\":{\"fill_alpha\":{\"value\":0.1},\"fill_color\":{\"value\":\"#1f77b4\"},\"line_alpha\":{\"value\":0.1},\"line_color\":{\"value\":\"#1f77b4\"},\"size\":{\"units\":\"screen\",\"value\":10},\"x\":{\"field\":\"x\"},\"y\":{\"field\":\"y\"}},\"id\":\"2272cb44-253c-4f5b-9b23-de006cd561bb\",\"type\":\"Circle\"},{\"attributes\":{},\"id\":\"0f167f5f-6780-49e1-a64f-5c59feafd2d1\",\"type\":\"SaveTool\"},{\"attributes\":{\"overlay\":{\"id\":\"c9f921c2-1f3c-47ce-9b38-9129a4258500\",\"type\":\"BoxAnnotation\"}},\"id\":\"65b7c4b4-3911-45bb-9669-23d1316ff4be\",\"type\":\"BoxZoomTool\"},{\"attributes\":{},\"id\":\"5c59fb57-6148-4cc6-a036-9d69e85cf142\",\"type\":\"BasicTicker\"},{\"attributes\":{\"grid_line_color\":{\"value\":null},\"plot\":{\"id\":\"59a7febd-ec17-49c7-ba21-e5f1f32bc64a\",\"subtype\":\"Figure\",\"type\":\"Plot\"},\"ticker\":{\"id\":\"6c1cc22c-b0be-4919-8f91-e68c8a3faee8\",\"type\":\"BasicTicker\"}},\"id\":\"ad0362a9-431e-423d-981d-b43c38e548d8\",\"type\":\"Grid\"},{\"attributes\":{},\"id\":\"9512bc63-5b64-41d3-b9a5-e8d85edf0ccf\",\"type\":\"LinearScale\"},{\"attributes\":{\"formatter\":{\"id\":\"fd6dfdbc-2014-4ec2-ac0b-b69b4dc0e9dc\",\"type\":\"BasicTickFormatter\"},\"plot\":{\"id\":\"59a7febd-ec17-49c7-ba21-e5f1f32bc64a\",\"subtype\":\"Figure\",\"type\":\"Plot\"},\"ticker\":{\"id\":\"5c59fb57-6148-4cc6-a036-9d69e85cf142\",\"type\":\"BasicTicker\"}},\"id\":\"44f42ecb-10b5-4519-b6b5-2aeaf6ebe01e\",\"type\":\"LinearAxis\"},{\"attributes\":{\"callback\":null,\"column_names\":[\"x\",\"y\"],\"data\":{\"x\":[1,2,3,4,5],\"y\":[2,5,8,2,7]}},\"id\":\"e2f2fea3-71cf-4795-97a4-7b790f3b74bd\",\"type\":\"ColumnDataSource\"}],\"root_ids\":[\"59a7febd-ec17-49c7-ba21-e5f1f32bc64a\"]},\"title\":\"Bokeh Application\",\"version\":\"0.12.7\"}};\n",
       "            var render_items = [{\"docid\":\"87913bcd-bacd-4355-809a-b1fb485e50cb\",\"elementid\":\"0256b5c8-7816-47fc-813b-5cb755fcf871\",\"modelid\":\"59a7febd-ec17-49c7-ba21-e5f1f32bc64a\"}];\n",
       "            \n",
       "            Bokeh.embed.embed_items(docs_json, render_items);\n",
       "          };\n",
       "          if (document.readyState != \"loading\") fn();\n",
       "          else document.addEventListener(\"DOMContentLoaded\", fn);\n",
       "        })();\n",
       "      },\n",
       "      function(Bokeh) {\n",
       "      }\n",
       "    ];\n",
       "  \n",
       "    function run_inline_js() {\n",
       "      \n",
       "      if ((root.Bokeh !== undefined) || (force === true)) {\n",
       "        for (var i = 0; i < inline_js.length; i++) {\n",
       "          inline_js[i].call(root, root.Bokeh);\n",
       "        }if (force === true) {\n",
       "          display_loaded();\n",
       "        }} else if (Date.now() < root._bokeh_timeout) {\n",
       "        setTimeout(run_inline_js, 100);\n",
       "      } else if (!root._bokeh_failed_load) {\n",
       "        console.log(\"Bokeh: BokehJS failed to load within specified timeout.\");\n",
       "        root._bokeh_failed_load = true;\n",
       "      } else if (force !== true) {\n",
       "        var cell = $(document.getElementById(\"0256b5c8-7816-47fc-813b-5cb755fcf871\")).parents('.cell').data().cell;\n",
       "        cell.output_area.append_execute_result(NB_LOAD_WARNING)\n",
       "      }\n",
       "  \n",
       "    }\n",
       "  \n",
       "    if (root._bokeh_is_loading === 0) {\n",
       "      console.log(\"Bokeh: BokehJS loaded, going straight to plotting\");\n",
       "      run_inline_js();\n",
       "    } else {\n",
       "      load_libs(js_urls, function() {\n",
       "        console.log(\"Bokeh: BokehJS plotting callback run at\", now());\n",
       "        run_inline_js();\n",
       "      });\n",
       "    }\n",
       "  }(window));\n",
       "</script>"
      ]
     },
     "metadata": {},
     "output_type": "display_data"
    }
   ],
   "source": [
    "p = figure(plot_width=400, plot_height=400)\n",
    "p.circle([1,2,3,4,5], [2,5,8,2,7], size=10)\n",
    "\n",
    "# change just some things about the x-grid\n",
    "p.xgrid.grid_line_color = None\n",
    "\n",
    "# change just some things about the y-grid\n",
    "p.ygrid.band_fill_alpha = 0.1\n",
    "p.ygrid.band_fill_color = \"navy\"\n",
    "\n",
    "show(p)"
   ]
  },
  {
   "cell_type": "code",
   "execution_count": 15,
   "metadata": {
    "collapsed": true
   },
   "outputs": [],
   "source": [
    "# EXERCISE Create a plot of your own and customize several grid properties\n"
   ]
  }
 ],
 "metadata": {
  "kernelspec": {
   "display_name": "Python [conda root]",
   "language": "python",
   "name": "conda-root-py"
  },
  "language_info": {
   "codemirror_mode": {
    "name": "ipython",
    "version": 3
   },
   "file_extension": ".py",
   "mimetype": "text/x-python",
   "name": "python",
   "nbconvert_exporter": "python",
   "pygments_lexer": "ipython3",
   "version": "3.5.3"
  }
 },
 "nbformat": 4,
 "nbformat_minor": 1
}
