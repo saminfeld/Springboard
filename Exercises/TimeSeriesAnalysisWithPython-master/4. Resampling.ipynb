{
 "cells": [
  {
   "cell_type": "code",
   "execution_count": 1,
   "metadata": {
    "collapsed": true
   },
   "outputs": [],
   "source": [
    "import pandas as pd\n",
    "import numpy as np"
   ]
  },
  {
   "cell_type": "code",
   "execution_count": 2,
   "metadata": {},
   "outputs": [
    {
     "data": {
      "text/plain": [
       "2011-01-01 00:00:00    0\n",
       "2011-01-01 01:00:00    1\n",
       "2011-01-01 02:00:00    2\n",
       "2011-01-01 03:00:00    3\n",
       "2011-01-01 04:00:00    4\n",
       "Freq: H, dtype: int64"
      ]
     },
     "execution_count": 2,
     "metadata": {},
     "output_type": "execute_result"
    }
   ],
   "source": [
    "rng = pd.date_range('1/1/2011', periods=72, freq='H')\n",
    "ts = pd.Series(np.arange(0,len(rng)), index=rng)\n",
    "ts.head()"
   ]
  },
  {
   "cell_type": "code",
   "execution_count": 3,
   "metadata": {},
   "outputs": [
    {
     "data": {
      "text/plain": [
       "DatetimeIndex(['2011-01-01 00:00:00', '2011-01-01 01:00:00',\n",
       "               '2011-01-01 02:00:00', '2011-01-01 03:00:00',\n",
       "               '2011-01-01 04:00:00', '2011-01-01 05:00:00',\n",
       "               '2011-01-01 06:00:00', '2011-01-01 07:00:00',\n",
       "               '2011-01-01 08:00:00', '2011-01-01 09:00:00',\n",
       "               '2011-01-01 10:00:00', '2011-01-01 11:00:00',\n",
       "               '2011-01-01 12:00:00', '2011-01-01 13:00:00',\n",
       "               '2011-01-01 14:00:00', '2011-01-01 15:00:00',\n",
       "               '2011-01-01 16:00:00', '2011-01-01 17:00:00',\n",
       "               '2011-01-01 18:00:00', '2011-01-01 19:00:00',\n",
       "               '2011-01-01 20:00:00', '2011-01-01 21:00:00',\n",
       "               '2011-01-01 22:00:00', '2011-01-01 23:00:00',\n",
       "               '2011-01-02 00:00:00', '2011-01-02 01:00:00',\n",
       "               '2011-01-02 02:00:00', '2011-01-02 03:00:00',\n",
       "               '2011-01-02 04:00:00', '2011-01-02 05:00:00',\n",
       "               '2011-01-02 06:00:00', '2011-01-02 07:00:00',\n",
       "               '2011-01-02 08:00:00', '2011-01-02 09:00:00',\n",
       "               '2011-01-02 10:00:00', '2011-01-02 11:00:00',\n",
       "               '2011-01-02 12:00:00', '2011-01-02 13:00:00',\n",
       "               '2011-01-02 14:00:00', '2011-01-02 15:00:00',\n",
       "               '2011-01-02 16:00:00', '2011-01-02 17:00:00',\n",
       "               '2011-01-02 18:00:00', '2011-01-02 19:00:00',\n",
       "               '2011-01-02 20:00:00', '2011-01-02 21:00:00',\n",
       "               '2011-01-02 22:00:00', '2011-01-02 23:00:00',\n",
       "               '2011-01-03 00:00:00', '2011-01-03 01:00:00',\n",
       "               '2011-01-03 02:00:00', '2011-01-03 03:00:00',\n",
       "               '2011-01-03 04:00:00', '2011-01-03 05:00:00',\n",
       "               '2011-01-03 06:00:00', '2011-01-03 07:00:00',\n",
       "               '2011-01-03 08:00:00', '2011-01-03 09:00:00',\n",
       "               '2011-01-03 10:00:00', '2011-01-03 11:00:00',\n",
       "               '2011-01-03 12:00:00', '2011-01-03 13:00:00',\n",
       "               '2011-01-03 14:00:00', '2011-01-03 15:00:00',\n",
       "               '2011-01-03 16:00:00', '2011-01-03 17:00:00',\n",
       "               '2011-01-03 18:00:00', '2011-01-03 19:00:00',\n",
       "               '2011-01-03 20:00:00', '2011-01-03 21:00:00',\n",
       "               '2011-01-03 22:00:00', '2011-01-03 23:00:00'],\n",
       "              dtype='datetime64[ns]', freq='H')"
      ]
     },
     "execution_count": 3,
     "metadata": {},
     "output_type": "execute_result"
    }
   ],
   "source": [
    "rng = pd.date_range('1/1/2011', periods=72, freq='H')\n",
    "rng"
   ]
  },
  {
   "cell_type": "code",
   "execution_count": 22,
   "metadata": {},
   "outputs": [
    {
     "data": {
      "text/plain": [
       "2011-01-01 00:00:00    0\n",
       "2011-01-01 00:45:00    0\n",
       "2011-01-01 01:30:00    1\n",
       "2011-01-01 02:15:00    2\n",
       "2011-01-01 03:00:00    3\n",
       "Freq: 45T, dtype: int64"
      ]
     },
     "execution_count": 22,
     "metadata": {},
     "output_type": "execute_result"
    }
   ],
   "source": [
    "converted = ts.asfreq('45Min', method='pad')\n",
    "converted.head()"
   ]
  },
  {
   "cell_type": "code",
   "execution_count": 23,
   "metadata": {
    "collapsed": true
   },
   "outputs": [],
   "source": [
    "# Does asfreq change the # of rows?"
   ]
  },
  {
   "cell_type": "markdown",
   "metadata": {},
   "source": [
    "### YES"
   ]
  },
  {
   "cell_type": "code",
   "execution_count": 24,
   "metadata": {
    "collapsed": true
   },
   "outputs": [],
   "source": [
    "# What do the different methods do?\n",
    "# method : {‘backfill’, ‘bfill’, ‘pad’, ‘ffill’, None}"
   ]
  },
  {
   "cell_type": "markdown",
   "metadata": {},
   "source": [
    "### tells whether it should round undefined values to the previous value, or the following value"
   ]
  },
  {
   "cell_type": "code",
   "execution_count": 25,
   "metadata": {
    "collapsed": true
   },
   "outputs": [],
   "source": [
    "# Might any of these methods have pitfalls from a logical point of view?"
   ]
  },
  {
   "cell_type": "markdown",
   "metadata": {},
   "source": [
    "### Yes it could cause confusion"
   ]
  },
  {
   "cell_type": "code",
   "execution_count": 26,
   "metadata": {
    "collapsed": true
   },
   "outputs": [],
   "source": [
    "# What's the difference between going to a higher frequency and a lower frequency?"
   ]
  },
  {
   "cell_type": "code",
   "execution_count": 27,
   "metadata": {},
   "outputs": [
    {
     "data": {
      "text/plain": [
       "2011-01-01 00:00:00    0\n",
       "2011-01-01 01:30:00    2\n",
       "2011-01-01 03:00:00    3\n",
       "2011-01-01 04:30:00    5\n",
       "2011-01-01 06:00:00    6\n",
       "Freq: 90T, dtype: int64"
      ]
     },
     "execution_count": 27,
     "metadata": {},
     "output_type": "execute_result"
    }
   ],
   "source": [
    "converted = ts.asfreq('90Min', method = 'bfill')\n",
    "converted.head()"
   ]
  },
  {
   "cell_type": "code",
   "execution_count": 28,
   "metadata": {
    "collapsed": true
   },
   "outputs": [],
   "source": [
    "# What's different logically about going to a higher frequency vs a lower frequency? \n",
    "# What do you want to do when switching to a lower freqeuncy that is not logical when switching to a higher frequency?"
   ]
  },
  {
   "cell_type": "markdown",
   "metadata": {},
   "source": [
    "### when you go to a higher frequency, you are actually eliminating data\n",
    "### Resample"
   ]
  },
  {
   "cell_type": "code",
   "execution_count": 29,
   "metadata": {},
   "outputs": [
    {
     "data": {
      "text/plain": [
       "2011-01-01     276\n",
       "2011-01-02     852\n",
       "2011-01-03    1428\n",
       "Freq: D, dtype: int64"
      ]
     },
     "execution_count": 29,
     "metadata": {},
     "output_type": "execute_result"
    }
   ],
   "source": [
    "ts.resample('D').sum()"
   ]
  },
  {
   "cell_type": "code",
   "execution_count": null,
   "metadata": {
    "collapsed": true
   },
   "outputs": [],
   "source": [
    "# What if you want to downsample and you don't want to ffill or bfill?"
   ]
  },
  {
   "cell_type": "markdown",
   "metadata": {},
   "source": [
    "### make method None"
   ]
  },
  {
   "cell_type": "code",
   "execution_count": null,
   "metadata": {
    "collapsed": true
   },
   "outputs": [],
   "source": [
    "# What is the difference between .resample() and .asfreq()?"
   ]
  },
  {
   "cell_type": "markdown",
   "metadata": {},
   "source": [
    "### resampling gives an object "
   ]
  },
  {
   "cell_type": "code",
   "execution_count": 70,
   "metadata": {
    "collapsed": true
   },
   "outputs": [],
   "source": [
    "# What are some special things you can do with .resample() you can't do with .asfreq()?\n"
   ]
  },
  {
   "cell_type": "markdown",
   "metadata": {
    "collapsed": true
   },
   "source": [
    "### we can perform an aggsum functions like mean, count, st dev"
   ]
  },
  {
   "cell_type": "code",
   "execution_count": null,
   "metadata": {
    "collapsed": true
   },
   "outputs": [],
   "source": []
  }
 ],
 "metadata": {
  "kernelspec": {
   "display_name": "Python [default]",
   "language": "python",
   "name": "python3"
  },
  "language_info": {
   "codemirror_mode": {
    "name": "ipython",
    "version": 3
   },
   "file_extension": ".py",
   "mimetype": "text/x-python",
   "name": "python",
   "nbconvert_exporter": "python",
   "pygments_lexer": "ipython3",
   "version": "3.5.3"
  },
  "widgets": {
   "state": {},
   "version": "1.1.1"
  }
 },
 "nbformat": 4,
 "nbformat_minor": 1
}
